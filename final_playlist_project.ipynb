{
 "cells": [
  {
   "cell_type": "code",
   "execution_count": 226,
   "metadata": {},
   "outputs": [],
   "source": [
    "import requests\n",
    "import json\n",
    "import spotipy\n",
    "import spotipy.oauth2 as oauth2\n",
    "from spotipy.oauth2 import SpotifyClientCredentials\n",
    "import sys\n",
    "import spotipy.util as util\n",
    "from bs4 import BeautifulSoup as BS\n",
    "import spotipy_cred as cred"
   ]
  },
  {
   "cell_type": "markdown",
   "metadata": {},
   "source": [
    "## Spotify API calls utilizing Spotipy"
   ]
  },
  {
   "cell_type": "code",
   "execution_count": 227,
   "metadata": {},
   "outputs": [],
   "source": [
    "client_id = cred.id\n",
    "client_secret = cred.secret\n",
    "\n",
    "username = cred.user\n",
    "Playlist_id = '75yDQp4uFy8iUyyMCQ8IZ3'\n",
    "\n",
    "Redirect_uri = 'localhost:8888/callback/'\n",
    "\n",
    "scope = 'playlist-modify-public'"
   ]
  },
  {
   "cell_type": "code",
   "execution_count": 228,
   "metadata": {},
   "outputs": [],
   "source": [
    "#credentials for Client Credentials Flow\n",
    "\n",
    "credentials = spotipy.oauth2.SpotifyClientCredentials(client_id = client_id, client_secret = client_secret)\n",
    "spotify = spotipy.Spotify(client_credentials_manager=credentials)\n"
   ]
  },
  {
   "cell_type": "code",
   "execution_count": 200,
   "metadata": {},
   "outputs": [
    {
     "data": {
      "text/plain": [
      ]
     },
     "execution_count": 200,
     "metadata": {},
     "output_type": "execute_result"
    }
   ],
   "source": [
    "#Obtain API token for Authorization Code Flow\n",
    "\n",
    "util.prompt_for_user_token(username = username ,scope = 'playlist-modify-public',\n",
    "client_id= client_id ,client_secret= client_secret,redirect_uri='localhost:8888/callback/')\n",
    "\n"
   ]
  },
  {
   "cell_type": "code",
   "execution_count": 229,
   "metadata": {},
   "outputs": [],
   "source": [
    
   ]
  },
  {
   "cell_type": "markdown",
   "metadata": {},
   "source": [
    "## WebScraping Pitchfork"
   ]
  },
  {
   "cell_type": "code",
   "execution_count": 4,
   "metadata": {},
   "outputs": [],
   "source": [
    "url1 = 'https://www.albumoftheyear.org/genre/27-punk-rock/all/pitchfork/'\n",
    "url2 = 'https://www.albumoftheyear.org/genre/27-punk-rock/all/pitchfork/2/'"
   ]
  },
  {
   "cell_type": "code",
   "execution_count": 5,
   "metadata": {},
   "outputs": [],
   "source": [
    "def request_1(url):\n",
    "    response = requests.get(url)\n",
    "    print(response.status_code)\n",
    "    soup = BS(response.content, 'html.parser')\n",
    "    return soup"
   ]
  },
  {
   "cell_type": "code",
   "execution_count": 8,
   "metadata": {},
   "outputs": [
    {
     "name": "stdout",
     "output_type": "stream",
     "text": [
      "200\n",
      "200\n"
     ]
    }
   ],
   "source": [
    "page1 = request_1(url1)\n",
    "page2 = request_1(url2)"
   ]
  },
  {
   "cell_type": "code",
   "execution_count": 189,
   "metadata": {
    "collapsed": true,
    "jupyter": {
     "outputs_hidden": true
    }
   },
   "outputs": [
    {
     "data": {
      "text/plain": [
       "<!DOCTYPE html>\n",
       "\n",
       "<html lang=\"en-US\" xmlns=\"http://www.w3.org/1999/xhtml\" xmlns:fb=\"http://www.facebook.com/2008/fbml\">\n",
       "<head>\n",
       "<meta content=\"text/html;charset=utf-8\" http-equiv=\"Content-Type\"/>\n",
       "<title>Pitchfork's Best Punk Rock Albums of All Time - Album of The Year</title>\n",
       "<meta content=\"Pitchfork's Best Punk Rock Albums of All Time. View reviews, ratings, news &amp; more regarding your favorite band.\" name=\"Description\"/>\n",
       "<meta content=\"Album of The Year\" property=\"og:site_name\">\n",
       "<meta content=\"Pitchfork's Best Punk Rock Albums of All Time\" property=\"og:title\"/>\n",
       "<meta content=\"article\" property=\"og:type\"/>\n",
       "<meta content=\"https://cdn.albumoftheyear.org/album/6047-pink-flag.jpg\" property=\"og:image\"/>\n",
       "<link href=\"https://cdn.albumoftheyear.org/album/6047-pink-flag.jpg\" rel=\"image_src\"/>\n",
       "<meta content=\"8605207\" property=\"fb:admins\"/>\n",
       "<meta content=\"387133090556\" property=\"fb:app_id\"/>\n",
       "<meta content=\"summary_large_image\" name=\"twitter:card\"/>\n",
       "<meta content=\"@aoty\" name=\"twitter:site\"/>\n",
       "<meta content=\"https://www.albumoftheyear.org/genre/27-punk-rock/all/pitchfork/\" name=\"twitter:url\"/>\n",
       "<meta content=\"Pitchfork's Best Punk Rock Albums of All Time\" name=\"twitter:title\"/>\n",
       "<meta content=\"Pitchfork's Best Punk Rock Albums of All Time. View reviews, ratings, news &amp; more regarding your favorite band.\" name=\"twitter:description\"/>\n",
       "<meta content=\"https://cdn.albumoftheyear.org/album/6047-pink-flag.jpg\" name=\"twitter:image\"/>\n",
       "<link href=\"https://plus.google.com/117128855637035091905\" rel=\"publisher\"/>\n",
       "<meta content=\"true\" itemprop=\"mainContentOfPage\">\n",
       "<style type=\"text/css\">\n",
       ".moreGenre {\n",
       "\tfont-size: .75em; \n",
       "\tfloat: left; \n",
       "\tmargin: 0 5px 5px 0; \n",
       "\tpadding: 2px 5px; \n",
       "\tbackground-color:#444;\n",
       "\ttext-transform: uppercase;\n",
       "}\n",
       ".moreGenre A{text-decoration:none;color:#eee;}\n",
       ".moreGenre A:Visited{color:#eee; text-decoration:none;}\n",
       ".moreGenre A:Hover{color:#eee; text-decoration:underline;}\n",
       "</style>\n",
       "<link href=\"/style20191201.css\" rel=\"stylesheet\" type=\"text/css\"/>\n",
       "<meta content=\"width=device-width, initial-scale=1.0, user-scalable=no\" name=\"viewport\"/>\n",
       "<link href=\"https://fonts.googleapis.com/css?family=Open+Sans:400,700|Roboto:400,400i,700\" rel=\"stylesheet\"/>\n",
       "<link href=\"/images/favicon.png\" rel=\"shortcut icon\" type=\"image/x-icon\"/>\n",
       "<link crossorigin=\"anonymous\" href=\"https://pro.fontawesome.com/releases/v5.11.2/css/all.css\" integrity=\"sha384-zrnmn8R8KkWl12rAZFt4yKjxplaDaT7/EUkKm7AovijfrQItFWR7O/JJn4DAa/gx\" rel=\"stylesheet\"/>\n",
       "<link href=\"//cdnjs.cloudflare.com/ajax/libs/cookieconsent2/3.1.0/cookieconsent.min.css\" rel=\"stylesheet\" type=\"text/css\">\n",
       "<script src=\"//cdnjs.cloudflare.com/ajax/libs/cookieconsent2/3.1.0/cookieconsent.min.js\"></script>\n",
       "<script>\n",
       "window.addEventListener(\"load\", function(){\n",
       "window.cookieconsent.initialise({\n",
       "  \"palette\": {\n",
       "    \"popup\": {\n",
       "      \"background\": \"#e4e6e8\",\n",
       "      \"text\": \"#222222\"\n",
       "    },\n",
       "    \"button\": {\n",
       "      \"background\": \"#323232\",\n",
       "      \"text\": \"#ffffff\"\n",
       "    }\n",
       "  },\n",
       "  \"position\": \"top\"\n",
       "})});\n",
       "</script>\n",
       "<script>(function(w,d,s,l,i){w[l]=w[l]||[];w[l].push({'gtm.start':\n",
       "new Date().getTime(),event:'gtm.js'});var f=d.getElementsByTagName(s)[0],\n",
       "j=d.createElement(s),dl=l!='dataLayer'?'&l='+l:'';j.async=true;j.src=\n",
       "'https://www.googletagmanager.com/gtm.js?id='+i+dl;f.parentNode.insertBefore(j,f);\n",
       "})(window,document,'script','dataLayer','GTM-TPD5DD');</script>\n",
       "<script data-cfasync=\"false\" type=\"text/javascript\">\n",
       "    var freestar = freestar || {};\n",
       "    freestar.hitTime = Date.now();\n",
       "    freestar.queue = freestar.queue || [];\n",
       "    freestar.config = freestar.config || {};\n",
       "    freestar.debug = window.location.search.indexOf('fsdebug') === -1 ? false : true;\n",
       "\n",
       "    // Tag IDs set here, must match Tags served in the Body for proper setup\n",
       "    freestar.config.enabled_slots = [\n",
       "\"AlbumOfTheYear_728x90_970x90_970x250_320x50_ATF\",\n",
       "\t\t\t\"AlbumOfTheYear_300x250_300x600_BTF\",\n",
       "\t\t\t\"AlbumOfTheYear_300x250_BTF_2\",\n",
       "\t\t\t\"AlbumOfTheYear_1x1_skin\"\n",
       "\t\t    ];\n",
       "\n",
       "    !function(a,b){var c=b.getElementsByTagName(\"script\")[0],d=b.createElement(\"script\"),e=\"https://a.pub.network/albumoftheyear\";e+=freestar.debug?\"/qa/pubfig.min.js\":\"/pubfig.min.js\",d.async=!0,d.src=e,c.parentNode.insertBefore(d,c)}(window,document);\n",
       "\n",
       "</script>\n",
       "<script type=\"text/javascript\">\n",
       "  window._taboola = window._taboola || [];\n",
       "  _taboola.push({article:'auto'});\n",
       "  !function (e, f, u, i) {\n",
       "    if (!document.getElementById(i)){\n",
       "      e.async = 1;\n",
       "      e.src = u;\n",
       "      e.id = i;\n",
       "      f.parentNode.insertBefore(e, f);\n",
       "    }\n",
       "  }(document.createElement('script'),\n",
       "  document.getElementsByTagName('script')[0],\n",
       "  '//cdn.taboola.com/libtrc/albumoftheyear-network/loader.js',\n",
       "  'tb_loader_script');\n",
       "  if(window.performance && typeof window.performance.mark == 'function')\n",
       "    {window.performance.mark('tbl_ic');}\n",
       "</script>\n",
       "</link></meta></meta></head>\n",
       "<body id=\"graybg\">\n",
       "<noscript><iframe height=\"0\" src=\"https://www.googletagmanager.com/ns.html?id=GTM-TPD5DD\" style=\"display:none;visibility:hidden\" width=\"0\"></iframe></noscript>\n",
       "<div id=\"fb-root\"></div>\n",
       "<script>(function(d, s, id) {\n",
       "  var js, fjs = d.getElementsByTagName(s)[0];\n",
       "  if (d.getElementById(id)) return;\n",
       "  js = d.createElement(s); js.id = id;\n",
       "  js.src = \"//connect.facebook.net/en_US/sdk.js#xfbml=1&appId=387133090556&version=v2.0\";\n",
       "  fjs.parentNode.insertBefore(js, fjs);\n",
       "}(document, 'script', 'facebook-jssdk'));</script>\n",
       "<div class=\"header\" id=\"header\">\n",
       "<div id=\"content\">\n",
       "<div class=\"logoHead\"><a href=\"/\"><img alt=\"Album of The Year\" src=\"https://cdn.albumoftheyear.org/images/title-2015.png\"/></a></div>\n",
       "<div class=\"mobileProfile\"><a href=\"/account/\"><img src=\"https://cdn.albumoftheyear.org/user/thumbs/default.jpg\"/></a></div> <div class=\"navButton\" id=\"mobileNav\"><a href=\"#\" onclick=\"toggle_visibility('searchContainer', 'nav'); changeClass(); return false;\"></a></div>\n",
       "<div class=\"searchContainer\" id=\"searchContainer\">\n",
       "<form action=\"/search/\" id=\"search\">\n",
       "<input autocomplete=\"off\" class=\"searchBox\" id=\"searchT\" name=\"q\" placeholder=\"Search albums, artists, genres etc.\" type=\"text\"/>\n",
       "<span class=\"searchImage\"><a href=\"#\" onclick=\"document.getElementById('search').submit()\" rel=\"nofollow\"><i class=\"far fa-search\" style=\"vertical-align: middle;\"></i></a></span>\n",
       "</form>\n",
       "</div>\n",
       "<div id=\"searchSuggestions\"></div>\n",
       "<a href=\"http://www.facebook.com/albumoftheyear\" rel=\"nofollow\" target=\"_blank\"><div class=\"facebookHead\"><i class=\"fab fa-facebook-square\"></i></div></a>\n",
       "<a href=\"http://www.twitter.com/aoty\" rel=\"nofollow\" target=\"_blank\"><div class=\"twitterHead\"><i class=\"fab fa-twitter-square\"></i></div></a>\n",
       "<div class=\"clear\"></div>\n",
       "</div>\n",
       "</div>\n",
       "<div class=\"nav\" id=\"nav\">\n",
       "<div id=\"content\">\n",
       "<div class=\"navBlock\"><a href=\"/ratings/6-highest-rated/2020/1\">Best Albums</a></div>\n",
       "<div class=\"navBlock\"><a href=\"/discover/\">Discover</a></div>\n",
       "<div class=\"navBlock\"><a href=\"/releases/\">New Releases</a></div>\n",
       "<div class=\"navBlock\"><a href=\"/lists.php\">Lists</a></div>\n",
       "<div class=\"navBlock noTablet\"><a href=\"/genre.php\">Genres</a></div>\n",
       "<div class=\"navBlock noTablet\"><a href=\"/l/newsworthy/\">News</a></div>\n",
       "<div class=\"navBlock noTablet\"><a href=\"/users/\">Community</a></div>\n",
       "<div class=\"navBlock signIn\"><a href=\"/account/\">Sign In</a></div><div class=\"navSocialMobile\">\n",
       "<a href=\"https://www.facebook.com/albumoftheyear\" rel=\"nofollow\" target=\"_blank\"><i class=\"fab fa-facebook-square\"></i></a>\n",
       "<a href=\"https://www.twitter.com/aoty\" rel=\"nofollow\" target=\"_blank\"><i class=\"fab fa-twitter-square\"></i></a>\n",
       "<a href=\"https://open.spotify.com/user/aoty\" rel=\"nofollow\" target=\"_blank\"><i class=\"fab fa-spotify\"></i></a>\n",
       "</div>\n",
       "</div> </div>\n",
       "<div align=\"center\" style=\"display: block !important; margin: 15px auto; text-align:center; overflow: hidden;\">\n",
       "<div align=\"center\" id=\"AlbumOfTheYear_728x90_970x90_970x250_320x50_ATF\">\n",
       "<script data-cfasync=\"false\" type=\"text/javascript\">\n",
       "\t\t\t\tfreestar.queue.push(function () { googletag.display('AlbumOfTheYear_728x90_970x90_970x250_320x50_ATF'); });\n",
       "\t\t\t</script>\n",
       "</div>\n",
       "</div>\n",
       "<div id=\"centerContent\" itemscope=\"\" itemtype=\"http://schema.org/ItemList\"><div class=\"fullWidth\"><div class=\"selectRow\"><a href=\"/publication/1-pitchfork/\"><div class=\"selectBox\">Overview</div></a><div class=\"selectBox selected\">Best Albums</div><a href=\"/ratings/worst/2020/1\"><div class=\"selectBox\">Worst Albums</div></a><a href=\"/publication/1-pitchfork/reviews/\"><div class=\"selectBox\">Reviews</div></a><a href=\"/publication/1-pitchfork/lists/\"><div class=\"selectBox\">Lists</div></a><a href=\"/publication/1-pitchfork/perfect/\"><div class=\"selectBox\">Perfect Scores</div></a></div><div class=\"publicationHeader\"><div class=\"logo\"><a href=\"/publication/1-pitchfork/\"><img alt=\"Pitchfork\" src=\"https://cdn.albumoftheyear.org/publication/pitchfork-sq.jpg\"/></a></div><h1 class=\"headline\" itemprop=\"name\">Pitchfork</h1><a href=\"/account/\"><div class=\"follow\">Follow</div></a><div class=\"pubSubHeadline\"><div><a class=\"gray\" href=\"//pitchfork.com\" target=\"_blank\">pitchfork.com</a></div><div><img src=\"https://cdn.albumoftheyear.org/images/twitter_sm.png\"/><a class=\"twitter\" href=\"//www.twitter.com/pitchfork\" target=\"_blank\"><span>@</span>pitchfork</a></div></div><div class=\"clear\"></div></div><div class=\"subHeadline\">Highest Rated Punk Rock Albums of All Time</div><div class=\"thirdPartyLinks\"><div class=\"socialButtons left\"><a class=\"socialShare\" href=\"https://www.facebook.com/dialog/share?app_id=387133090556&amp;display=popup&amp;href=https%3A%2F%2Fwww.albumoftheyear.org%2Fgenre%2F27-punk-rock%2Fall%2Fpitchfork%2F&amp;redirect_uri=https%3A%2F%2Ffacebook.com\" target=\"_blank\"><div class=\"fbShare\"><img src=\"https://cdn.albumoftheyear.org/images/fbShare-color.png\"/></div></a><a class=\"socialShare\" href=\"https://twitter.com/intent/tweet?text=Pitchfork%27s+Best+Punk+Rock+Albums+of+All+Time&amp;url=https%3A%2F%2Fwww.albumoftheyear.org%2Fgenre%2F27-punk-rock%2Fall%2Fpitchfork%2F&amp;via=aoty\" target=\"_blank\"><div class=\"twitterShare\"><img src=\"https://cdn.albumoftheyear.org/images/twitterShare-color.png\"/></div></a></div><div class=\"clear\"></div></div><div class=\"filterRow\"><div class=\"menuDropText\">Decade</div><ul class=\"menuDrop\"><li class=\"menuDropSelected\" id=\"decade\"><div style=\"padding-left:8px;\">All Time<div class=\"menuDropArrow\"> </div></div><ul><li class=\"current\">All</li><li><a href=\"/genre/27-punk-rock/2020s/pitchfork/\">2020s</a></li><li><a href=\"/genre/27-punk-rock/2010s/pitchfork/\">2010s</a></li><li><a href=\"/genre/27-punk-rock/2000s/pitchfork/\">2000s</a></li><li><a href=\"/genre/27-punk-rock/1990s/pitchfork/\">1990s</a></li><li><a href=\"/genre/27-punk-rock/1980s/pitchfork/\">1980s</a></li><li><a href=\"/genre/27-punk-rock/1970s/pitchfork/\">1970s</a></li><li><a href=\"/genre/27-punk-rock/1960s/pitchfork/\">1960s</a></li></ul></li></ul><div class=\"menuDropText left\">Genre</div><ul class=\"menuDrop\"><li class=\"menuDropSelected\" id=\"genre\"><div style=\"padding-left:8px;\">Punk Rock<div class=\"menuDropArrow\"> </div></div><ul class=\"fullDrop\" style=\"background-color: #222;\"><li style=\"float:left;\"><ul style=\"position:relative;\"><li style=\"font-weight:bold;\"><a href=\"/ratings/1-pitchfork-highest-rated/all/1\">All</a></li>\n",
       "<li><li><a href=\"/genre/2-alternative-rock/all/pitchfork/\">Alternative Rock</a></li>\n",
       "</li><li><li><a href=\"/genre/34-ambient/all/pitchfork/\">Ambient</a></li>\n",
       "</li><li><li><a href=\"/genre/141-art-pop/all/pitchfork/\">Art Pop</a></li>\n",
       "</li><li><li><a href=\"/genre/39-dream-pop/all/pitchfork/\">Dream Pop</a></li>\n",
       "</li><li><li><a href=\"/genre/6-electronic/all/pitchfork/\">Electronic</a></li>\n",
       "</li><li><li><a href=\"/genre/31-electropop/all/pitchfork/\">Electropop</a></li>\n",
       "</li><li><li><a href=\"/genre/9-experimental/all/pitchfork/\">Experimental</a></li>\n",
       "</li><li><li><a href=\"/genre/5-folk/all/pitchfork/\">Folk</a></li>\n",
       "</li><li><li><a href=\"/genre/3-hip-hop/all/pitchfork/\">Hip Hop</a></li>\n",
       "</li><li><li><a href=\"/genre/53-house/all/pitchfork/\">House</a></li>\n",
       "</li><li><li><a href=\"/genre/16-indie-folk/all/pitchfork/\">Indie Folk</a></li>\n",
       "</li><li><li><a href=\"/genre/4-indie-pop/all/pitchfork/\">Indie Pop</a></li>\n",
       "</li></ul></li><li style=\"float:left;\"><ul style=\"position:relative;\"><li><li><a href=\"/genre/1-indie-rock/all/pitchfork/\">Indie Rock</a></li>\n",
       "</li><li><li><a href=\"/genre/40-metal/all/pitchfork/\">Metal</a></li>\n",
       "</li><li><li><a href=\"/genre/15-pop/all/pitchfork/\">Pop</a></li>\n",
       "</li><li><li><a href=\"/genre/103-pop-rock/all/pitchfork/\">Pop Rock</a></li>\n",
       "</li><li><li><a href=\"/genre/23-post-punk/all/pitchfork/\">Post-Punk</a></li>\n",
       "</li><li><li><a href=\"/genre/46-psychedelic/all/pitchfork/\">Psychedelic</a></li>\n",
       "</li><li><li><a href=\"/genre/30-psychedelic-rock/all/pitchfork/\">Psychedelic Rock</a></li>\n",
       "</li><li><li><a href=\"/genre/22-r-and-b/all/pitchfork/\">R&amp;B</a></li>\n",
       "</li><li><li><a href=\"/genre/7-rock/all/pitchfork/\">Rock</a></li>\n",
       "</li><li><li><a href=\"/genre/37-singer-songwriter/all/pitchfork/\">Singer-Songwriter</a></li>\n",
       "</li><li><li><a href=\"/genre/19-soul/all/pitchfork/\">Soul</a></li>\n",
       "</li><li><li><a href=\"/genre/38-synthpop/all/pitchfork/\">Synthpop</a></li>\n",
       "</li><li><li><a href=\"/genre/213-trap-rap/all/pitchfork/\">Trap Rap</a></li>\n",
       "</li></ul></li></ul></li></ul></div></div><div class=\"flexContainer\"><div class=\"wideLeft alignTop\"><meta content=\"Descending\" itemprop=\"itemListOrder\"><div class=\"albumListRow\"><h2 class=\"albumListTitle\"><span itemprop=\"itemListElement\"><span class=\"albumListRank\">1. </span><a href=\"/album/6047-wire-pink-flag.php\">Wire - Pink Flag</a></span></h2>\n",
       "<div class=\"albumListCover\"><a href=\"/album/6047-wire-pink-flag.php\"><img alt=\"Wire - Pink Flag\" class=\"lazyload\" data-src=\"https://cdn.albumoftheyear.org/album/thumbs/6047-pink-flag.jpg\" src=\"https://cdn.albumoftheyear.org/images/white.gif\"/></a></div>\n",
       "<div class=\"albumListDate\">December 1, 1977</div>\n",
       "<div class=\"albumListScoreContainer\"><div class=\"scoreHeader\">Score</div><div class=\"scoreValueContainer\"><div class=\"scoreValue\">100</div><div class=\"albumReviewRatingBar green\"><div class=\"green\" style=\"width:100%;\"></div></div></div>\n",
       "<div class=\"scoreText\"><a class=\"gray\" href=\"http://pitchfork.com/reviews/albums/11866-pink-flag-chairs-missing-154/\" target=\"_blank\">Source →</a></div><div class=\"clear\"></div></div><div class=\"clear\"></div><div class=\"albumListLinks\"><a href=\"http://www.amazon.com/gp/redirect.html?ie=UTF8&amp;location=http%3A%2F%2Fwww.amazon.com%2Fs%3Fie%3DUTF8%26x%3D0%26ref_%3Dnb%5Fsb%5Fnoss%26y%3D0%26field-keywords%3Dwire%2520pink%2520flag%26url%3Dsearch-alias%253Daps&amp;tag=albumoftheyear-20&amp;linkCode=ur2&amp;camp=1789&amp;creative=390957\" rel=\"nofollow\" target=\"_blank\"><div class=\"amazon\"><i class=\"fab fa-amazon\"></i><span>Amazon</span></div></a><a href=\"https://itunes.apple.com/us/album/pink-flag-remastered/id693279616?uo=4&amp;at=10l4PB&amp;app=itunes\" rel=\"nofollow\" target=\"blank\"><div class=\"iTunes\"><i class=\"fab fa-itunes-note\"></i><span>iTunes</span></div></a><a href=\"https://itunes.apple.com/us/album/pink-flag-remastered/id693279616?uo=4&amp;at=10l4PB&amp;ct=bestAlbumsAM\" rel=\"nofollow\" target=\"blank\"><div class=\"appleMusic\"><i class=\"fab fa-apple\"></i><span>Music</span></div></a><a href=\"http://open.spotify.com/album/2XypKUg8tyn0ZRxxJwrxnP\" rel=\"nofollow\" target=\"_blank\"><div class=\"spotify\"><i class=\"fab fa-spotify\"></i><span>Spotify</span></div></a></div></div><div class=\"albumListRow\"><h2 class=\"albumListTitle\"><span itemprop=\"itemListElement\"><span class=\"albumListRank\">2. </span><a href=\"/album/4996-the-clash-london-calling.php\">The Clash - London Calling</a></span></h2>\n",
       "<div class=\"albumListCover\"><a href=\"/album/4996-the-clash-london-calling.php\"><img alt=\"The Clash - London Calling\" class=\"lazyload\" data-src=\"https://cdn.albumoftheyear.org/album/thumbs/london-calling.jpg\" src=\"https://cdn.albumoftheyear.org/images/white.gif\"/></a></div>\n",
       "<div class=\"albumListDate\">December 14, 1979</div>\n",
       "<div class=\"albumListScoreContainer\"><div class=\"scoreHeader\">Score</div><div class=\"scoreValueContainer\"><div class=\"scoreValue\">100</div><div class=\"albumReviewRatingBar green\"><div class=\"green\" style=\"width:100%;\"></div></div></div>\n",
       "<div class=\"scoreText\"><a class=\"gray\" href=\"http://pitchfork.com/reviews/albums/1490-london-calling-25th-anniversary-legacy-edition/\" target=\"_blank\">Source →</a></div><div class=\"clear\"></div></div><div class=\"clear\"></div><div class=\"albumListLinks\"><a href=\"http://www.amazon.com/gp/redirect.html?ie=UTF8&amp;location=http%3A%2F%2Fwww.amazon.com%2Fs%3Fie%3DUTF8%26x%3D0%26ref_%3Dnb%5Fsb%5Fnoss%26y%3D0%26field-keywords%3Dthe%2520clash%2520london%2520calling%26url%3Dsearch-alias%253Daps&amp;tag=albumoftheyear-20&amp;linkCode=ur2&amp;camp=1789&amp;creative=390957\" rel=\"nofollow\" target=\"_blank\"><div class=\"amazon\"><i class=\"fab fa-amazon\"></i><span>Amazon</span></div></a><a href=\"https://itunes.apple.com/us/album/london-calling/id152996781?uo=4&amp;at=10l4PB&amp;app=itunes\" rel=\"nofollow\" target=\"blank\"><div class=\"iTunes\"><i class=\"fab fa-itunes-note\"></i><span>iTunes</span></div></a><a href=\"https://itunes.apple.com/us/album/london-calling/id152996781?uo=4&amp;at=10l4PB&amp;ct=bestAlbumsAM\" rel=\"nofollow\" target=\"blank\"><div class=\"appleMusic\"><i class=\"fab fa-apple\"></i><span>Music</span></div></a><a href=\"http://open.spotify.com/album/5sToefz0yoJSOK9jxxUcgY\" rel=\"nofollow\" target=\"_blank\"><div class=\"spotify\"><i class=\"fab fa-spotify\"></i><span>Spotify</span></div></a></div></div><div class=\"albumListRow\"><h2 class=\"albumListTitle\"><span itemprop=\"itemListElement\"><span class=\"albumListRank\">3. </span><a href=\"/album/10744-x-ray-spex-germ-free-adolescents.php\">X-Ray Spex - Germ Free Adolescents</a></span></h2>\n",
       "<div class=\"albumListCover\"><a href=\"/album/10744-x-ray-spex-germ-free-adolescents.php\"><img alt=\"X-Ray Spex - Germ Free Adolescents\" class=\"lazyload\" data-src=\"https://cdn.albumoftheyear.org/album/thumbs/10744-germ-free-adolescents.jpg\" src=\"https://cdn.albumoftheyear.org/images/white.gif\"/></a></div>\n",
       "<div class=\"albumListDate\">November 10, 1978</div>\n",
       "<div class=\"albumListScoreContainer\"><div class=\"scoreHeader\">Score</div><div class=\"scoreValueContainer\"><div class=\"scoreValue\">100</div><div class=\"albumReviewRatingBar green\"><div class=\"green\" style=\"width:100%;\"></div></div></div>\n",
       "<div class=\"scoreText\"><a class=\"gray\" href=\"http://pitchfork.com/reviews/albums/22316-germfree-adolescents/\" target=\"_blank\">Source →</a></div><div class=\"clear\"></div></div><div class=\"clear\"></div><div class=\"albumListLinks\"><a href=\"http://www.amazon.com/gp/redirect.html?ie=UTF8&amp;location=http%3A%2F%2Fwww.amazon.com%2Fs%3Fie%3DUTF8%26x%3D0%26ref_%3Dnb%5Fsb%5Fnoss%26y%3D0%26field-keywords%3Dx%2520ray%2520spex%2520germ%2520free%2520adolescents%26url%3Dsearch-alias%253Daps&amp;tag=albumoftheyear-20&amp;linkCode=ur2&amp;camp=1789&amp;creative=390957\" rel=\"nofollow\" target=\"_blank\"><div class=\"amazon\"><i class=\"fab fa-amazon\"></i><span>Amazon</span></div></a><a href=\"https://itunes.apple.com/us/album/germ-free-adolescents/id682540463?uo=4&amp;at=10l4PB&amp;app=itunes\" rel=\"nofollow\" target=\"blank\"><div class=\"iTunes\"><i class=\"fab fa-itunes-note\"></i><span>iTunes</span></div></a><a href=\"https://itunes.apple.com/us/album/germ-free-adolescents/id682540463?uo=4&amp;at=10l4PB&amp;ct=bestAlbumsAM\" rel=\"nofollow\" target=\"blank\"><div class=\"appleMusic\"><i class=\"fab fa-apple\"></i><span>Music</span></div></a><a href=\"http://open.spotify.com/album/0B9F4PVtJGSaQSQRs044Dl\" rel=\"nofollow\" target=\"_blank\"><div class=\"spotify\"><i class=\"fab fa-spotify\"></i><span>Spotify</span></div></a></div></div><div class=\"albumListRow\"><h2 class=\"albumListTitle\"><span itemprop=\"itemListElement\"><span class=\"albumListRank\">4. </span><a href=\"/album/6334-minutemen-double-nickels-on-the-dime.php\">Minutemen - Double Nickels on the Dime</a></span></h2>\n",
       "<div class=\"albumListCover\"><a href=\"/album/6334-minutemen-double-nickels-on-the-dime.php\"><img alt=\"Minutemen - Double Nickels on the Dime\" class=\"lazyload\" data-src=\"https://cdn.albumoftheyear.org/album/thumbs/6334-double-nickels-on-the-dime.jpg\" src=\"https://cdn.albumoftheyear.org/images/white.gif\"/></a></div>\n",
       "<div class=\"albumListDate\">July 1, 1984</div>\n",
       "<div class=\"albumListScoreContainer\"><div class=\"scoreHeader\">Score</div><div class=\"scoreValueContainer\"><div class=\"scoreValue\">95</div><div class=\"albumReviewRatingBar green\"><div class=\"green\" style=\"width:95%;\"></div></div></div>\n",
       "<div class=\"scoreText\"><a class=\"gray\" href=\"http://pitchfork.com/reviews/albums/22506-double-nickels-on-the-dime/\" target=\"_blank\">Source →</a></div><div class=\"clear\"></div></div><div class=\"clear\"></div><div class=\"albumListLinks\"><a href=\"http://www.amazon.com/gp/redirect.html?ie=UTF8&amp;location=http%3A%2F%2Fwww.amazon.com%2Fs%3Fie%3DUTF8%26x%3D0%26ref_%3Dnb%5Fsb%5Fnoss%26y%3D0%26field-keywords%3Dminutemen%2520double%2520nickels%2520on%2520the%2520dime%26url%3Dsearch-alias%253Daps&amp;tag=albumoftheyear-20&amp;linkCode=ur2&amp;camp=1789&amp;creative=390957\" rel=\"nofollow\" target=\"_blank\"><div class=\"amazon\"><i class=\"fab fa-amazon\"></i><span>Amazon</span></div></a><a href=\"https://itunes.apple.com/us/album/double-nickels-on-the-dime/id117012391?uo=4&amp;at=10l4PB&amp;app=itunes\" rel=\"nofollow\" target=\"blank\"><div class=\"iTunes\"><i class=\"fab fa-itunes-note\"></i><span>iTunes</span></div></a><a href=\"https://itunes.apple.com/us/album/double-nickels-on-the-dime/id117012391?uo=4&amp;at=10l4PB&amp;ct=bestAlbumsAM\" rel=\"nofollow\" target=\"blank\"><div class=\"appleMusic\"><i class=\"fab fa-apple\"></i><span>Music</span></div></a><a href=\"http://open.spotify.com/album/5viZ5HyYtV0wafK7DoXmgF\" rel=\"nofollow\" target=\"_blank\"><div class=\"spotify\"><i class=\"fab fa-spotify\"></i><span>Spotify</span></div></a></div></div><div class=\"albumListRow\"><h2 class=\"albumListTitle\"><span itemprop=\"itemListElement\"><span class=\"albumListRank\">5. </span><a href=\"/album/15921-buzzcocks-spiral-scratch.php\">Buzzcocks - Spiral Scratch</a></span></h2>\n",
       "<div class=\"albumListCover\"><a href=\"/album/15921-buzzcocks-spiral-scratch.php\"><img alt=\"Buzzcocks - Spiral Scratch\" class=\"lazyload\" data-src=\"https://cdn.albumoftheyear.org/album/thumbs/15921-spiral-scratch.jpg\" src=\"https://cdn.albumoftheyear.org/images/white.gif\"/></a></div>\n",
       "<div class=\"albumListDate\">January 29, 1977</div>\n",
       "<div class=\"albumListScoreContainer\"><div class=\"scoreHeader\">Score</div><div class=\"scoreValueContainer\"><div class=\"scoreValue\">95</div><div class=\"albumReviewRatingBar green\"><div class=\"green\" style=\"width:95%;\"></div></div></div>\n",
       "<div class=\"scoreText\"><a class=\"gray\" href=\"http://pitchfork.com/reviews/albums/22944-times-upspiral-scratch/\" target=\"_blank\">Source →</a></div><div class=\"clear\"></div></div><div class=\"clear\"></div><div class=\"albumListLinks\"><a href=\"http://www.amazon.com/gp/redirect.html?ie=UTF8&amp;location=http%3A%2F%2Fwww.amazon.com%2Fs%3Fie%3DUTF8%26x%3D0%26ref_%3Dnb%5Fsb%5Fnoss%26y%3D0%26field-keywords%3Dbuzzcocks%2520spiral%2520scratch%26url%3Dsearch-alias%253Daps&amp;tag=albumoftheyear-20&amp;linkCode=ur2&amp;camp=1789&amp;creative=390957\" rel=\"nofollow\" target=\"_blank\"><div class=\"amazon\"><i class=\"fab fa-amazon\"></i><span>Amazon</span></div></a><a href=\"https://itunes.apple.com/us/album/spiral-scratch-ep/id693647918?uo=4&amp;at=10l4PB&amp;app=itunes\" rel=\"nofollow\" target=\"blank\"><div class=\"iTunes\"><i class=\"fab fa-itunes-note\"></i><span>iTunes</span></div></a><a href=\"https://itunes.apple.com/us/album/spiral-scratch-ep/id693647918?uo=4&amp;at=10l4PB&amp;ct=bestAlbumsAM\" rel=\"nofollow\" target=\"blank\"><div class=\"appleMusic\"><i class=\"fab fa-apple\"></i><span>Music</span></div></a></div></div><div class=\"albumListRow\"><h2 class=\"albumListTitle\"><span itemprop=\"itemListElement\"><span class=\"albumListRank\">6. </span><a href=\"/album/6051-ramones-leave-home.php\">Ramones - Leave Home</a></span></h2>\n",
       "<div class=\"albumListCover\"><a href=\"/album/6051-ramones-leave-home.php\"><img alt=\"Ramones - Leave Home\" class=\"lazyload\" data-src=\"https://cdn.albumoftheyear.org/album/thumbs/6051-leave-home.jpg\" src=\"https://cdn.albumoftheyear.org/images/white.gif\"/></a></div>\n",
       "<div class=\"albumListDate\">January 10, 1977</div>\n",
       "<div class=\"albumListScoreContainer\"><div class=\"scoreHeader\">Score</div><div class=\"scoreValueContainer\"><div class=\"scoreValue\">95</div><div class=\"albumReviewRatingBar green\"><div class=\"green\" style=\"width:95%;\"></div></div></div>\n",
       "<div class=\"scoreText\"><a class=\"gray\" href=\"http://pitchfork.com/reviews/albums/ramones-leave-home/\" target=\"_blank\">Source →</a></div><div class=\"clear\"></div></div><div class=\"clear\"></div><div class=\"albumListLinks\"><a href=\"http://www.amazon.com/gp/redirect.html?ie=UTF8&amp;location=http%3A%2F%2Fwww.amazon.com%2Fs%3Fie%3DUTF8%26x%3D0%26ref_%3Dnb%5Fsb%5Fnoss%26y%3D0%26field-keywords%3Dramones%2520leave%2520home%26url%3Dsearch-alias%253Daps&amp;tag=albumoftheyear-20&amp;linkCode=ur2&amp;camp=1789&amp;creative=390957\" rel=\"nofollow\" target=\"_blank\"><div class=\"amazon\"><i class=\"fab fa-amazon\"></i><span>Amazon</span></div></a><a href=\"https://itunes.apple.com/us/album/leave-home-deluxe-edition/id77816888?uo=4&amp;at=10l4PB&amp;app=itunes\" rel=\"nofollow\" target=\"blank\"><div class=\"iTunes\"><i class=\"fab fa-itunes-note\"></i><span>iTunes</span></div></a><a href=\"https://itunes.apple.com/us/album/leave-home-deluxe-edition/id77816888?uo=4&amp;at=10l4PB&amp;ct=bestAlbumsAM\" rel=\"nofollow\" target=\"blank\"><div class=\"appleMusic\"><i class=\"fab fa-apple\"></i><span>Music</span></div></a><a href=\"http://open.spotify.com/album/1kW1J2eP01pNLk7BJAn0xu\" rel=\"nofollow\" target=\"_blank\"><div class=\"spotify\"><i class=\"fab fa-spotify\"></i><span>Spotify</span></div></a></div></div><div class=\"albumListRow\"><h2 class=\"albumListTitle\"><span itemprop=\"itemListElement\"><span class=\"albumListRank\">7. </span><a href=\"/album/5369-the-replacements-sorry-ma-forgot-to-take-out-the-trash.php\">The Replacements - Sorry Ma, Forgot to Take Out the Trash</a></span></h2>\n",
       "<div class=\"albumListCover\"><a href=\"/album/5369-the-replacements-sorry-ma-forgot-to-take-out-the-trash.php\"><img alt=\"The Replacements - Sorry Ma, Forgot to Take Out the Trash\" class=\"lazyload\" data-src=\"https://cdn.albumoftheyear.org/album/thumbs/sorry-ma-forgot-to-take-out-the-trash.jpg\" src=\"https://cdn.albumoftheyear.org/images/white.gif\"/></a></div>\n",
       "<div class=\"albumListDate\">June 25, 1981</div>\n",
       "<div class=\"albumListScoreContainer\"><div class=\"scoreHeader\">Score</div><div class=\"scoreValueContainer\"><div class=\"scoreValue\">94</div><div class=\"albumReviewRatingBar green\"><div class=\"green\" style=\"width:94%;\"></div></div></div>\n",
       "<div class=\"scoreText\"><a class=\"gray\" href=\"http://pitchfork.com/reviews/albums/11676-sorry-ma-forgot-to-take-out-the-trash-stink-hootenanny-let-it-be/\" target=\"_blank\">Source →</a></div><div class=\"clear\"></div></div><div class=\"clear\"></div><div class=\"albumListLinks\"><a href=\"http://www.amazon.com/gp/redirect.html?ie=UTF8&amp;location=http%3A%2F%2Fwww.amazon.com%2Fs%3Fie%3DUTF8%26x%3D0%26ref_%3Dnb%5Fsb%5Fnoss%26y%3D0%26field-keywords%3Dthe%2520replacements%2520sorry%2520ma%2520forgot%2520to%2520take%2520out%2520the%2520trash%26url%3Dsearch-alias%253Daps&amp;tag=albumoftheyear-20&amp;linkCode=ur2&amp;camp=1789&amp;creative=390957\" rel=\"nofollow\" target=\"_blank\"><div class=\"amazon\"><i class=\"fab fa-amazon\"></i><span>Amazon</span></div></a><a href=\"https://itunes.apple.com/us/album/sorry-ma!-forgot-to-take-out/id164364060?uo=4&amp;at=10l4PB&amp;app=itunes\" rel=\"nofollow\" target=\"blank\"><div class=\"iTunes\"><i class=\"fab fa-itunes-note\"></i><span>iTunes</span></div></a><a href=\"https://itunes.apple.com/us/album/sorry-ma!-forgot-to-take-out/id164364060?uo=4&amp;at=10l4PB&amp;ct=bestAlbumsAM\" rel=\"nofollow\" target=\"blank\"><div class=\"appleMusic\"><i class=\"fab fa-apple\"></i><span>Music</span></div></a><a href=\"http://open.spotify.com/album/4zOmK82ivj2Eu7j4oP9Y3l\" rel=\"nofollow\" target=\"_blank\"><div class=\"spotify\"><i class=\"fab fa-spotify\"></i><span>Spotify</span></div></a></div></div><div class=\"albumListRow\"><h2 class=\"albumListTitle\"><span itemprop=\"itemListElement\"><span class=\"albumListRank\">8. </span><a href=\"/album/6304-buzzcocks-singles-going-steady.php\">Buzzcocks - Singles Going Steady</a></span></h2>\n",
       "<div class=\"albumListCover\"><a href=\"/album/6304-buzzcocks-singles-going-steady.php\"><img alt=\"Buzzcocks - Singles Going Steady\" class=\"lazyload\" data-src=\"https://cdn.albumoftheyear.org/album/thumbs/6304-singles-going-steady.jpg\" src=\"https://cdn.albumoftheyear.org/images/white.gif\"/></a></div>\n",
       "<div class=\"albumListDate\">September 1, 1979</div>\n",
       "<div class=\"albumListScoreContainer\"><div class=\"scoreHeader\">Score</div><div class=\"scoreValueContainer\"><div class=\"scoreValue\">94</div><div class=\"albumReviewRatingBar green\"><div class=\"green\" style=\"width:94%;\"></div></div></div>\n",
       "<div class=\"scoreText\"><a class=\"gray\" href=\"https://pitchfork.com/reviews/albums/buzzcocks-singles-going-steady/\" target=\"_blank\">Source →</a></div><div class=\"clear\"></div></div><div class=\"clear\"></div><div class=\"albumListLinks\"><a href=\"http://www.amazon.com/gp/redirect.html?ie=UTF8&amp;location=http%3A%2F%2Fwww.amazon.com%2Fs%3Fie%3DUTF8%26x%3D0%26ref_%3Dnb%5Fsb%5Fnoss%26y%3D0%26field-keywords%3Dbuzzcocks%2520singles%2520going%2520steady%26url%3Dsearch-alias%253Daps&amp;tag=albumoftheyear-20&amp;linkCode=ur2&amp;camp=1789&amp;creative=390957\" rel=\"nofollow\" target=\"_blank\"><div class=\"amazon\"><i class=\"fab fa-amazon\"></i><span>Amazon</span></div></a><a href=\"https://itunes.apple.com/us/album/singles-going-steady/id14149061?uo=4&amp;at=10l4PB&amp;app=itunes\" rel=\"nofollow\" target=\"blank\"><div class=\"iTunes\"><i class=\"fab fa-itunes-note\"></i><span>iTunes</span></div></a><a href=\"https://itunes.apple.com/us/album/singles-going-steady/id14149061?uo=4&amp;at=10l4PB&amp;ct=bestAlbumsAM\" rel=\"nofollow\" target=\"blank\"><div class=\"appleMusic\"><i class=\"fab fa-apple\"></i><span>Music</span></div></a><a href=\"http://open.spotify.com/album/2P0baUWHo9FQ5No7QjpCO7\" rel=\"nofollow\" target=\"_blank\"><div class=\"spotify\"><i class=\"fab fa-spotify\"></i><span>Spotify</span></div></a></div></div><div class=\"albumListRow\"><h2 class=\"albumListTitle\"><span itemprop=\"itemListElement\"><span class=\"albumListRank\">9. </span><a href=\"/album/63680-half-japanese-12-gentlemen-not-beasts.php\">Half Japanese - 1/2 Gentlemen / Not Beasts</a></span></h2>\n",
       "<div class=\"albumListCover\"><a href=\"/album/63680-half-japanese-12-gentlemen-not-beasts.php\"><img alt=\"Half Japanese - 1/2 Gentlemen / Not Beasts\" class=\"lazyload\" data-src=\"https://cdn.albumoftheyear.org/album/thumbs/63680-12-gentlemen-not-beasts.jpg\" src=\"https://cdn.albumoftheyear.org/images/white.gif\"/></a></div>\n",
       "<div class=\"albumListDate\">January 1, 1980</div>\n",
       "<div class=\"albumListScoreContainer\"><div class=\"scoreHeader\">Score</div><div class=\"scoreValueContainer\"><div class=\"scoreValue\">92</div><div class=\"albumReviewRatingBar green\"><div class=\"green\" style=\"width:92%;\"></div></div></div>\n",
       "<div class=\"scoreText\"><a class=\"gray\" href=\"http://pitchfork.com/reviews/albums/17841-half-japanese-12-gentlemen-not-beasts/\" target=\"_blank\">Source →</a></div><div class=\"clear\"></div></div><div class=\"clear\"></div><div class=\"albumListLinks\"><a href=\"http://www.amazon.com/gp/redirect.html?ie=UTF8&amp;location=http%3A%2F%2Fwww.amazon.com%2Fs%3Fie%3DUTF8%26x%3D0%26ref_%3Dnb%5Fsb%5Fnoss%26y%3D0%26field-keywords%3Dhalf%2520japanese%252012%2520gentlemen%2520not%2520beasts%26url%3Dsearch-alias%253Daps&amp;tag=albumoftheyear-20&amp;linkCode=ur2&amp;camp=1789&amp;creative=390957\" rel=\"nofollow\" target=\"_blank\"><div class=\"amazon\"><i class=\"fab fa-amazon\"></i><span>Amazon</span></div></a></div></div><div class=\"albumListRow\"><h2 class=\"albumListTitle\"><span itemprop=\"itemListElement\"><span class=\"albumListRank\">10. </span><a href=\"/album/7707-jawbreaker-24-hour-revenge-therapy.php\">Jawbreaker - 24 Hour Revenge Therapy</a></span></h2>\n",
       "<div class=\"albumListCover\"><a href=\"/album/7707-jawbreaker-24-hour-revenge-therapy.php\"><img alt=\"Jawbreaker - 24 Hour Revenge Therapy\" class=\"lazyload\" data-src=\"https://cdn.albumoftheyear.org/album/thumbs/7707-24-hour-revenge-therapy.jpg\" src=\"https://cdn.albumoftheyear.org/images/white.gif\"/></a></div>\n",
       "<div class=\"albumListDate\">February 7, 1994</div>\n",
       "<div class=\"albumListScoreContainer\"><div class=\"scoreHeader\">Score</div><div class=\"scoreValueContainer\"><div class=\"scoreValue\">91</div><div class=\"albumReviewRatingBar green\"><div class=\"green\" style=\"width:91%;\"></div></div></div>\n",
       "<div class=\"scoreText\"><a class=\"gray\" href=\"http://pitchfork.com/reviews/albums/19890-jawbreaker-24-hour-revenge-therapy/\" target=\"_blank\">Source →</a></div><div class=\"clear\"></div></div><div class=\"clear\"></div><div class=\"albumListLinks\"><a href=\"http://www.amazon.com/gp/redirect.html?ie=UTF8&amp;location=http%3A%2F%2Fwww.amazon.com%2Fs%3Fie%3DUTF8%26x%3D0%26ref_%3Dnb%5Fsb%5Fnoss%26y%3D0%26field-keywords%3Djawbreaker%252024%2520hour%2520revenge%2520therapy%26url%3Dsearch-alias%253Daps&amp;tag=albumoftheyear-20&amp;linkCode=ur2&amp;camp=1789&amp;creative=390957\" rel=\"nofollow\" target=\"_blank\"><div class=\"amazon\"><i class=\"fab fa-amazon\"></i><span>Amazon</span></div></a><a href=\"https://itunes.apple.com/us/album/24-hour-revenge-therapy-remastered/id917083177?uo=4&amp;at=10l4PB&amp;app=itunes\" rel=\"nofollow\" target=\"blank\"><div class=\"iTunes\"><i class=\"fab fa-itunes-note\"></i><span>iTunes</span></div></a><a href=\"https://itunes.apple.com/us/album/24-hour-revenge-therapy-remastered/id917083177?uo=4&amp;at=10l4PB&amp;ct=bestAlbumsAM\" rel=\"nofollow\" target=\"blank\"><div class=\"appleMusic\"><i class=\"fab fa-apple\"></i><span>Music</span></div></a><a href=\"http://open.spotify.com/album/0uO7csgPbPLZlPir7mZOC5\" rel=\"nofollow\" target=\"_blank\"><div class=\"spotify\"><i class=\"fab fa-spotify\"></i><span>Spotify</span></div></a></div></div><div class=\"albumListRow\"><h2 class=\"albumListTitle\"><span itemprop=\"itemListElement\"><span class=\"albumListRank\">11. </span><a href=\"/album/6852-germs-gi.php\">Germs - (GI)</a></span></h2>\n",
       "<div class=\"albumListCover\"><a href=\"/album/6852-germs-gi.php\"><img alt=\"Germs - (GI)\" class=\"lazyload\" data-src=\"https://cdn.albumoftheyear.org/album/thumbs/6852-gi.jpg\" src=\"https://cdn.albumoftheyear.org/images/white.gif\"/></a></div>\n",
       "<div class=\"albumListDate\">January 0, 1979</div>\n",
       "<div class=\"albumListScoreContainer\"><div class=\"scoreHeader\">Score</div><div class=\"scoreValueContainer\"><div class=\"scoreValue\">90</div><div class=\"albumReviewRatingBar green\"><div class=\"green\" style=\"width:90%;\"></div></div></div>\n",
       "<div class=\"scoreText\"><a class=\"gray\" href=\"https://pitchfork.com/reviews/albums/germs-gi/\" target=\"_blank\">Source →</a></div><div class=\"clear\"></div></div><div class=\"clear\"></div><div class=\"albumListLinks\"><a href=\"http://www.amazon.com/gp/redirect.html?ie=UTF8&amp;location=http%3A%2F%2Fwww.amazon.com%2Fs%3Fie%3DUTF8%26x%3D0%26ref_%3Dnb%5Fsb%5Fnoss%26y%3D0%26field-keywords%3Dgerms%2520gi%26url%3Dsearch-alias%253Daps&amp;tag=albumoftheyear-20&amp;linkCode=ur2&amp;camp=1789&amp;creative=390957\" rel=\"nofollow\" target=\"_blank\"><div class=\"amazon\"><i class=\"fab fa-amazon\"></i><span>Amazon</span></div></a><a href=\"https://itunes.apple.com/us/album/gi/id286128938?uo=4&amp;at=10l4PB&amp;app=itunes\" rel=\"nofollow\" target=\"blank\"><div class=\"iTunes\"><i class=\"fab fa-itunes-note\"></i><span>iTunes</span></div></a><a href=\"https://itunes.apple.com/us/album/gi/id286128938?uo=4&amp;at=10l4PB&amp;ct=bestAlbumsAM\" rel=\"nofollow\" target=\"blank\"><div class=\"appleMusic\"><i class=\"fab fa-apple\"></i><span>Music</span></div></a><a href=\"http://open.spotify.com/album/1dwzhoYlTd5ZgPygszllwo\" rel=\"nofollow\" target=\"_blank\"><div class=\"spotify\"><i class=\"fab fa-spotify\"></i><span>Spotify</span></div></a></div></div><div class=\"albumListRow\"><h2 class=\"albumListTitle\"><span itemprop=\"itemListElement\"><span class=\"albumListRank\">12. </span><a href=\"/album/5375-the-replacements-dont-you-know-who-i-think-i-was.php\">The Replacements - Don't You Know Who I Think I Was?</a></span></h2>\n",
       "<div class=\"albumListCover\"><a href=\"/album/5375-the-replacements-dont-you-know-who-i-think-i-was.php\"><img alt=\"The Replacements - Don't You Know Who I Think I Was?\" class=\"lazyload\" data-src=\"https://cdn.albumoftheyear.org/album/thumbs/dont-you-know-who-i-think-i-was.jpg\" src=\"https://cdn.albumoftheyear.org/images/white.gif\"/></a></div>\n",
       "<div class=\"albumListDate\">June 3, 2006</div>\n",
       "<div class=\"albumListScoreContainer\"><div class=\"scoreHeader\">Score</div><div class=\"scoreValueContainer\"><div class=\"scoreValue\">88</div><div class=\"albumReviewRatingBar green\"><div class=\"green\" style=\"width:88%;\"></div></div></div>\n",
       "<div class=\"scoreText\"><a class=\"gray\" href=\"http://pitchfork.com/reviews/albums/9037-dont-you-know-who-i-think-i-was-the-best-of-the-replacements/\" target=\"_blank\">Source →</a></div><div class=\"clear\"></div></div><div class=\"clear\"></div><div class=\"albumListLinks\"><a href=\"http://www.amazon.com/gp/redirect.html?ie=UTF8&amp;location=http%3A%2F%2Fwww.amazon.com%2Fs%3Fie%3DUTF8%26x%3D0%26ref_%3Dnb%5Fsb%5Fnoss%26y%3D0%26field-keywords%3Dthe%2520replacements%2520dont%2520you%2520know%2520who%2520i%2520think%2520i%2520was%26url%3Dsearch-alias%253Daps&amp;tag=albumoftheyear-20&amp;linkCode=ur2&amp;camp=1789&amp;creative=390957\" rel=\"nofollow\" target=\"_blank\"><div class=\"amazon\"><i class=\"fab fa-amazon\"></i><span>Amazon</span></div></a><a href=\"https://itunes.apple.com/us/album/dont-you-know-who-i-think/id159371916?uo=4&amp;at=10l4PB&amp;app=itunes\" rel=\"nofollow\" target=\"blank\"><div class=\"iTunes\"><i class=\"fab fa-itunes-note\"></i><span>iTunes</span></div></a><a href=\"https://itunes.apple.com/us/album/dont-you-know-who-i-think/id159371916?uo=4&amp;at=10l4PB&amp;ct=bestAlbumsAM\" rel=\"nofollow\" target=\"blank\"><div class=\"appleMusic\"><i class=\"fab fa-apple\"></i><span>Music</span></div></a><a href=\"http://open.spotify.com/album/79WOrHzJxV48XV3qbX4CBP\" rel=\"nofollow\" target=\"_blank\"><div class=\"spotify\"><i class=\"fab fa-spotify\"></i><span>Spotify</span></div></a></div></div><div class=\"albumListRow\"><h2 class=\"albumListTitle\"><span itemprop=\"itemListElement\"><span class=\"albumListRank\">13. </span><a href=\"/album/19974-misfits-static-age.php\">Misfits - Static Age</a></span></h2>\n",
       "<div class=\"albumListCover\"><a href=\"/album/19974-misfits-static-age.php\"><img alt=\"Misfits - Static Age\" class=\"lazyload\" data-src=\"https://cdn.albumoftheyear.org/album/thumbs/19974-static-age.jpg\" src=\"https://cdn.albumoftheyear.org/images/white.gif\"/></a></div>\n",
       "<div class=\"albumListDate\">July 15, 1997</div>\n",
       "<div class=\"albumListScoreContainer\"><div class=\"scoreHeader\">Score</div><div class=\"scoreValueContainer\"><div class=\"scoreValue\">88</div><div class=\"albumReviewRatingBar green\"><div class=\"green\" style=\"width:88%;\"></div></div></div>\n",
       "<div class=\"scoreText\"><a class=\"gray\" href=\"https://pitchfork.com/reviews/albums/misfits-static-age/\" target=\"_blank\">Source →</a></div><div class=\"clear\"></div></div><div class=\"clear\"></div><div class=\"albumListLinks\"><a href=\"http://www.amazon.com/gp/redirect.html?ie=UTF8&amp;location=http%3A%2F%2Fwww.amazon.com%2Fs%3Fie%3DUTF8%26x%3D0%26ref_%3Dnb%5Fsb%5Fnoss%26y%3D0%26field-keywords%3Dmisfits%2520static%2520age%26url%3Dsearch-alias%253Daps&amp;tag=albumoftheyear-20&amp;linkCode=ur2&amp;camp=1789&amp;creative=390957\" rel=\"nofollow\" target=\"_blank\"><div class=\"amazon\"><i class=\"fab fa-amazon\"></i><span>Amazon</span></div></a><a href=\"https://itunes.apple.com/us/album/static-age/id724429372?uo=4&amp;at=10l4PB&amp;app=itunes\" rel=\"nofollow\" target=\"blank\"><div class=\"iTunes\"><i class=\"fab fa-itunes-note\"></i><span>iTunes</span></div></a><a href=\"https://itunes.apple.com/us/album/static-age/id724429372?uo=4&amp;at=10l4PB&amp;ct=bestAlbumsAM\" rel=\"nofollow\" target=\"blank\"><div class=\"appleMusic\"><i class=\"fab fa-apple\"></i><span>Music</span></div></a><a href=\"http://open.spotify.com/album/51tAz06EJxwhsk8uNfWxBo\" rel=\"nofollow\" target=\"_blank\"><div class=\"spotify\"><i class=\"fab fa-spotify\"></i><span>Spotify</span></div></a></div></div><div class=\"albumListRow\"><h2 class=\"albumListTitle\"><span itemprop=\"itemListElement\"><span class=\"albumListRank\">14. </span><a href=\"/album/998-the-exploding-hearts-guitar-romantic.php\">The Exploding Hearts - Guitar Romantic</a></span></h2>\n",
       "<div class=\"albumListCover\"><a href=\"/album/998-the-exploding-hearts-guitar-romantic.php\"><img alt=\"The Exploding Hearts - Guitar Romantic\" class=\"lazyload\" data-src=\"https://cdn.albumoftheyear.org/album/thumbs/guitar-romantic.jpg\" src=\"https://cdn.albumoftheyear.org/images/white.gif\"/></a></div>\n",
       "<div class=\"albumListDate\">April 1, 2003</div>\n",
       "<div class=\"albumListScoreContainer\"><div class=\"scoreHeader\">Score</div><div class=\"scoreValueContainer\"><div class=\"scoreValue\">88</div><div class=\"albumReviewRatingBar green\"><div class=\"green\" style=\"width:88%;\"></div></div></div>\n",
       "<div class=\"scoreText\"><a class=\"gray\" href=\"http://pitchfork.com/reviews/albums/2875-guitar-romantic/\" target=\"_blank\">Source →</a></div><div class=\"clear\"></div></div><div class=\"clear\"></div><div class=\"albumListLinks\"><a href=\"http://www.amazon.com/gp/redirect.html?ie=UTF8&amp;location=http%3A%2F%2Fwww.amazon.com%2Fs%3Fie%3DUTF8%26x%3D0%26ref_%3Dnb%5Fsb%5Fnoss%26y%3D0%26field-keywords%3Dthe%2520exploding%2520hearts%2520guitar%2520romantic%26url%3Dsearch-alias%253Daps&amp;tag=albumoftheyear-20&amp;linkCode=ur2&amp;camp=1789&amp;creative=390957\" rel=\"nofollow\" target=\"_blank\"><div class=\"amazon\"><i class=\"fab fa-amazon\"></i><span>Amazon</span></div></a><a href=\"https://itunes.apple.com/us/album/guitar-romantic/id626319898?uo=4&amp;at=10l4PB&amp;app=itunes\" rel=\"nofollow\" target=\"blank\"><div class=\"iTunes\"><i class=\"fab fa-itunes-note\"></i><span>iTunes</span></div></a><a href=\"https://itunes.apple.com/us/album/guitar-romantic/id626319898?uo=4&amp;at=10l4PB&amp;ct=bestAlbumsAM\" rel=\"nofollow\" target=\"blank\"><div class=\"appleMusic\"><i class=\"fab fa-apple\"></i><span>Music</span></div></a><a href=\"http://open.spotify.com/album/2zDkArT4ElJG9lmng08Myq\" rel=\"nofollow\" target=\"_blank\"><div class=\"spotify\"><i class=\"fab fa-spotify\"></i><span>Spotify</span></div></a></div></div><div class=\"albumListRow\"><h2 class=\"albumListTitle\"><span itemprop=\"itemListElement\"><span class=\"albumListRank\">15. </span><a href=\"/album/5374-the-replacements-all-for-nothing-nothing-for-all.php\">The Replacements - All for Nothing / Nothing for All</a></span></h2>\n",
       "<div class=\"albumListCover\"><a href=\"/album/5374-the-replacements-all-for-nothing-nothing-for-all.php\"><img alt=\"The Replacements - All for Nothing / Nothing for All\" class=\"lazyload\" data-src=\"https://cdn.albumoftheyear.org/album/thumbs/all-for-nothing-nothing-for-all.jpg\" src=\"https://cdn.albumoftheyear.org/images/white.gif\"/></a></div>\n",
       "<div class=\"albumListDate\">October 28, 1997</div>\n",
       "<div class=\"albumListScoreContainer\"><div class=\"scoreHeader\">Score</div><div class=\"scoreValueContainer\"><div class=\"scoreValue\">88</div><div class=\"albumReviewRatingBar green\"><div class=\"green\" style=\"width:88%;\"></div></div></div>\n",
       "<div class=\"scoreText\"><a class=\"gray\" href=\"http://web.archive.org/web/20001005113209/http://www.pitchforkmedia.com/record-reviews/r/replacements/all-for-nothing.shtml\" target=\"_blank\">Source →</a></div><div class=\"clear\"></div></div><div class=\"clear\"></div><div class=\"albumListLinks\"><a href=\"http://www.amazon.com/gp/redirect.html?ie=UTF8&amp;location=http%3A%2F%2Fwww.amazon.com%2Fs%3Fie%3DUTF8%26x%3D0%26ref_%3Dnb%5Fsb%5Fnoss%26y%3D0%26field-keywords%3Dthe%2520replacements%2520all%2520for%2520nothing%2520nothing%2520for%2520all%26url%3Dsearch-alias%253Daps&amp;tag=albumoftheyear-20&amp;linkCode=ur2&amp;camp=1789&amp;creative=390957\" rel=\"nofollow\" target=\"_blank\"><div class=\"amazon\"><i class=\"fab fa-amazon\"></i><span>Amazon</span></div></a><a href=\"https://itunes.apple.com/us/album/all-for-nothing-nothing-for/id396450703?uo=4&amp;at=10l4PB&amp;app=itunes\" rel=\"nofollow\" target=\"blank\"><div class=\"iTunes\"><i class=\"fab fa-itunes-note\"></i><span>iTunes</span></div></a><a href=\"https://itunes.apple.com/us/album/all-for-nothing-nothing-for/id396450703?uo=4&amp;at=10l4PB&amp;ct=bestAlbumsAM\" rel=\"nofollow\" target=\"blank\"><div class=\"appleMusic\"><i class=\"fab fa-apple\"></i><span>Music</span></div></a><a href=\"http://open.spotify.com/album/6Ji98nFSXLcGcPfEyNCAIP\" rel=\"nofollow\" target=\"_blank\"><div class=\"spotify\"><i class=\"fab fa-spotify\"></i><span>Spotify</span></div></a></div></div><div class=\"albumListRow\"><h2 class=\"albumListTitle\"><span itemprop=\"itemListElement\"><span class=\"albumListRank\">16. </span><a href=\"/album/3933-green-day-dookie.php\">Green Day - Dookie</a></span></h2>\n",
       "<div class=\"albumListCover\"><a href=\"/album/3933-green-day-dookie.php\"><img alt=\"Green Day - Dookie\" class=\"lazyload\" data-src=\"https://cdn.albumoftheyear.org/album/thumbs/dookie.jpg\" src=\"https://cdn.albumoftheyear.org/images/white.gif\"/></a></div>\n",
       "<div class=\"albumListDate\">February 1, 1994</div>\n",
       "<div class=\"albumListScoreContainer\"><div class=\"scoreHeader\">Score</div><div class=\"scoreValueContainer\"><div class=\"scoreValue\">87</div><div class=\"albumReviewRatingBar green\"><div class=\"green\" style=\"width:87%;\"></div></div></div>\n",
       "<div class=\"scoreText\"><a class=\"gray\" href=\"http://pitchfork.com/reviews/albums/23226-dookie/\" target=\"_blank\">Source →</a></div><div class=\"clear\"></div></div><div class=\"clear\"></div><div class=\"albumListLinks\"><a href=\"http://www.amazon.com/gp/redirect.html?ie=UTF8&amp;location=http%3A%2F%2Fwww.amazon.com%2Fs%3Fie%3DUTF8%26x%3D0%26ref_%3Dnb%5Fsb%5Fnoss%26y%3D0%26field-keywords%3Dgreen%2520day%2520dookie%26url%3Dsearch-alias%253Daps&amp;tag=albumoftheyear-20&amp;linkCode=ur2&amp;camp=1789&amp;creative=390957\" rel=\"nofollow\" target=\"_blank\"><div class=\"amazon\"><i class=\"fab fa-amazon\"></i><span>Amazon</span></div></a><a href=\"https://itunes.apple.com/us/album/dookie/id5132583?uo=4&amp;at=10l4PB&amp;app=itunes\" rel=\"nofollow\" target=\"blank\"><div class=\"iTunes\"><i class=\"fab fa-itunes-note\"></i><span>iTunes</span></div></a><a href=\"https://itunes.apple.com/us/album/dookie/id5132583?uo=4&amp;at=10l4PB&amp;ct=bestAlbumsAM\" rel=\"nofollow\" target=\"blank\"><div class=\"appleMusic\"><i class=\"fab fa-apple\"></i><span>Music</span></div></a><a href=\"http://open.spotify.com/album/4uG8q3GPuWHQlRbswMIRS6\" rel=\"nofollow\" target=\"_blank\"><div class=\"spotify\"><i class=\"fab fa-spotify\"></i><span>Spotify</span></div></a></div></div><div class=\"albumListRow\"><h2 class=\"albumListTitle\"><span itemprop=\"itemListElement\"><span class=\"albumListRank\">17. </span><a href=\"/album/14538-white-lung-deep-fantasy.php\">White Lung - Deep Fantasy</a></span></h2>\n",
       "<div class=\"albumListCover\"><a href=\"/album/14538-white-lung-deep-fantasy.php\"><img alt=\"White Lung - Deep Fantasy\" class=\"lazyload\" data-src=\"https://cdn.albumoftheyear.org/album/thumbs/2014/14538-deep-fantasy.jpg\" src=\"https://cdn.albumoftheyear.org/images/white.gif\"/></a></div>\n",
       "<div class=\"albumListDate\">June 17, 2014</div>\n",
       "<div class=\"albumListScoreContainer\"><div class=\"scoreHeader\">Score</div><div class=\"scoreValueContainer\"><div class=\"scoreValue\">86</div><div class=\"albumReviewRatingBar green\"><div class=\"green\" style=\"width:86%;\"></div></div></div>\n",
       "<div class=\"scoreText\"><a class=\"gray\" href=\"http://pitchfork.com/reviews/albums/19460-white-lung-deep-fantasy/\" target=\"_blank\">Source →</a></div><div class=\"clear\"></div></div><div class=\"clear\"></div><div class=\"albumListLinks\"><a href=\"http://www.amazon.com/gp/redirect.html?ie=UTF8&amp;location=http%3A%2F%2Fwww.amazon.com%2Fs%3Fie%3DUTF8%26x%3D0%26ref_%3Dnb%5Fsb%5Fnoss%26y%3D0%26field-keywords%3Dwhite%2520lung%2520deep%2520fantasy%26url%3Dsearch-alias%253Daps&amp;tag=albumoftheyear-20&amp;linkCode=ur2&amp;camp=1789&amp;creative=390957\" rel=\"nofollow\" target=\"_blank\"><div class=\"amazon\"><i class=\"fab fa-amazon\"></i><span>Amazon</span></div></a><a href=\"https://itunes.apple.com/us/album/deep-fantasy/id855490114?uo=4&amp;at=10l4PB&amp;app=itunes\" rel=\"nofollow\" target=\"blank\"><div class=\"iTunes\"><i class=\"fab fa-itunes-note\"></i><span>iTunes</span></div></a><a href=\"https://itunes.apple.com/us/album/deep-fantasy/id855490114?uo=4&amp;at=10l4PB&amp;ct=bestAlbumsAM\" rel=\"nofollow\" target=\"blank\"><div class=\"appleMusic\"><i class=\"fab fa-apple\"></i><span>Music</span></div></a><a href=\"http://open.spotify.com/album/7lsoGmTZp7mUBoAALe611f\" rel=\"nofollow\" target=\"_blank\"><div class=\"spotify\"><i class=\"fab fa-spotify\"></i><span>Spotify</span></div></a></div></div><div class=\"albumListRow\"><h2 class=\"albumListTitle\"><span itemprop=\"itemListElement\"><span class=\"albumListRank\">18. </span><a href=\"/album/681-the-gaslight-anthem-the-59-sound.php\">The Gaslight Anthem - The '59 Sound</a></span></h2>\n",
       "<div class=\"albumListCover\"><a href=\"/album/681-the-gaslight-anthem-the-59-sound.php\"><img alt=\"The Gaslight Anthem - The '59 Sound\" class=\"lazyload\" data-src=\"https://cdn.albumoftheyear.org/album/thumbs/the-59-sound.jpg\" src=\"https://cdn.albumoftheyear.org/images/white.gif\"/></a></div>\n",
       "<div class=\"albumListDate\">August 19, 2008</div>\n",
       "<div class=\"albumListScoreContainer\"><div class=\"scoreHeader\">Score</div><div class=\"scoreValueContainer\"><div class=\"scoreValue\">86</div><div class=\"albumReviewRatingBar green\"><div class=\"green\" style=\"width:86%;\"></div></div></div>\n",
       "<div class=\"scoreText\"><a class=\"gray\" href=\"http://pitchfork.com/reviews/albums/12454-the-59-sound/\" target=\"_blank\">Source →</a></div><div class=\"clear\"></div></div><div class=\"clear\"></div><div class=\"albumListLinks\"><a href=\"http://www.amazon.com/gp/redirect.html?ie=UTF8&amp;location=http%3A%2F%2Fwww.amazon.com%2Fs%3Fie%3DUTF8%26x%3D0%26ref_%3Dnb%5Fsb%5Fnoss%26y%3D0%26field-keywords%3Dthe%2520gaslight%2520anthem%2520the%252059%2520sound%26url%3Dsearch-alias%253Daps&amp;tag=albumoftheyear-20&amp;linkCode=ur2&amp;camp=1789&amp;creative=390957\" rel=\"nofollow\" target=\"_blank\"><div class=\"amazon\"><i class=\"fab fa-amazon\"></i><span>Amazon</span></div></a><a href=\"https://itunes.apple.com/us/album/the-59-sound/id763811065?uo=4&amp;at=10l4PB&amp;app=itunes\" rel=\"nofollow\" target=\"blank\"><div class=\"iTunes\"><i class=\"fab fa-itunes-note\"></i><span>iTunes</span></div></a><a href=\"https://itunes.apple.com/us/album/the-59-sound/id763811065?uo=4&amp;at=10l4PB&amp;ct=bestAlbumsAM\" rel=\"nofollow\" target=\"blank\"><div class=\"appleMusic\"><i class=\"fab fa-apple\"></i><span>Music</span></div></a><a href=\"http://open.spotify.com/album/5ObH3ig9IUvFJyUFNPpAVC\" rel=\"nofollow\" target=\"_blank\"><div class=\"spotify\"><i class=\"fab fa-spotify\"></i><span>Spotify</span></div></a></div></div><div class=\"albumListRow\"><h2 class=\"albumListTitle\"><span itemprop=\"itemListElement\"><span class=\"albumListRank\">19. </span><a href=\"/album/3934-green-day-kerplunk.php\">Green Day - Kerplunk</a></span></h2>\n",
       "<div class=\"albumListCover\"><a href=\"/album/3934-green-day-kerplunk.php\"><img alt=\"Green Day - Kerplunk\" class=\"lazyload\" data-src=\"https://cdn.albumoftheyear.org/album/thumbs/kerplunk.jpg\" src=\"https://cdn.albumoftheyear.org/images/white.gif\"/></a></div>\n",
       "<div class=\"albumListDate\">January 17, 1992</div>\n",
       "<div class=\"albumListScoreContainer\"><div class=\"scoreHeader\">Score</div><div class=\"scoreValueContainer\"><div class=\"scoreValue\">85</div><div class=\"albumReviewRatingBar green\"><div class=\"green\" style=\"width:85%;\"></div></div></div>\n",
       "<div class=\"scoreText\"><a class=\"gray\" href=\"http://pitchfork.com/reviews/albums/11896-1039smoothed-out-slappy-hourskerplunk/\" target=\"_blank\">Source →</a></div><div class=\"clear\"></div></div><div class=\"clear\"></div><div class=\"albumListLinks\"><a href=\"http://www.amazon.com/gp/redirect.html?ie=UTF8&amp;location=http%3A%2F%2Fwww.amazon.com%2Fs%3Fie%3DUTF8%26x%3D0%26ref_%3Dnb%5Fsb%5Fnoss%26y%3D0%26field-keywords%3Dgreen%2520day%2520kerplunk%26url%3Dsearch-alias%253Daps&amp;tag=albumoftheyear-20&amp;linkCode=ur2&amp;camp=1789&amp;creative=390957\" rel=\"nofollow\" target=\"_blank\"><div class=\"amazon\"><i class=\"fab fa-amazon\"></i><span>Amazon</span></div></a><a href=\"https://itunes.apple.com/us/album/kerplunk!/id210274067?uo=4&amp;at=10l4PB&amp;app=itunes\" rel=\"nofollow\" target=\"blank\"><div class=\"iTunes\"><i class=\"fab fa-itunes-note\"></i><span>iTunes</span></div></a><a href=\"https://itunes.apple.com/us/album/kerplunk!/id210274067?uo=4&amp;at=10l4PB&amp;ct=bestAlbumsAM\" rel=\"nofollow\" target=\"blank\"><div class=\"appleMusic\"><i class=\"fab fa-apple\"></i><span>Music</span></div></a><a href=\"http://open.spotify.com/album/1QJI4bgTwBCxf8ekQ9iHgm\" rel=\"nofollow\" target=\"_blank\"><div class=\"spotify\"><i class=\"fab fa-spotify\"></i><span>Spotify</span></div></a></div></div><div class=\"albumListRow\"><h2 class=\"albumListTitle\"><span itemprop=\"itemListElement\"><span class=\"albumListRank\">20. </span><a href=\"/album/11057-the-jam-in-the-city.php\">The Jam - In the City</a></span></h2>\n",
       "<div class=\"albumListCover\"><a href=\"/album/11057-the-jam-in-the-city.php\"><img alt=\"The Jam - In the City\" class=\"lazyload\" data-src=\"https://cdn.albumoftheyear.org/album/thumbs/11057-in-the-city.jpg\" src=\"https://cdn.albumoftheyear.org/images/white.gif\"/></a></div>\n",
       "<div class=\"albumListDate\">May 20, 1977</div>\n",
       "<div class=\"albumListScoreContainer\"><div class=\"scoreHeader\">Score</div><div class=\"scoreValueContainer\"><div class=\"scoreValue\">85</div><div class=\"albumReviewRatingBar green\"><div class=\"green\" style=\"width:85%;\"></div></div></div>\n",
       "<div class=\"scoreText\"><a class=\"gray\" href=\"https://pitchfork.com/reviews/albums/in-the-city-this-is-the-modern-world-the-polydor-demos-february-1977-live-1977-john-peel-sessions/\" target=\"_blank\">Source →</a></div><div class=\"clear\"></div></div><div class=\"clear\"></div><div class=\"albumListLinks\"><a href=\"http://www.amazon.com/gp/redirect.html?ie=UTF8&amp;location=http%3A%2F%2Fwww.amazon.com%2Fs%3Fie%3DUTF8%26x%3D0%26ref_%3Dnb%5Fsb%5Fnoss%26y%3D0%26field-keywords%3Dthe%2520jam%2520in%2520the%2520city%26url%3Dsearch-alias%253Daps&amp;tag=albumoftheyear-20&amp;linkCode=ur2&amp;camp=1789&amp;creative=390957\" rel=\"nofollow\" target=\"_blank\"><div class=\"amazon\"><i class=\"fab fa-amazon\"></i><span>Amazon</span></div></a><a href=\"https://itunes.apple.com/us/album/in-the-city-remastered/id315607534?uo=4&amp;at=10l4PB&amp;app=itunes\" rel=\"nofollow\" target=\"blank\"><div class=\"iTunes\"><i class=\"fab fa-itunes-note\"></i><span>iTunes</span></div></a><a href=\"https://itunes.apple.com/us/album/in-the-city-remastered/id315607534?uo=4&amp;at=10l4PB&amp;ct=bestAlbumsAM\" rel=\"nofollow\" target=\"blank\"><div class=\"appleMusic\"><i class=\"fab fa-apple\"></i><span>Music</span></div></a><a href=\"http://open.spotify.com/album/5DD8e6UAxYd8f1f7j94hWp\" rel=\"nofollow\" target=\"_blank\"><div class=\"spotify\"><i class=\"fab fa-spotify\"></i><span>Spotify</span></div></a></div></div><div class=\"albumListRow\"><h2 class=\"albumListTitle\"><span itemprop=\"itemListElement\"><span class=\"albumListRank\">21. </span><a href=\"/album/2157-off-first-four-eps.php\">OFF! - First Four EPs</a></span></h2>\n",
       "<div class=\"albumListCover\"><a href=\"/album/2157-off-first-four-eps.php\"><img alt=\"OFF! - First Four EPs\" class=\"lazyload\" data-src=\"https://cdn.albumoftheyear.org/album/thumbs/first-four-eps.jpg\" src=\"https://cdn.albumoftheyear.org/images/white.gif\"/></a></div>\n",
       "<div class=\"albumListDate\">November 23, 2010</div>\n",
       "<div class=\"albumListScoreContainer\"><div class=\"scoreHeader\">Score</div><div class=\"scoreValueContainer\"><div class=\"scoreValue\">85</div><div class=\"albumReviewRatingBar green\"><div class=\"green\" style=\"width:85%;\"></div></div></div>\n",
       "<div class=\"scoreText\"><a class=\"gray\" href=\"http://pitchfork.com/reviews/albums/14919-first-four-eps/\" target=\"_blank\">Source →</a></div><div class=\"clear\"></div></div><div class=\"clear\"></div><div class=\"albumListLinks\"><a href=\"http://www.amazon.com/gp/redirect.html?ie=UTF8&amp;location=http%3A%2F%2Fwww.amazon.com%2Fs%3Fie%3DUTF8%26x%3D0%26ref_%3Dnb%5Fsb%5Fnoss%26y%3D0%26field-keywords%3Doff%2520first%2520four%2520eps%26url%3Dsearch-alias%253Daps&amp;tag=albumoftheyear-20&amp;linkCode=ur2&amp;camp=1789&amp;creative=390957\" rel=\"nofollow\" target=\"_blank\"><div class=\"amazon\"><i class=\"fab fa-amazon\"></i><span>Amazon</span></div></a><a href=\"https://itunes.apple.com/us/album/first-four-eps-bonus-version/id514787610?uo=4&amp;at=10l4PB&amp;app=itunes\" rel=\"nofollow\" target=\"blank\"><div class=\"iTunes\"><i class=\"fab fa-itunes-note\"></i><span>iTunes</span></div></a><a href=\"https://itunes.apple.com/us/album/first-four-eps-bonus-version/id514787610?uo=4&amp;at=10l4PB&amp;ct=bestAlbumsAM\" rel=\"nofollow\" target=\"blank\"><div class=\"appleMusic\"><i class=\"fab fa-apple\"></i><span>Music</span></div></a><a href=\"http://open.spotify.com/album/3pvJme8JFE3Z7oxHdF4y3L\" rel=\"nofollow\" target=\"_blank\"><div class=\"spotify\"><i class=\"fab fa-spotify\"></i><span>Spotify</span></div></a></div></div><div class=\"albumListRow\"><h2 class=\"albumListTitle\"><span itemprop=\"itemListElement\"><span class=\"albumListRank\">22. </span><a href=\"/album/151826-mannequin-pussy-patience.php\">Mannequin Pussy - Patience</a></span></h2>\n",
       "<div class=\"albumListCover\"><a href=\"/album/151826-mannequin-pussy-patience.php\"><img alt=\"Mannequin Pussy - Patience\" class=\"lazyload\" data-src=\"https://cdn.albumoftheyear.org/album/thumbs/151826-patience.jpg\" src=\"https://cdn.albumoftheyear.org/images/white.gif\"/></a></div>\n",
       "<div class=\"albumListDate\">June 21, 2019</div>\n",
       "<div class=\"albumListScoreContainer\"><div class=\"scoreHeader\">Score</div><div class=\"scoreValueContainer\"><div class=\"scoreValue\">84</div><div class=\"albumReviewRatingBar green\"><div class=\"green\" style=\"width:84%;\"></div></div></div>\n",
       "<div class=\"scoreText\"><a class=\"gray\" href=\"https://pitchfork.com/reviews/albums/mannequin-pussy-patience/\" target=\"_blank\">Source →</a></div><div class=\"clear\"></div></div><div class=\"clear\"></div><div class=\"albumListLinks\"><a href=\"http://www.amazon.com/gp/redirect.html?ie=UTF8&amp;location=http%3A%2F%2Fwww.amazon.com%2Fs%3Fie%3DUTF8%26x%3D0%26ref_%3Dnb%5Fsb%5Fnoss%26y%3D0%26field-keywords%3Dmannequin%2520pussy%2520patience%26url%3Dsearch-alias%253Daps&amp;tag=albumoftheyear-20&amp;linkCode=ur2&amp;camp=1789&amp;creative=390957\" rel=\"nofollow\" target=\"_blank\"><div class=\"amazon\"><i class=\"fab fa-amazon\"></i><span>Amazon</span></div></a><a href=\"https://music.apple.com/us/album/patience/1457693951?uo=4&amp;at=10l4PB&amp;app=itunes\" rel=\"nofollow\" target=\"blank\"><div class=\"iTunes\"><i class=\"fab fa-itunes-note\"></i><span>iTunes</span></div></a><a href=\"https://music.apple.com/us/album/patience/1457693951?uo=4&amp;at=10l4PB&amp;ct=bestAlbumsAM\" rel=\"nofollow\" target=\"blank\"><div class=\"appleMusic\"><i class=\"fab fa-apple\"></i><span>Music</span></div></a><a href=\"http://open.spotify.com/album/1X0Na8DRV5U6G9grTPDWKF\" rel=\"nofollow\" target=\"_blank\"><div class=\"spotify\"><i class=\"fab fa-spotify\"></i><span>Spotify</span></div></a></div></div><div class=\"albumListRow\"><h2 class=\"albumListTitle\"><span itemprop=\"itemListElement\"><span class=\"albumListRank\">23. </span><a href=\"/album/50577-white-lung-paradise.php\">White Lung - Paradise</a></span></h2>\n",
       "<div class=\"albumListCover\"><a href=\"/album/50577-white-lung-paradise.php\"><img alt=\"White Lung - Paradise\" class=\"lazyload\" data-src=\"https://cdn.albumoftheyear.org/album/thumbs/2016/50577-paradise.jpg\" src=\"https://cdn.albumoftheyear.org/images/white.gif\"/></a></div>\n",
       "<div class=\"albumListDate\">May 6, 2016</div>\n",
       "<div class=\"albumListScoreContainer\"><div class=\"scoreHeader\">Score</div><div class=\"scoreValueContainer\"><div class=\"scoreValue\">84</div><div class=\"albumReviewRatingBar green\"><div class=\"green\" style=\"width:84%;\"></div></div></div>\n",
       "<div class=\"scoreText\"><a class=\"gray\" href=\"http://pitchfork.com/reviews/albums/21849-paradise/\" target=\"_blank\">Source →</a></div><div class=\"clear\"></div></div><div class=\"clear\"></div><div class=\"albumListLinks\"><a href=\"http://www.amazon.com/gp/redirect.html?ie=UTF8&amp;location=http%3A%2F%2Fwww.amazon.com%2Fs%3Fie%3DUTF8%26x%3D0%26ref_%3Dnb%5Fsb%5Fnoss%26y%3D0%26field-keywords%3Dwhite%2520lung%2520paradise%26url%3Dsearch-alias%253Daps&amp;tag=albumoftheyear-20&amp;linkCode=ur2&amp;camp=1789&amp;creative=390957\" rel=\"nofollow\" target=\"_blank\"><div class=\"amazon\"><i class=\"fab fa-amazon\"></i><span>Amazon</span></div></a><a href=\"https://itunes.apple.com/us/album/paradise/id1078770551?uo=4&amp;at=10l4PB&amp;app=itunes\" rel=\"nofollow\" target=\"blank\"><div class=\"iTunes\"><i class=\"fab fa-itunes-note\"></i><span>iTunes</span></div></a><a href=\"https://itunes.apple.com/us/album/paradise/id1078770551?uo=4&amp;at=10l4PB&amp;ct=bestAlbumsAM\" rel=\"nofollow\" target=\"blank\"><div class=\"appleMusic\"><i class=\"fab fa-apple\"></i><span>Music</span></div></a><a href=\"http://open.spotify.com/album/6OLicbdjTGlxAMbYby39F4\" rel=\"nofollow\" target=\"_blank\"><div class=\"spotify\"><i class=\"fab fa-spotify\"></i><span>Spotify</span></div></a></div></div><div class=\"albumListRow\"><h2 class=\"albumListTitle\"><span itemprop=\"itemListElement\"><span class=\"albumListRank\">24. </span><a href=\"/album/74975-buzzcocks-times-up.php\">Buzzcocks - Time's Up</a></span></h2>\n",
       "<div class=\"albumListCover\"><a href=\"/album/74975-buzzcocks-times-up.php\"><img alt=\"Buzzcocks - Time's Up\" class=\"lazyload\" data-src=\"https://cdn.albumoftheyear.org/album/thumbs/74975-times-up.jpg\" src=\"https://cdn.albumoftheyear.org/images/white.gif\"/></a></div>\n",
       "<div class=\"albumListDate\"></div>\n",
       "<div class=\"albumListScoreContainer\"><div class=\"scoreHeader\">Score</div><div class=\"scoreValueContainer\"><div class=\"scoreValue\">82</div><div class=\"albumReviewRatingBar green\"><div class=\"green\" style=\"width:82%;\"></div></div></div>\n",
       "<div class=\"scoreText\"><a class=\"gray\" href=\"http://pitchfork.com/reviews/albums/22944-times-upspiral-scratch/\" target=\"_blank\">Source →</a></div><div class=\"clear\"></div></div><div class=\"clear\"></div><div class=\"albumListLinks\"><a href=\"http://www.amazon.com/gp/redirect.html?ie=UTF8&amp;location=http%3A%2F%2Fwww.amazon.com%2Fs%3Fie%3DUTF8%26x%3D0%26ref_%3Dnb%5Fsb%5Fnoss%26y%3D0%26field-keywords%3Dbuzzcocks%2520times%2520up%26url%3Dsearch-alias%253Daps&amp;tag=albumoftheyear-20&amp;linkCode=ur2&amp;camp=1789&amp;creative=390957\" rel=\"nofollow\" target=\"_blank\"><div class=\"amazon\"><i class=\"fab fa-amazon\"></i><span>Amazon</span></div></a><a href=\"https://itunes.apple.com/us/album/times-up/id1192766330?uo=4&amp;at=10l4PB&amp;app=itunes\" rel=\"nofollow\" target=\"blank\"><div class=\"iTunes\"><i class=\"fab fa-itunes-note\"></i><span>iTunes</span></div></a><a href=\"https://itunes.apple.com/us/album/times-up/id1192766330?uo=4&amp;at=10l4PB&amp;ct=bestAlbumsAM\" rel=\"nofollow\" target=\"blank\"><div class=\"appleMusic\"><i class=\"fab fa-apple\"></i><span>Music</span></div></a><a href=\"http://open.spotify.com/album/2D9W2F76b8cIGINI66VkmG\" rel=\"nofollow\" target=\"_blank\"><div class=\"spotify\"><i class=\"fab fa-spotify\"></i><span>Spotify</span></div></a></div></div><div class=\"albumListRow\"><h2 class=\"albumListTitle\"><span itemprop=\"itemListElement\"><span class=\"albumListRank\">25. </span><a href=\"/album/31953-bad-religion-the-empire-strikes-first.php\">Bad Religion - The Empire Strikes First</a></span></h2>\n",
       "<div class=\"albumListCover\"><a href=\"/album/31953-bad-religion-the-empire-strikes-first.php\"><img alt=\"Bad Religion - The Empire Strikes First\" class=\"lazyload\" data-src=\"https://cdn.albumoftheyear.org/album/thumbs/31953-the-empire-strikes-first.jpg\" src=\"https://cdn.albumoftheyear.org/images/white.gif\"/></a></div>\n",
       "<div class=\"albumListDate\">June 7, 2004</div>\n",
       "<div class=\"albumListScoreContainer\"><div class=\"scoreHeader\">Score</div><div class=\"scoreValueContainer\"><div class=\"scoreValue\">82</div><div class=\"albumReviewRatingBar green\"><div class=\"green\" style=\"width:82%;\"></div></div></div>\n",
       "<div class=\"scoreText\"><a class=\"gray\" href=\"http://pitchfork.com/reviews/albums/522-the-empire-strikes-first/\" target=\"_blank\">Source →</a></div><div class=\"clear\"></div></div><div class=\"clear\"></div><div class=\"albumListLinks\"><a href=\"http://www.amazon.com/gp/redirect.html?ie=UTF8&amp;location=http%3A%2F%2Fwww.amazon.com%2Fs%3Fie%3DUTF8%26x%3D0%26ref_%3Dnb%5Fsb%5Fnoss%26y%3D0%26field-keywords%3Dbad%2520religion%2520the%2520empire%2520strikes%2520first%26url%3Dsearch-alias%253Daps&amp;tag=albumoftheyear-20&amp;linkCode=ur2&amp;camp=1789&amp;creative=390957\" rel=\"nofollow\" target=\"_blank\"><div class=\"amazon\"><i class=\"fab fa-amazon\"></i><span>Amazon</span></div></a><a href=\"https://itunes.apple.com/us/album/the-empire-strikes-first/id271953329?uo=4&amp;at=10l4PB&amp;app=itunes\" rel=\"nofollow\" target=\"blank\"><div class=\"iTunes\"><i class=\"fab fa-itunes-note\"></i><span>iTunes</span></div></a><a href=\"https://itunes.apple.com/us/album/the-empire-strikes-first/id271953329?uo=4&amp;at=10l4PB&amp;ct=bestAlbumsAM\" rel=\"nofollow\" target=\"blank\"><div class=\"appleMusic\"><i class=\"fab fa-apple\"></i><span>Music</span></div></a><a href=\"http://open.spotify.com/album/6I4bM7J2ID9KN5x1bmiJgW\" rel=\"nofollow\" target=\"_blank\"><div class=\"spotify\"><i class=\"fab fa-spotify\"></i><span>Spotify</span></div></a></div></div><div style=\"margin:25px 0 20px 0; font-size:12px;\"><strong>NOTE:</strong> This is not a year end list. This list is ordered by the ratings awarded albums throughout all.</div><div style=\"margin-top: 10px; margin-bottom: 20px;\"><a href=\"/genre/27-punk-rock/all/pitchfork/2/\"><div class=\"pageSelect\" style=\"float:right;\">NEXT »</div></a><div class=\"clear\"></div></div><div class=\"section\"><div class=\"sectionHeading\">Related</div><div class=\"relatedRow\"><a href=\"/genre/27-punk-rock/recent/\">Recent Punk Rock Albums</a></div><div class=\"relatedRow\"><a href=\"/ratings/user-highest-rated/all/punk-rock/\">Users' Highest Rated Punk Rock Albums of All Time</a></div><div class=\"relatedRow\"><a href=\"/ratings/6-highest-rated/all/1\">The Best Albums of All Time</a></div></div><div style=\"font-size: 11px; float: left; margin-right: 5px; padding: 2px 0; font-weight:bold;\">MORE GENRES:</div><div class=\"moreGenre\"><a href=\"/genre/2-alternative-rock/all/pitchfork/\">Alternative Rock</a></div><div class=\"moreGenre\"><a href=\"/genre/34-ambient/all/pitchfork/\">Ambient</a></div><div class=\"moreGenre\"><a href=\"/genre/141-art-pop/all/pitchfork/\">Art Pop</a></div><div class=\"moreGenre\"><a href=\"/genre/39-dream-pop/all/pitchfork/\">Dream Pop</a></div><div class=\"moreGenre\"><a href=\"/genre/6-electronic/all/pitchfork/\">Electronic</a></div><div class=\"moreGenre\"><a href=\"/genre/31-electropop/all/pitchfork/\">Electropop</a></div><div class=\"moreGenre\"><a href=\"/genre/9-experimental/all/pitchfork/\">Experimental</a></div><div class=\"moreGenre\"><a href=\"/genre/5-folk/all/pitchfork/\">Folk</a></div><div class=\"moreGenre\"><a href=\"/genre/3-hip-hop/all/pitchfork/\">Hip Hop</a></div><div class=\"moreGenre\"><a href=\"/genre/53-house/all/pitchfork/\">House</a></div><div class=\"moreGenre\"><a href=\"/genre/16-indie-folk/all/pitchfork/\">Indie Folk</a></div><div class=\"moreGenre\"><a href=\"/genre/4-indie-pop/all/pitchfork/\">Indie Pop</a></div><div class=\"moreGenre\"><a href=\"/genre/1-indie-rock/all/pitchfork/\">Indie Rock</a></div><div class=\"moreGenre\"><a href=\"/genre/40-metal/all/pitchfork/\">Metal</a></div><div class=\"moreGenre\"><a href=\"/genre/15-pop/all/pitchfork/\">Pop</a></div><div class=\"moreGenre\"><a href=\"/genre/103-pop-rock/all/pitchfork/\">Pop Rock</a></div><div class=\"moreGenre\"><a href=\"/genre/23-post-punk/all/pitchfork/\">Post-Punk</a></div><div class=\"moreGenre\"><a href=\"/genre/46-psychedelic/all/pitchfork/\">Psychedelic</a></div><div class=\"moreGenre\"><a href=\"/genre/30-psychedelic-rock/all/pitchfork/\">Psychedelic Rock</a></div><div class=\"moreGenre\"><a href=\"/genre/22-r-and-b/all/pitchfork/\">R&amp;B</a></div><div class=\"moreGenre\"><a href=\"/genre/7-rock/all/pitchfork/\">Rock</a></div><div class=\"moreGenre\"><a href=\"/genre/37-singer-songwriter/all/pitchfork/\">Singer-Songwriter</a></div><div class=\"moreGenre\"><a href=\"/genre/19-soul/all/pitchfork/\">Soul</a></div><div class=\"moreGenre\"><a href=\"/genre/38-synthpop/all/pitchfork/\">Synthpop</a></div><div class=\"moreGenre\"><a href=\"/genre/213-trap-rap/all/pitchfork/\">Trap Rap</a></div><br style=\"clear:both;\"/><div class=\"socialConnect\"><div class=\"socialConnectHeading\"><span>Connect with AOTY</span></div><a href=\"https://www.facebook.com/albumoftheyear/\"><div class=\"socialConnectFB\"><div class=\"icon\"><i class=\"fab fa-facebook-f\"></i></div><div class=\"text\">Like Us</div></div></a><a href=\"https://twitter.com/aoty\"><div class=\"socialConnectTwitter\"><div class=\"icon\"><i class=\"fab fa-twitter\"></i></div><div class=\"text\">Follow Us</div></div></a></div><div class=\"endContentAds\" style=\"max-width:640px; margin-left: auto; margin-right: auto;\"> <script>\n",
       "var wb = window.wb || (window.wb = {});\n",
       "wb.q || (wb.q = []);\n",
       "wb.q.push(['addGrid', {siteId: '730318', id : \"wb-ad-grid\"}])\n",
       "</script>\n",
       "<script async=\"\" src=\"https://d1fmuklxq397ez.cloudfront.net/\"></script>\n",
       "<div id=\"wb-ad-grid\"></div>\n",
       "</div></meta></div>\n",
       "<div class=\"rightContent\">\n",
       "<a class=\"noUnderline\" href=\"/donate/\"><div class=\"rightBox donorBanner\"><div class=\"fal fa-check-circle\"></div><div><span>Become a Donor</span> <br>Donor badge, no ads + more benefits.</br></div></div></a><div class=\"adTagTwo\">\n",
       "<div align=\"center\" id=\"AlbumOfTheYear_300x250_300x600_BTF\">\n",
       "<script data-cfasync=\"false\" type=\"text/javascript\">\n",
       "\t\t\t\t\tfreestar.queue.push(function () { googletag.display('AlbumOfTheYear_300x250_300x600_BTF'); });\n",
       "\t\t\t\t</script>\n",
       "</div>\n",
       "</div><div class=\"rightBox\"><a href=\"/genre/27-punk-rock/all/\"><div class=\"listItem first\">All Publications</div></a><a href=\"/genre/27-punk-rock/all/av-club/\"><div class=\"listItem\">A.V. Club</div></a><a href=\"/genre/27-punk-rock/all/allhiphop/\"><div class=\"listItem\">AllHipHop</div></a><a href=\"/genre/27-punk-rock/all/all-music/\"><div class=\"listItem\">AllMusic</div></a><a href=\"/genre/27-punk-rock/all/alternative-press/\"><div class=\"listItem\">Alternative Press</div></a><a href=\"/genre/27-punk-rock/all/american-songwriter/\"><div class=\"listItem\">American Songwriter</div></a><a href=\"/genre/27-punk-rock/all/beats-per-minute/\"><div class=\"listItem\">Beats Per Minute</div></a><a href=\"/genre/27-punk-rock/all/billboard/\"><div class=\"listItem\">Billboard</div></a><a href=\"/genre/27-punk-rock/all/clash/\"><div class=\"listItem\">Clash</div></a><a href=\"/genre/27-punk-rock/all/coke-machine-glow/\"><div class=\"listItem\">Coke Machine Glow</div></a><a href=\"/genre/27-punk-rock/all/complex/\"><div class=\"listItem\">Complex</div></a><a href=\"/genre/27-punk-rock/all/consequence-of-sound/\"><div class=\"listItem\">Consequence of Sound</div></a><a href=\"/genre/27-punk-rock/all/crack-magazine/\"><div class=\"listItem\">Crack Magazine</div></a><a href=\"/genre/27-punk-rock/all/diy/\"><div class=\"listItem\">DIY</div></a><a href=\"/genre/27-punk-rock/all/dork/\"><div class=\"listItem\">Dork</div></a><a href=\"/genre/27-punk-rock/all/drowned-in-sound/\"><div class=\"listItem\">Drowned in Sound</div></a><a href=\"/genre/27-punk-rock/all/earmilk/\"><div class=\"listItem\">Earmilk</div></a><a href=\"/genre/27-punk-rock/all/entertainment-weekly/\"><div class=\"listItem\">Entertainment Weekly</div></a><a href=\"/genre/27-punk-rock/all/exclaim/\"><div class=\"listItem\">Exclaim!</div></a><a href=\"/genre/27-punk-rock/all/fact-magazine/\"><div class=\"listItem\">FACT Magazine</div></a><a href=\"/genre/27-punk-rock/all/fasterlouder/\"><div class=\"listItem\">FasterLouder</div></a><a href=\"/genre/27-punk-rock/all/flood-magazine/\"><div class=\"listItem\">FLOOD Magazine</div></a><a href=\"/genre/27-punk-rock/all/gigsoup/\"><div class=\"listItem\">GIGsoup</div></a><a href=\"/genre/27-punk-rock/all/gigwise/\"><div class=\"listItem\">Gigwise</div></a><a href=\"/genre/27-punk-rock/all/god-is-in-the-tv/\"><div class=\"listItem\">God Is in the TV</div></a><a href=\"/genre/27-punk-rock/all/highsnobiety/\"><div class=\"listItem\">Highsnobiety</div></a><a href=\"/genre/27-punk-rock/all/hip-hop-dx/\"><div class=\"listItem\">HipHopDX</div></a><a href=\"/genre/27-punk-rock/all/kerrang/\"><div class=\"listItem\">Kerrang!</div></a><a href=\"/genre/27-punk-rock/all/loud-and-quiet/\"><div class=\"listItem\">Loud and Quiet</div></a><a href=\"/genre/27-punk-rock/all/metal-hammer/\"><div class=\"listItem\">Metal Hammer</div></a><a href=\"/genre/27-punk-rock/all/metal-injection/\"><div class=\"listItem\">Metal Injection</div></a><a href=\"/genre/27-punk-rock/all/metal-sucks/\"><div class=\"listItem\">Metal Sucks</div></a><a href=\"/genre/27-punk-rock/all/mojo/\"><div class=\"listItem\">Mojo</div></a><a href=\"/genre/27-punk-rock/all/musicomh/\"><div class=\"listItem\">musicOMH</div></a><a href=\"/genre/27-punk-rock/all/nme/\"><div class=\"listItem\">NME</div></a><a href=\"/genre/27-punk-rock/all/no-ripcord/\"><div class=\"listItem\">No Ripcord</div></a><a href=\"/genre/27-punk-rock/all/northern-transmissions/\"><div class=\"listItem\">Northern Transmissions</div></a><a href=\"/genre/27-punk-rock/all/now-magazine/\"><div class=\"listItem\">NOW Magazine</div></a><a href=\"/genre/27-punk-rock/all/paste/\"><div class=\"listItem\">Paste</div></a><div class=\"listItem selected\">Pitchfork</div><a href=\"/genre/27-punk-rock/all/popmatters/\"><div class=\"listItem\">PopMatters</div></a><a href=\"/genre/27-punk-rock/all/prefix/\"><div class=\"listItem\">Prefix</div></a><a href=\"/genre/27-punk-rock/all/pretty-much-amazing/\"><div class=\"listItem\">Pretty Much Amazing</div></a><a href=\"/genre/27-punk-rock/all/resident-advisor/\"><div class=\"listItem\">Resident Advisor</div></a><a href=\"/genre/27-punk-rock/all/rolling-stone/\"><div class=\"listItem\">Rolling Stone</div></a><a href=\"/genre/27-punk-rock/all/slant-magazine/\"><div class=\"listItem\">Slant Magazine</div></a><a href=\"/genre/27-punk-rock/all/spectrum-culture/\"><div class=\"listItem\">Spectrum Culture</div></a><a href=\"/genre/27-punk-rock/all/spill-magazine/\"><div class=\"listItem\">Spill Magazine</div></a><a href=\"/genre/27-punk-rock/all/spin/\"><div class=\"listItem\">Spin</div></a><a href=\"/genre/27-punk-rock/all/sputnikmusic/\"><div class=\"listItem\">Sputnikmusic</div></a><a href=\"/genre/27-punk-rock/all/the-four-oh-five/\"><div class=\"listItem\">The 405</div></a><a href=\"/genre/27-punk-rock/all/the-fly/\"><div class=\"listItem\">The Fly</div></a><a href=\"/genre/27-punk-rock/all/the-guardian/\"><div class=\"listItem\">The Guardian</div></a><a href=\"/genre/27-punk-rock/all/the-independent/\"><div class=\"listItem\">The Independent</div></a><a href=\"/genre/27-punk-rock/all/the-line-of-best-fit/\"><div class=\"listItem\">The Line of Best Fit</div></a><a href=\"/genre/27-punk-rock/all/the-needle-drop/\"><div class=\"listItem\">The Needle Drop</div></a><a href=\"/genre/27-punk-rock/all/the-observer/\"><div class=\"listItem\">The Observer</div></a><a href=\"/genre/27-punk-rock/all/the-skinny/\"><div class=\"listItem\">The Skinny</div></a><a href=\"/genre/27-punk-rock/all/the-telegraph/\"><div class=\"listItem\">The Telegraph</div></a><a href=\"/genre/27-punk-rock/all/time-out-london/\"><div class=\"listItem\">Time Out London</div></a><a href=\"/genre/27-punk-rock/all/tiny-mix-tapes/\"><div class=\"listItem\">Tiny Mix Tapes</div></a><a href=\"/genre/27-punk-rock/all/uncut/\"><div class=\"listItem\">Uncut</div></a><a href=\"/genre/27-punk-rock/all/under-the-radar/\"><div class=\"listItem\">Under The Radar</div></a><a href=\"/genre/27-punk-rock/all/upset/\"><div class=\"listItem\">Upset</div></a><a href=\"/genre/27-punk-rock/all/wondering-sound/\"><div class=\"listItem\">Wondering Sound</div></a><a href=\"/genre/27-punk-rock/all/xlr8r/\"><div class=\"listItem\">XLR8R</div></a><a href=\"/genre/27-punk-rock/all/xxl/\"><div class=\"listItem last\">XXL</div></a></div><div class=\"rightBox\"><div class=\"sectionHeading\"><a href=\"/releases/this-week/\">New Album Releases</a></div>\n",
       "<div class=\"row\"><div style=\"display:inline-block; vertical-align:top; text-align: center;\"><div class=\"rating\">79</div><div class=\"ratingBar green\"><div class=\"green\" style=\"width:79%;\"></div></div></div><div style=\"display:inline-block; width:256px; padding-left: 10px; box-sizing: border-box;\"><a href=\"/album/205582-mac-miller-circles.php\"><div class=\"artistTitle\">Mac Miller</div>\n",
       "<div class=\"albumTitle\">Circles</div></a></div></div><div class=\"row\"><div style=\"display:inline-block; vertical-align:top; text-align: center;\"><div class=\"rating\">61</div><div class=\"ratingBar yellow\"><div class=\"yellow\" style=\"width:61%;\"></div></div></div><div style=\"display:inline-block; width:256px; padding-left: 10px; box-sizing: border-box;\"><a href=\"/album/208461-eminem-music-to-be-murdered-by.php\"><div class=\"artistTitle\">Eminem</div>\n",
       "<div class=\"albumTitle\">Music To Be Murdered By</div></a></div></div><div class=\"row\"><div style=\"display:inline-block; vertical-align:top; text-align: center;\"><div class=\"rating\">82</div><div class=\"ratingBar green\"><div class=\"green\" style=\"width:82%;\"></div></div></div><div style=\"display:inline-block; width:256px; padding-left: 10px; box-sizing: border-box;\"><a href=\"/album/176883-halsey-manic.php\"><div class=\"artistTitle\">Halsey</div>\n",
       "<div class=\"albumTitle\">Manic</div></a></div></div><div class=\"row\"><div style=\"display:inline-block; vertical-align:top; text-align: center;\"><div class=\"rating\">79</div><div class=\"ratingBar green\"><div class=\"green\" style=\"width:79%;\"></div></div></div><div style=\"display:inline-block; width:256px; padding-left: 10px; box-sizing: border-box;\"><a href=\"/album/161909-070-shake-modus-vivendi.php\"><div class=\"artistTitle\">070 Shake</div>\n",
       "<div class=\"albumTitle\">Modus Vivendi</div></a></div></div><div class=\"row\"><div style=\"display:inline-block; vertical-align:top; text-align: center;\"><div class=\"rating\">81</div><div class=\"ratingBar green\"><div class=\"green\" style=\"width:81%;\"></div></div></div><div style=\"display:inline-block; width:256px; padding-left: 10px; box-sizing: border-box;\"><a href=\"/album/188531-pinegrove-marigold.php\"><div class=\"artistTitle\">Pinegrove</div>\n",
       "<div class=\"albumTitle\">Marigold</div></a></div></div><div class=\"row\"><div style=\"display:inline-block; vertical-align:top; text-align: center;\"><div class=\"rating\">71</div><div class=\"ratingBar green\"><div class=\"green\" style=\"width:71%;\"></div></div></div><div style=\"display:inline-block; width:256px; padding-left: 10px; box-sizing: border-box;\"><a href=\"/album/188297-algiers-there-is-no-year.php\"><div class=\"artistTitle\">Algiers</div>\n",
       "<div class=\"albumTitle\">There Is No Year</div></a></div></div><div class=\"row\"><div style=\"display:inline-block; vertical-align:top; text-align: center;\"><div class=\"rating\">75</div><div class=\"ratingBar green\"><div class=\"green\" style=\"width:75%;\"></div></div></div><div style=\"display:inline-block; width:256px; padding-left: 10px; box-sizing: border-box;\"><a href=\"/album/174863-bombay-bicycle-club-everything-else-has-gone-wrong.php\"><div class=\"artistTitle\">Bombay Bicycle Club</div>\n",
       "<div class=\"albumTitle\">Everything Else Has Gone Wrong</div></a></div></div><div class=\"row\"><div style=\"display:inline-block; vertical-align:top; text-align: center;\"><div class=\"rating\">60</div><div class=\"ratingBar yellow\"><div class=\"yellow\" style=\"width:60%;\"></div></div></div><div style=\"display:inline-block; width:256px; padding-left: 10px; box-sizing: border-box;\"><a href=\"/album/186922-mura-masa-ryc.php\"><div class=\"artistTitle\">Mura Masa</div>\n",
       "<div class=\"albumTitle\">R.Y.C</div></a></div></div><div class=\"row\"><div style=\"display:inline-block; vertical-align:top; text-align: center;\"><div class=\"rating\">74</div><div class=\"ratingBar green\"><div class=\"green\" style=\"width:74%;\"></div></div></div><div style=\"display:inline-block; width:256px; padding-left: 10px; box-sizing: border-box;\"><a href=\"/album/192012-of-montreal-ur-fun.php\"><div class=\"artistTitle\">of Montreal</div>\n",
       "<div class=\"albumTitle\">UR FUN</div></a></div></div><div class=\"row last\"><div style=\"display:inline-block; vertical-align:top; text-align: center;\"><div class=\"rating\">77</div><div class=\"ratingBar green\"><div class=\"green\" style=\"width:77%;\"></div></div></div><div style=\"display:inline-block; width:256px; padding-left: 10px; box-sizing: border-box;\"><a href=\"/album/181088-holy-fuck-deleter.php\"><div class=\"artistTitle\">Holy Fuck</div>\n",
       "<div class=\"albumTitle\">Deleter</div></a></div></div><a class=\"moreButton\" href=\"/releases/this-week/\">More Releases</a></div><div class=\"rightBox\"><div class=\"sectionHeading\"><a href=\"/l/newsworthy/\">Newsworthy</a></div></div></div></div></div></body></html> <div class=\"viewAll\"><a href=\"/l/newsworthy/#submit\">Submit a Link</a></div><div class=\"newsListContainerSmall\"><div class=\"image\"><a href=\"https://www.youtube.com/watch?v=EyMX4lcKNPg\" title=\"youtube.com\"><img alt=\"The Needle Drop's Top 200 Albums of the 2010s\" class=\"lazyload\" data-src=\"https://cdn.albumoftheyear.org/l/14798.jpg\" src=\"https://cdn.albumoftheyear.org/images/white.gif\"/></a></div><div class=\"newsListContentSmall\"><a href=\"https://www.youtube.com/watch?v=EyMX4lcKNPg\" title=\"youtube.com\">The Needle Drop's Top 200 Albums of the 2010s</a><div>9 points <span style=\"color:black;\">/</span> <a class=\"gray\" href=\"/l/14798-the-needle-drops-top-200-albums-of-the-2010s/\">9 Comments</a></div></div><div class=\"clear\"></div></div>\n",
       "<div class=\"newsListContainerSmall\"><div class=\"image\"><a href=\"/l/14794-eminem-surprise-drops-new-album-music-to-be-murdered-by/\" title=\"pitchfork.com\"><img alt=\"Eminem Surprise Drops New Album 'Music to Be Murdered By'\" class=\"lazyload\" data-src=\"https://cdn.albumoftheyear.org/l/14794.jpg\" src=\"https://cdn.albumoftheyear.org/images/white.gif\"/></a></div><div class=\"newsListContentSmall\"><a href=\"/l/14794-eminem-surprise-drops-new-album-music-to-be-murdered-by/\" title=\"pitchfork.com\">Eminem Surprise Drops New Album 'Music to Be Murdered By'</a><div><a class=\"gray\" href=\"/l/14794-eminem-surprise-drops-new-album-music-to-be-murdered-by/\">Comment</a></div></div><div class=\"clear\"></div></div>\n",
       "<div class=\"newsListContainerSmall\"><div class=\"image\"><a href=\"/l/14793-listen-to-2-chainz-and-futures-new-song-dead-man-walking/\" title=\"pitchfork.com\"><img alt=\"Listen to 2 Chainz and Future&amp;rsquo;s New Song &amp;ldquo;Dead Man Walking&amp;rdquo;\" class=\"lazyload\" data-src=\"https://cdn.albumoftheyear.org/l/14793.jpg\" src=\"https://cdn.albumoftheyear.org/images/white.gif\"/></a></div><div class=\"newsListContentSmall\"><a href=\"/l/14793-listen-to-2-chainz-and-futures-new-song-dead-man-walking/\" title=\"pitchfork.com\">Listen to 2 Chainz and Future’s New Song “Dead Man Walking”</a><div><a class=\"gray\" href=\"/l/14793-listen-to-2-chainz-and-futures-new-song-dead-man-walking/\">1 Comment</a></div></div><div class=\"clear\"></div></div>\n",
       "<div class=\"newsListContainerSmall\"><div class=\"image\"><a href=\"/l/14792-the-1975-push-back-album-announce-tour-and-share-new-me-you-together/\" title=\"pitchfork.com\"><img alt=\"The 1975 Push Back Album, Announce Tour, and Share New &amp;ldquo;Me &amp;amp; You Together Song&amp;rdquo;\" class=\"lazyload\" data-src=\"https://cdn.albumoftheyear.org/l/14792.jpg\" src=\"https://cdn.albumoftheyear.org/images/white.gif\"/></a></div><div class=\"newsListContentSmall\"><a href=\"/l/14792-the-1975-push-back-album-announce-tour-and-share-new-me-you-together/\" title=\"pitchfork.com\">The 1975 Push Back Album, Announce Tour, and Share New “Me &amp; You Together Song”</a><div>5 points <span style=\"color:black;\">/</span> <a class=\"gray\" href=\"/l/14792-the-1975-push-back-album-announce-tour-and-share-new-me-you-together/\">Comment</a></div></div><div class=\"clear\"></div></div>\n",
       "<div class=\"newsListContainerSmall\"><div class=\"image\"><a href=\"http://www.brooklynvegan.com/stereogum-buys-itself-back-from-billboard-spin-sold-to-new-owner/\" title=\"brooklynvegan.com\"><img alt=\"Stereogum buys itself back from Billboard; SPIN sold to new owner\" class=\"lazyload\" data-src=\"https://cdn.albumoftheyear.org/l/14791.jpg\" src=\"https://cdn.albumoftheyear.org/images/white.gif\"/></a></div><div class=\"newsListContentSmall\"><a href=\"http://www.brooklynvegan.com/stereogum-buys-itself-back-from-billboard-spin-sold-to-new-owner/\" title=\"brooklynvegan.com\">Stereogum buys itself back from Billboard; SPIN sold to new owner</a><div>1 point <span style=\"color:black;\">/</span> <a class=\"gray\" href=\"/l/14791-stereogum-buys-itself-back-from-billboard-spin-sold-to-new-owner/\">Comment</a></div></div><div class=\"clear\"></div></div>\n",
       "<div class=\"rightBox\"><div class=\"sectionHeading\"><a href=\"/discover/top-rated/\">Recent Best Music</a><div class=\"viewAll\"><a href=\"/discover/top-rated/\">View More</a></div></div>\n",
       "<div class=\"center\"><div class=\"recentTopAlbumBlock\"><a href=\"/album/195096-prince-1999-super-deluxe.php\" title=\"Prince - 1999 (Super Deluxe)\"><img alt=\"Prince - 1999 (Super Deluxe)\" class=\"lazyload\" data-src=\"https://cdn2.albumoftheyear.org/200x/album/195096-1999-super-deluxe.jpg\" src=\"https://cdn.albumoftheyear.org/images/white.gif\"/></a></div><div class=\"recentTopAlbumBlock\"><a href=\"/album/186964-burial-tunes-2011-to-2019.php\" title=\"Burial - Tunes 2011 to 2019\"><img alt=\"Burial - Tunes 2011 to 2019\" class=\"lazyload\" data-src=\"https://cdn2.albumoftheyear.org/200x/album/186964-tunes-2011-to-2019.jpg\" src=\"https://cdn.albumoftheyear.org/images/white.gif\"/></a></div><div class=\"recentTopAlbumBlock\"><a href=\"/album/182622-blood-incantation-hidden-history-of-the-human-race.php\" title=\"Blood Incantation - Hidden History of the Human Race\"><img alt=\"Blood Incantation - Hidden History of the Human Race\" class=\"lazyload\" data-src=\"https://cdn2.albumoftheyear.org/200x/album/182622-hidden-history-of-the-human-race.jpg\" src=\"https://cdn.albumoftheyear.org/images/white.gif\"/></a></div><div class=\"recentTopAlbumBlock\"><a href=\"/album/178232-leonard-cohen-thanks-for-the-dance.php\" title=\"Leonard Cohen - Thanks for the Dance\"><img alt=\"Leonard Cohen - Thanks for the Dance\" class=\"lazyload\" data-src=\"https://cdn2.albumoftheyear.org/200x/album/178232-thanks-for-the-dance.jpg\" src=\"https://cdn.albumoftheyear.org/images/white.gif\"/></a></div><div class=\"recentTopAlbumBlock\"><a href=\"/album/176883-halsey-manic.php\" title=\"Halsey - Manic\"><img alt=\"Halsey - Manic\" class=\"lazyload\" data-src=\"https://cdn2.albumoftheyear.org/200x/album/176883-manic.jpg\" src=\"https://cdn.albumoftheyear.org/images/white.gif\"/></a></div><div class=\"recentTopAlbumBlock\"><a href=\"/album/188531-pinegrove-marigold.php\" title=\"Pinegrove - Marigold\"><img alt=\"Pinegrove - Marigold\" class=\"lazyload\" data-src=\"https://cdn2.albumoftheyear.org/200x/album/188531-marigold.jpg\" src=\"https://cdn.albumoftheyear.org/images/white.gif\"/></a></div><div class=\"recentTopAlbumBlock\"><a href=\"/album/165128-cattle-decapitation-death-atlas.php\" title=\"Cattle Decapitation - Death Atlas\"><img alt=\"Cattle Decapitation - Death Atlas\" class=\"lazyload\" data-src=\"https://cdn2.albumoftheyear.org/200x/album/165128-death-atlas.jpg\" src=\"https://cdn.albumoftheyear.org/images/white.gif\"/></a></div><div class=\"recentTopAlbumBlock\"><a href=\"/album/183784-duster-duster.php\" title=\"Duster - Duster\"><img alt=\"Duster - Duster\" class=\"lazyload\" data-src=\"https://cdn2.albumoftheyear.org/200x/album/183784-duster-lp.jpg\" src=\"https://cdn.albumoftheyear.org/images/white.gif\"/></a></div><div class=\"recentTopAlbumBlock\"><a href=\"/album/205582-mac-miller-circles.php\" title=\"Mac Miller - Circles\"><img alt=\"Mac Miller - Circles\" class=\"lazyload\" data-src=\"https://cdn2.albumoftheyear.org/200x/album/205582-circles-1.jpg\" src=\"https://cdn.albumoftheyear.org/images/white.gif\"/></a></div></div></div><div class=\"adTagThree\">\n",
       "<div align=\"center\" id=\"AlbumOfTheYear_300x250_BTF_2\">\n",
       "<script data-cfasync=\"false\" type=\"text/javascript\">\n",
       "\t\t\t\tfreestar.queue.push(function () { googletag.display('AlbumOfTheYear_300x250_BTF_2'); });\n",
       "\t\t\t</script>\n",
       "</div>\n",
       "</div><div class=\"clear\"></div>\n",
       "\n",
       "\n",
       "<div class=\"clear\"></div><br/>\n",
       "<div class=\"footerButtons\">\n",
       "<div class=\"footerButton spotify\"><a href=\"https://open.spotify.com/playlist/0DjO02nO5ip4GwO7YPEyRT?si=FkZZEeaoTja2ZPNcxMzlVg\" rel=\"nofollow\" target=\"_blank\">January Playlist</a></div>\n",
       "<div class=\"footerButton\"><a href=\"http://forums.albumoftheyear.org\">Forums</a></div>\n",
       "<div class=\"footerButton vmp\"><a href=\"https://vinyl-me-please.evyy.net/c/265434/261635/4249\" rel=\"nofollow\" target=\"_blank\">Vinyl Me, Please</a></div>\n",
       "</div>\n",
       "<div class=\"footer\">\n",
       "<div class=\"footerContent\">\n",
       "<div class=\"footerColumn\">\n",
       "<div><strong>ALBUMS</strong></div>\n",
       "<div><a href=\"/ratings/6-highest-rated/2018/1\">Highest Rated</a></div>\n",
       "<div><a href=\"/ratings/worst/2018/\">Lowest Rated</a></div>\n",
       "<div><a href=\"/ratings/\">Recently Rated</a></div>\n",
       "<div><a href=\"/lists.php\">Year End Lists</a></div>\n",
       "<div><a href=\"/releases/\">New Releases</a></div>\n",
       "<div><a href=\"/random/\" rel=\"nofollow\">Random</a></div>\n",
       "</div>\n",
       "<div class=\"footerColumn\">\n",
       "<div><strong>ARTISTS</strong></div>\n",
       "<div><a href=\"/artists/\">Overview</a></div>\n",
       "<div><a href=\"/bands/top-artists/\">Highest Rated</a></div>\n",
       "<div><a href=\"/random/artist/\" rel=\"nofollow\">Random</a></div>\n",
       "</div>\n",
       "<div class=\"footerColumn\">\n",
       "<div><strong>GENRE</strong></div>\n",
       "<div><a href=\"/genre.php\">Overview</a></div>\n",
       "<div><a href=\"/genre/1-indie-rock/\">Indie Rock</a></div>\n",
       "<div><a href=\"/genre/6-electronic/\">Electronic</a></div>\n",
       "<div><a href=\"/genre/3-hip-hop/\">Hip Hop</a></div>\n",
       "<div><a href=\"/genre/5-folk/\">Folk</a></div>\n",
       "<div><a href=\"/genre/4-indie-pop/\">Indie Pop</a></div>\n",
       "</div>\n",
       "<div class=\"footerColumn\">\n",
       "<div><strong>MORE</strong></div>\n",
       "<div><a href=\"http://forums.albumoftheyear.org\">Forums</a></div>\n",
       "<div><a href=\"/l/newsworthy/\">Newsworthy</a></div>\n",
       "<div><a href=\"/users/\">User Updates</a></div>\n",
       "<div><a href=\"/updates/\">Site Updates</a></div>\n",
       "</div>\n",
       "<div class=\"footerColumn\">\n",
       "<div><strong>SITE DETAILS</strong></div>\n",
       "<div><a href=\"/faq/\" rel=\"nofollow\">FAQ</a></div>\n",
       "<div><a href=\"/privacy.php\" rel=\"nofollow\">Privacy Policy</a></div>\n",
       "<div><a href=\"/contact.php\" rel=\"nofollow\">Contact Us</a></div>\n",
       "<div><a href=\"http://forums.albumoftheyear.org/c/site-feedback\">Feedback</a></div>\n",
       "<div><a href=\"/donate/\">Donate</a></div>\n",
       "</div>\n",
       "<div style=\"float:right; margin-bottom: 15px;\">\n",
       "<div style=\"margin-bottom:4px; text-align:right; font-size: 30px;\">\n",
       "<a href=\"https://www.twitter.com/aoty\" target=\"_blank\" title=\"Twitter\"><i class=\"fab fa-twitter-square\"></i></a>\n",
       "<a href=\"https://www.facebook.com/albumoftheyear\" target=\"_blank\" title=\"Facebook\"><i class=\"fab fa-facebook-square\"></i></a>\n",
       "<a href=\"https://www.instagram.com/_a_o_t_y/\" target=\"_blank\" title=\"Instagram\"><i class=\"fab fa-instagram\"></i></a>\n",
       "</div>\n",
       "</div>\n",
       "<div class=\"clear\"></div>\n",
       "<div>© 2019 Album of The Year </div>\n",
       "</div>\n",
       "<div class=\"overlay\"></div>\n",
       "<script src=\"https://ajax.googleapis.com/ajax/libs/jquery/1.12.4/jquery.min.js\"></script>\n",
       "<script src=\"//ajax.googleapis.com/ajax/libs/jqueryui/1.10.3/jquery-ui.min.js\"></script>\n",
       "<script src=\"/scripts/main.js?8\" type=\"text/javascript\"></script>\n",
       "<script charset=\"utf-8\" src=\"/scripts/albumScript.js?v=16\" type=\"text/javascript\"></script>\n",
       "<div align=\"center\" id=\"AlbumOfTheYear_1x1_skin\">\n",
       "<script data-cfasync=\"false\" type=\"text/javascript\">\n",
       "\t\tfreestar.queue.push(function () { googletag.display('AlbumOfTheYear_1x1_skin'); });\n",
       "\t</script>\n",
       "</div>\n",
       "<script async=\"true\" class=\"teads\" src=\"//a.teads.tv/page/106374/tag\" type=\"text/javascript\"></script></div>\n",
       "<script async=\"\" src=\"/lazysizes.min.js\"></script>\n",
       "<div id=\"amzn-assoc-ad-d24c5dd0-b201-4773-9f4a-42342c3c7ff5\"></div><script async=\"\" src=\"//z-na.amazon-adsystem.com/widgets/onejs?MarketPlace=US&amp;adInstanceId=d24c5dd0-b201-4773-9f4a-42342c3c7ff5\"></script>\n",
       "<script type=\"text/javascript\">\n",
       "var _qevents = _qevents || [];\n",
       "\n",
       "(function() {\n",
       "var elem = document.createElement('script');\n",
       "elem.src = (document.location.protocol == \"https:\" ? \"https://secure\" : \"http://edge\") + \".quantserve.com/quant.js\";\n",
       "elem.async = true;\n",
       "elem.type = \"text/javascript\";\n",
       "var scpt = document.getElementsByTagName('script')[0];\n",
       "scpt.parentNode.insertBefore(elem, scpt);\n",
       "})();\n",
       "\n",
       "_qevents.push({\n",
       "qacct:\"p-9bTPSlCb-XOGY\"\n",
       "});\n",
       "</script>\n",
       "<noscript>\n",
       "<div style=\"display:none;\">\n",
       "<img alt=\"Quantcast\" border=\"0\" height=\"1\" src=\"//pixel.quantserve.com/pixel/p-9bTPSlCb-XOGY.gif\" width=\"1\">\n",
       "</img></div>\n",
       "</noscript>\n",
       "<script src=\"/scripts/pubScript.js\"></script>\n",
       "<script>\n",
       "\t$(document).ready(function() {\n",
       "    $('.socialShare').click(function(e) {\n",
       "        e.preventDefault();\n",
       "        window.open($(this).attr('href'), 'fbShareWindow', 'height=450, width=550, top=' + ($(window).height() / 2 - 275) + ', left=' + ($(window).width() / 2 - 225) + ', toolbar=0, location=0, menubar=0, directories=0, scrollbars=0');\n",
       "        return false;\n",
       "    });\n",
       "});\n",
       "</script>\n"
      ]
     },
     "execution_count": 189,
     "metadata": {},
     "output_type": "execute_result"
    }
   ],
   "source": [
    "page1"
   ]
  },
  {
   "cell_type": "code",
   "execution_count": 7,
   "metadata": {},
   "outputs": [],
   "source": [
    "#parsing response\n",
    "\n",
    "def artist_extract(soup_object):\n",
    "    artist_album = []\n",
    "    page = soup_object.find_all('div', class_ = 'albumListCover')\n",
    "    for i in range(len(page)):\n",
    "        for x in page[i]('img'):\n",
    "            artist_album.append(x['alt'])\n",
    "    return artist_album"
   ]
  },
  {
   "cell_type": "code",
   "execution_count": 10,
   "metadata": {},
   "outputs": [],
   "source": [
    "artist_album1 = artist_extract(page1)\n",
    "artist_album2 = artist_extract(page2)"
   ]
  },
  {
   "cell_type": "code",
   "execution_count": 12,
   "metadata": {},
   "outputs": [
    {
     "data": {
      "text/plain": [
       "['Titus Andronicus - The Most Lamentable Tragedy',\n",
       " \"The Replacements - Don't Tell a Soul\",\n",
       " 'The Jam - This Is the Modern World',\n",
       " 'Beach Slang - The Things We Do To Find People Who Feel Like Us',\n",
       " 'The Distillers - Coral Fang',\n",
       " 'Wire - Red Barked Tree',\n",
       " 'Royal Headache - High',\n",
       " 'Screaming Females - Ugly',\n",
       " 'Iron Chic - The Constant One',\n",
       " 'The Replacements - Hootenanny',\n",
       " 'Screaming Females - Castle Talk',\n",
       " 'Screaming Females - Chalk Tape',\n",
       " 'Protomartyr - No Passion All Technique',\n",
       " 'Dropkick Murphys - Do or Die',\n",
       " 'Joyce Manor - Never Hungover Again',\n",
       " 'Sleater-Kinney - Sleater-Kinney',\n",
       " 'Jawbreaker - Unfun',\n",
       " 'The So So Glos - Blowout',\n",
       " 'Alice Bag - Alice Bag',\n",
       " 'Wire - Send',\n",
       " 'Wire - Object 47',\n",
       " 'Against Me! - Transgender Dysphoria Blues',\n",
       " 'Against Me! - Shape Shift With Me',\n",
       " 'Alice Bag - Blueprint',\n",
       " 'Single Mothers - Negative Qualities']"
      ]
     },
     "execution_count": 12,
     "metadata": {},
     "output_type": "execute_result"
    }
   ],
   "source": [
    "artist_album2"
   ]
  },
  {
   "cell_type": "code",
   "execution_count": 19,
   "metadata": {},
   "outputs": [],
   "source": [
    " def get_album_info(list_of_albums):\n",
    "    \"\"\"Takes a list of albums and makes spotify API call\"\"\"\n",
    "    results = []\n",
    "    for album in list_of_albums:\n",
    "        results.append(spotify.search(q=f'{album}', type=\"album\", limit=1))\n",
    "    return results"
   ]
  },
  {
   "cell_type": "code",
   "execution_count": 235,
   "metadata": {},
   "outputs": [],
   "source": [
    "json_1 = get_album_info(artist_album1)"
   ]
  },
  {
   "cell_type": "code",
   "execution_count": 236,
   "metadata": {},
   "outputs": [],
   "source": [
    "json_2 = get_album_info(artist_album2)"
   ]
  },
  {
   "cell_type": "code",
   "execution_count": 161,
   "metadata": {
    "collapsed": true,
    "jupyter": {
     "outputs_hidden": true
    }
   },
   "outputs": [
    {
     "data": {
      "text/plain": [
       "{'albums': {'href': 'https://api.spotify.com/v1/search?query=Wire+-+Pink+Flag&type=album&offset=0&limit=1',\n",
       "  'items': [{'album_type': 'album',\n",
       "    'artists': [{'external_urls': {'spotify': 'https://open.spotify.com/artist/2i8ynmFv4qgRksyDlBgi6d'},\n",
       "      'href': 'https://api.spotify.com/v1/artists/2i8ynmFv4qgRksyDlBgi6d',\n",
       "      'id': '2i8ynmFv4qgRksyDlBgi6d',\n",
       "      'name': 'Wire',\n",
       "      'type': 'artist',\n",
       "      'uri': 'spotify:artist:2i8ynmFv4qgRksyDlBgi6d'}],\n",
       "    'available_markets': ['AD',\n",
       "     'AE',\n",
       "     'AR',\n",
       "     'AT',\n",
       "     'AU',\n",
       "     'BE',\n",
       "     'BG',\n",
       "     'BH',\n",
       "     'BO',\n",
       "     'BR',\n",
       "     'CA',\n",
       "     'CH',\n",
       "     'CL',\n",
       "     'CO',\n",
       "     'CR',\n",
       "     'CY',\n",
       "     'CZ',\n",
       "     'DE',\n",
       "     'DK',\n",
       "     'DO',\n",
       "     'DZ',\n",
       "     'EC',\n",
       "     'EE',\n",
       "     'EG',\n",
       "     'ES',\n",
       "     'FI',\n",
       "     'FR',\n",
       "     'GB',\n",
       "     'GR',\n",
       "     'GT',\n",
       "     'HK',\n",
       "     'HN',\n",
       "     'HU',\n",
       "     'ID',\n",
       "     'IE',\n",
       "     'IL',\n",
       "     'IN',\n",
       "     'IS',\n",
       "     'IT',\n",
       "     'JO',\n",
       "     'JP',\n",
       "     'KW',\n",
       "     'LB',\n",
       "     'LI',\n",
       "     'LT',\n",
       "     'LU',\n",
       "     'LV',\n",
       "     'MA',\n",
       "     'MC',\n",
       "     'MT',\n",
       "     'MX',\n",
       "     'MY',\n",
       "     'NI',\n",
       "     'NL',\n",
       "     'NO',\n",
       "     'NZ',\n",
       "     'OM',\n",
       "     'PA',\n",
       "     'PE',\n",
       "     'PH',\n",
       "     'PL',\n",
       "     'PS',\n",
       "     'PT',\n",
       "     'PY',\n",
       "     'QA',\n",
       "     'RO',\n",
       "     'SA',\n",
       "     'SE',\n",
       "     'SG',\n",
       "     'SK',\n",
       "     'SV',\n",
       "     'TH',\n",
       "     'TN',\n",
       "     'TR',\n",
       "     'TW',\n",
       "     'US',\n",
       "     'UY',\n",
       "     'VN',\n",
       "     'ZA'],\n",
       "    'external_urls': {'spotify': 'https://open.spotify.com/album/4WXqZZ28geJSPtqLcCF56L'},\n",
       "    'href': 'https://api.spotify.com/v1/albums/4WXqZZ28geJSPtqLcCF56L',\n",
       "    'id': '4WXqZZ28geJSPtqLcCF56L',\n",
       "    'images': [{'height': 640,\n",
       "      'url': 'https://i.scdn.co/image/ab67616d0000b2734c6c5ba83f726dbecf710361',\n",
       "      'width': 640},\n",
       "     {'height': 300,\n",
       "      'url': 'https://i.scdn.co/image/ab67616d00001e024c6c5ba83f726dbecf710361',\n",
       "      'width': 300},\n",
       "     {'height': 64,\n",
       "      'url': 'https://i.scdn.co/image/ab67616d000048514c6c5ba83f726dbecf710361',\n",
       "      'width': 64}],\n",
       "    'name': 'Pink Flag',\n",
       "    'release_date': '1977-11-01',\n",
       "    'release_date_precision': 'day',\n",
       "    'total_tracks': 21,\n",
       "    'type': 'album',\n",
       "    'uri': 'spotify:album:4WXqZZ28geJSPtqLcCF56L'}],\n",
       "  'limit': 1,\n",
       "  'next': None,\n",
       "  'offset': 0,\n",
       "  'previous': None,\n",
       "  'total': 1}}"
      ]
     },
     "execution_count": 161,
     "metadata": {},
     "output_type": "execute_result"
    }
   ],
   "source": [
    "json_2[0]"
   ]
  },
  {
   "cell_type": "code",
   "execution_count": 92,
   "metadata": {},
   "outputs": [
    {
     "data": {
      "text/plain": [
       "25"
      ]
     },
     "execution_count": 92,
     "metadata": {},
     "output_type": "execute_result"
    }
   ],
   "source": [
    "len(json_1)"
   ]
  },
  {
   "cell_type": "code",
   "execution_count": 237,
   "metadata": {},
   "outputs": [],
   "source": [
    "album_id_1 = get_album_ids(json_1)\n"
   ]
  },
  {
   "cell_type": "code",
   "execution_count": 238,
   "metadata": {},
   "outputs": [],
   "source": [
    "album_id_2 = get_album_ids(json_2)"
   ]
  },
  {
   "cell_type": "code",
   "execution_count": 135,
   "metadata": {},
   "outputs": [],
   "source": [
    "def get_album_ids(json_return):\n",
    "    album_ids = []\n",
    "    contents = []\n",
    "    for items in json_return:\n",
    "        contents = items['albums']\n",
    "        for item in contents['items']:\n",
    "            album_ids.append(item['uri'])\n",
    "    return album_ids"
   ]
  },
  {
   "cell_type": "code",
   "execution_count": 130,
   "metadata": {},
   "outputs": [
    {
     "name": "stdout",
     "output_type": "stream",
     "text": [
      "spotify:album:6tcFu0TqSurn0s4unYDXSO\n",
      "spotify:album:31XXN8TRj92V1HB7Wq6LcL\n",
      "spotify:album:1ofMLjpy6bhkxpOcD5y436\n",
      "spotify:album:3YIO1RBJiQoGLimgK6XisN\n",
      "spotify:album:23MOdUJkZlG971DVuEINMr\n",
      "spotify:album:3Tm6OMfXk7PffAEt4NAkmX\n",
      "spotify:album:0T9tIRy1SjZTdTcMFhufu9\n",
      "spotify:album:63mOF4rcNutr1Aaj9QPgJK\n",
      "spotify:album:4fJeL4hdOewP135z0z0xhO\n",
      "spotify:album:0pBqLz20Olwl0JVODWwyoI\n",
      "spotify:album:5xPSi0aOjs3cbObM9ZTOd1\n",
      "spotify:album:6HlGzD3T7aL3Zr7w7QcNTn\n",
      "spotify:album:52FakbyRtaf6X8UzKxJfoh\n",
      "spotify:album:5EKDBIKZ37Idq0QiXG2qzk\n",
      "spotify:album:6cPoZUF1MLvQvXkfDGHwsf\n",
      "spotify:album:6ArjrXMlLegKiAPOp34K58\n",
      "spotify:album:4TAEAcuqfrU87gVTO6LoCP\n",
      "spotify:album:6mtyAknyjUbmwCP0Pjlk3k\n",
      "spotify:album:3MaBkywrJ1juBymiak7R2k\n",
      "spotify:album:4mBHxNHbABZPnckTpL2OSN\n",
      "spotify:album:1hxLe975qGYhzosF74wLxC\n",
      "spotify:album:4MuH5XuLZFuDc6kB2CSapu\n",
      "spotify:album:3lqqdqQPSFFujnoYAQbcKy\n",
      "spotify:album:166nVB36rcSGaol8O8AXfW\n",
      "spotify:album:1J8MyASMXsb0Y1bPeCwTKg\n"
     ]
    }
   ],
   "source": [
    "for items in json_1:\n",
    "    new_list = items['albums']\n",
    "    for item in new_list['items']:\n",
    "        print(item['uri'])\n",
    "        \n",
    "        \n",
    "#         print(i['href'])\n",
    "#         for uri in i['items']:\n",
    "#             print(uri['uri'])"
   ]
  },
  {
   "cell_type": "code",
   "execution_count": 137,
   "metadata": {
    "collapsed": true,
    "jupyter": {
     "outputs_hidden": true
    }
   },
   "outputs": [
    {
     "data": {
      "text/plain": [
       "['spotify:album:6tcFu0TqSurn0s4unYDXSO',\n",
       " 'spotify:album:31XXN8TRj92V1HB7Wq6LcL',\n",
       " 'spotify:album:1ofMLjpy6bhkxpOcD5y436',\n",
       " 'spotify:album:3YIO1RBJiQoGLimgK6XisN',\n",
       " 'spotify:album:23MOdUJkZlG971DVuEINMr',\n",
       " 'spotify:album:3Tm6OMfXk7PffAEt4NAkmX',\n",
       " 'spotify:album:0T9tIRy1SjZTdTcMFhufu9',\n",
       " 'spotify:album:63mOF4rcNutr1Aaj9QPgJK',\n",
       " 'spotify:album:4fJeL4hdOewP135z0z0xhO',\n",
       " 'spotify:album:0pBqLz20Olwl0JVODWwyoI',\n",
       " 'spotify:album:5xPSi0aOjs3cbObM9ZTOd1',\n",
       " 'spotify:album:6HlGzD3T7aL3Zr7w7QcNTn',\n",
       " 'spotify:album:52FakbyRtaf6X8UzKxJfoh',\n",
       " 'spotify:album:5EKDBIKZ37Idq0QiXG2qzk',\n",
       " 'spotify:album:6cPoZUF1MLvQvXkfDGHwsf',\n",
       " 'spotify:album:6ArjrXMlLegKiAPOp34K58',\n",
       " 'spotify:album:4TAEAcuqfrU87gVTO6LoCP',\n",
       " 'spotify:album:6mtyAknyjUbmwCP0Pjlk3k',\n",
       " 'spotify:album:3MaBkywrJ1juBymiak7R2k',\n",
       " 'spotify:album:4mBHxNHbABZPnckTpL2OSN',\n",
       " 'spotify:album:1hxLe975qGYhzosF74wLxC',\n",
       " 'spotify:album:4MuH5XuLZFuDc6kB2CSapu',\n",
       " 'spotify:album:3lqqdqQPSFFujnoYAQbcKy',\n",
       " 'spotify:album:166nVB36rcSGaol8O8AXfW',\n",
       " 'spotify:album:1J8MyASMXsb0Y1bPeCwTKg']"
      ]
     },
     "execution_count": 137,
     "metadata": {},
     "output_type": "execute_result"
    }
   ],
   "source": [
    "album_id_1"
   ]
  },
  {
   "cell_type": "code",
   "execution_count": 108,
   "metadata": {},
   "outputs": [],
   "source": [
    "def get_track_id(album_ids):\n",
    "    \"\"\"Takes a list of spotify album id's, makes API call for track id's of that album\"\"\"\n",
    "    result1 = []\n",
    "    final_result = []\n",
    "    for ids in album_ids:\n",
    "        result1.append(spotify.album_tracks(f'{ids}'))\n",
    "    for item in result1:\n",
    "        for x in item['items']:\n",
    "            final_result.append(x['uri'])\n",
    "    return final_result"
   ]
  },
  {
   "cell_type": "code",
   "execution_count": 239,
   "metadata": {},
   "outputs": [],
   "source": [
    "track_ids = get_track_id(album_id_1)\n",
    "track_id_2 = get_track_id(album_id_2)"
   ]
  },
  {
   "cell_type": "code",
   "execution_count": 219,
   "metadata": {},
   "outputs": [
    {
     "data": {
      "text/plain": [
       "453"
      ]
     },
     "execution_count": 219,
     "metadata": {},
     "output_type": "execute_result"
    }
   ],
   "source": [
    "len(track_id_2)"
   ]
  },
  {
   "cell_type": "code",
   "execution_count": 198,
   "metadata": {},
   "outputs": [
    {
     "data": {
      "text/plain": [
       "311"
      ]
     },
     "execution_count": 198,
     "metadata": {},
     "output_type": "execute_result"
    }
   ],
   "source": [
    "len(track_id_1)"
   ]
  },
  {
   "cell_type": "code",
   "execution_count": 240,
   "metadata": {},
   "outputs": [],
   "source": [
    "for ele in track_id_2:\n",
    "    track_ids.append(ele)"
   ]
  },
  {
   "cell_type": "code",
   "execution_count": 241,
   "metadata": {},
   "outputs": [
    {
     "data": {
      "text/plain": [
       "764"
      ]
     },
     "execution_count": 241,
     "metadata": {},
     "output_type": "execute_result"
    }
   ],
   "source": [
    "len(track_ids)"
   ]
  },
  {
   "cell_type": "code",
   "execution_count": 149,
   "metadata": {},
   "outputs": [],
   "source": [
    "for i in track_id_test:\n",
    "    if i == 'spotify:track:s':\n",
    "        print(i)\n",
    "    "
   ]
  },
  {
   "cell_type": "code",
   "execution_count": 148,
   "metadata": {
    "collapsed": true,
    "jupyter": {
     "outputs_hidden": true
    }
   },
   "outputs": [
    {
     "name": "stdout",
     "output_type": "stream",
     "text": [
      "['spotify:track:0Jt58oonOn1kfMh4VDRZ79', 'spotify:track:7M4SEotnv7t6ZqIKLH5dh0', 'spotify:track:2Smc8bQ5uHgiA6xsYRojgp', 'spotify:track:2rjLe6v56r7NvdJTpGDXwy', 'spotify:track:6gbar40Tl6IvpykjSmieJn', 'spotify:track:7K5T1XTl15X3JQ66NcRvZL', 'spotify:track:2xHLisbaTYlcgXABfLyzFy', 'spotify:track:4ZczlLzGRoTdNotmSDc4nr', 'spotify:track:6ZYqsJnY6wWoLn3kECuTSv', 'spotify:track:5UUKThuiVWNxKVsbOgkyWP', 'spotify:track:2K2fKcuM3xdOF1VZIXWmxA', 'spotify:track:1oTSNSx3Afa5gO9G7RX2hL', 'spotify:track:02OOv8jhfcww6sft29LRuS', 'spotify:track:7AwiTLNZuYKAtVvawiXou5', 'spotify:track:6z4J50cydm4UL2wLqk5W2L', 'spotify:track:1sqhbavNWew2aYvJ0wx2Lu', 'spotify:track:0L2C5LM439nlOhgKLThecR', 'spotify:track:2fQq5tkecQxNEBPYE9350M', 'spotify:track:1a0hlOegySMOBfxnUeHVgn', 'spotify:track:0FWcY55VzQYitIaLLa8I2M', 'spotify:track:45Hu3g2FFJBldkPyrhGuPl', 'spotify:track:3cg3AWFNOPpwySd3kljsE1', 'spotify:track:1kgS3qRiCPNLMndQQJA10A', 'spotify:track:2pl8P9WuTyXyMNde9cb6yN', 'spotify:track:4lCNjhpjPACGSLcT6Rlxlv', 'spotify:track:1qNdmdgPocTwnJJ4E7lljD', 'spotify:track:4Jsc9otpzkPDOQ2V7Ci8Fy', 'spotify:track:3FxfqaP2GY86zcNCODw8xb', 'spotify:track:43fy2VQAIFIlk5zOp83M6R', 'spotify:track:3wd3urhHJUxDsqUkcsghrp', 'spotify:track:2lcl7S27AYrQlpmxpdKYBX', 'spotify:track:3wB0kmlBkWunEdpohD9X8K', 'spotify:track:64PR170d8obrCvd2fEWd8z', 'spotify:track:5PiYw2oGU4DEuRAD5KJfVQ', 'spotify:track:72JzlqSqHIor9bU3e5CbE8', 'spotify:track:7HNS8CLhHmiKcEWfGzuug1', 'spotify:track:4J5VFtuLhbgKhz6UKkABXR', 'spotify:track:6oacp8bL0SiFtaelCDvTdI', 'spotify:track:2w4qXcqprSxZX9FJvsF0qq', 'spotify:track:0GzeTnSf1H2BVvPmHNRiIX', 'spotify:track:5Hbfkjjq5PQtDPzLaUb9Ql', 'spotify:track:3uxACKjork9BHebZqteVHz', 'spotify:track:3opT5i9XB1BP8zNgu6yeRZ', 'spotify:track:49X4znI7JkRu604tqBLpWm', 'spotify:track:2IeNuzJdvhzx2dK2TL8qcT', 'spotify:track:76tvgbNHo2GI4kL7K69Aat', 'spotify:track:2cBWrwD7dRvVKBLY6Ee3Wf', 'spotify:track:1pXXriSh4lpOKFqsAWVdHe', 'spotify:track:02xIb431TygqxO5TdgJhbB', 'spotify:track:0RfJWyCIgAVmDmke9UENtz', 'spotify:track:2vrKKxdWPKRWFh6S5lG07j', 'spotify:track:4eGFooMXO02l13vtUcmH6y', 'spotify:track:0RkWyqti8vO5bZqUQ0k7s9', 'spotify:track:3k9LuTEhL5xBKH7rkN7RJY', 'spotify:track:6dkh4sh4rCTkZLDw2jw9P7', 'spotify:track:1n7FKsJBlkumZaMDh0szWc', 'spotify:track:1qht8QACUgwyAy0hXx7wte', 'spotify:track:3GSPe2BAj7wkxh0goHykSP', 'spotify:track:1VxXJAmuK5bahOICRSBl4i', 'spotify:track:6PgkkfExRTPr7c2NFHKXxN', 'spotify:track:0PhObWPHhaL7DpHcxUP3pb', 'spotify:track:2RSYlP857f6k19MXZWSf4c', 'spotify:track:1cltlMRGWdOKwV9wU1ApcP', 'spotify:track:2kqeLnoRX3Lz60JjZjVtwA', 'spotify:track:6ThBN4O4sffM7FxytPNUiX', 'spotify:track:5VBB0LQawfyqNVa7sfK0mz', 'spotify:track:3BGa5YwpH0CZTHjTnbhIrs', 'spotify:track:3aDhQWGzBiZTocSmcqTv3C', 'spotify:track:4TRCjTBYAcMrBQrH4H3mPz', 'spotify:track:3kYWrBoFBQGctF0UwgP8N1', 'spotify:track:1wasfGITMh8lHrVRy76L5Y', 'spotify:track:2Ov5KEYkvuwkAbYIB4fBXg', 'spotify:track:69N3bWmyWZXj4eR3esskIO', 'spotify:track:1hqVh8yKX1BxFxX9732UUJ', 'spotify:track:7vUuOdabDtkAGRbdZGshsZ', 'spotify:track:5sx6TqoOIrDJ61mGlX4Lar', 'spotify:track:4daLV53Tvv0rD3FlWVt23m', 'spotify:track:7bm8Qa9n6CZj5XWYnONiJT', 'spotify:track:2lVofd3EkPjt8ya4NpbiNP', 'spotify:track:7nWw2HP8FSsJjdW1r5B7F9', 'spotify:track:6QfN7FQZuPMGKrZeIrpZeF', 'spotify:track:1e7Se8uc5CQNfbpYvMZ2JX', 'spotify:track:1dOdSnIe2RJTystXBbtsNt', 'spotify:track:4saID1prQzHStGA6Sa0WSN', 'spotify:track:5QaRR6VVoQSStsxmKZMUDp', 'spotify:track:2WD7f3fiZ4EKwTSCpg4IXG', 'spotify:track:4wyYHoGOt1nbGrpDjg6293', 'spotify:track:5vzVTNiMpb8WDbsUapnFO9', 'spotify:track:5q7RAvP1TtgThWy1YJIw5Y', 'spotify:track:6PCWXv28hBh7Seb3FQA91t', 'spotify:track:6vDR4QSa5Ehpzhux2B8OUX', 'spotify:track:3p1XusZtyUKfrHWWWVhYbI', 'spotify:track:1ZJHBb1xghr1l5fpOUmUaR', 'spotify:track:1P2DGPlGdhQZ1hcVx7qC0N', 'spotify:track:2K1NOiJlCk98OU9t2hLJiB', 'spotify:track:2fDtZNziW0Pd4Un8Sb4k5f', 'spotify:track:01lhcfZIEUd20ZbtLSoZWx', 'spotify:track:06BwZRbXATgi0A7wJ8r7Gc', 'spotify:track:1ZyH7JUt1sd2VWUFDeXMW1']\n"
     ]
    }
   ],
   "source": [
    "print(track_id_test)"
   ]
  },
  {
   "cell_type": "code",
   "execution_count": 150,
   "metadata": {},
   "outputs": [],
   "source": [
    "def tracks_to_playlist(list_of_tracks):\n",
    "    if token:\n",
    "        sp = spotipy.Spotify(auth=token)\n",
    "        sp.trace = False\n",
    "        results = sp.user_playlist_add_tracks(user = '1257267708', playlist_id = '75yDQp4uFy8iUyyMCQ8IZ3' , tracks = list_of_tracks)\n",
    "        print(results)\n",
    "    else:\n",
    "            print(\"Can't get token for\", username)\n",
    "    return results    "
   ]
  },
  {
   "cell_type": "code",
   "execution_count": 181,
   "metadata": {},
   "outputs": [
    {
     "name": "stdout",
     "output_type": "stream",
     "text": [
      "{'snapshot_id': 'MjcsMjVkOTQ1MjVhMDEyOGE2NmViMzE1MzVlMGY5ZjViMzU4OTJkM2Q4NA=='}\n"
     ]
    },
    {
     "data": {
      "text/plain": [
       "{'snapshot_id': 'MjcsMjVkOTQ1MjVhMDEyOGE2NmViMzE1MzVlMGY5ZjViMzU4OTJkM2Q4NA=='}"
      ]
     },
     "execution_count": 181,
     "metadata": {},
     "output_type": "execute_result"
    }
   ],
   "source": [
    "tracks_to_playlist(track_id_test)"
   ]
  },
  {
   "cell_type": "code",
   "execution_count": 242,
   "metadata": {},
   "outputs": [],
   "source": [
    "def remove_tracks(track_id_list):\n",
    "    sp = spotipy.Spotify(auth=token)\n",
    "    sp.user_playlist_remove_all_occurrences_of_tracks(user = '1257267708', playlist_id = '75yDQp4uFy8iUyyMCQ8IZ3' , tracks = track_id_list)\n",
    "\n",
    "\n"
   ]
  },
  {
   "cell_type": "code",
   "execution_count": 243,
   "metadata": {},
   "outputs": [],
   "source": [
    "for i in range(0, len(track_ids), 100):\n",
    "            remove_tracks(track_ids[i:i+100])"
   ]
  },
  {
   "cell_type": "code",
   "execution_count": null,
   "metadata": {},
   "outputs": [],
   "source": [
    "#while there are still tracks in the track list\n",
    "\n",
    "#add in increments of 100\n",
    "#until count is equal to the track list"
   ]
  },
  {
   "cell_type": "code",
   "execution_count": 231,
   "metadata": {
    "collapsed": true,
    "jupyter": {
     "outputs_hidden": true
    }
   },
   "outputs": [
    {
     "name": "stdout",
     "output_type": "stream",
     "text": [
      "['spotify:track:0Jt58oonOn1kfMh4VDRZ79', 'spotify:track:7M4SEotnv7t6ZqIKLH5dh0', 'spotify:track:2Smc8bQ5uHgiA6xsYRojgp', 'spotify:track:2rjLe6v56r7NvdJTpGDXwy', 'spotify:track:6gbar40Tl6IvpykjSmieJn', 'spotify:track:7K5T1XTl15X3JQ66NcRvZL', 'spotify:track:2xHLisbaTYlcgXABfLyzFy', 'spotify:track:4ZczlLzGRoTdNotmSDc4nr', 'spotify:track:6ZYqsJnY6wWoLn3kECuTSv', 'spotify:track:5UUKThuiVWNxKVsbOgkyWP', 'spotify:track:2K2fKcuM3xdOF1VZIXWmxA', 'spotify:track:1oTSNSx3Afa5gO9G7RX2hL', 'spotify:track:02OOv8jhfcww6sft29LRuS', 'spotify:track:7AwiTLNZuYKAtVvawiXou5', 'spotify:track:6z4J50cydm4UL2wLqk5W2L', 'spotify:track:1sqhbavNWew2aYvJ0wx2Lu', 'spotify:track:0L2C5LM439nlOhgKLThecR', 'spotify:track:2fQq5tkecQxNEBPYE9350M', 'spotify:track:1a0hlOegySMOBfxnUeHVgn', 'spotify:track:0FWcY55VzQYitIaLLa8I2M', 'spotify:track:45Hu3g2FFJBldkPyrhGuPl', 'spotify:track:3cg3AWFNOPpwySd3kljsE1', 'spotify:track:1kgS3qRiCPNLMndQQJA10A', 'spotify:track:2pl8P9WuTyXyMNde9cb6yN', 'spotify:track:4lCNjhpjPACGSLcT6Rlxlv', 'spotify:track:1qNdmdgPocTwnJJ4E7lljD', 'spotify:track:4Jsc9otpzkPDOQ2V7Ci8Fy', 'spotify:track:3FxfqaP2GY86zcNCODw8xb', 'spotify:track:43fy2VQAIFIlk5zOp83M6R', 'spotify:track:3wd3urhHJUxDsqUkcsghrp', 'spotify:track:2lcl7S27AYrQlpmxpdKYBX', 'spotify:track:3wB0kmlBkWunEdpohD9X8K', 'spotify:track:64PR170d8obrCvd2fEWd8z', 'spotify:track:5PiYw2oGU4DEuRAD5KJfVQ', 'spotify:track:72JzlqSqHIor9bU3e5CbE8', 'spotify:track:7HNS8CLhHmiKcEWfGzuug1', 'spotify:track:4J5VFtuLhbgKhz6UKkABXR', 'spotify:track:6oacp8bL0SiFtaelCDvTdI', 'spotify:track:2w4qXcqprSxZX9FJvsF0qq', 'spotify:track:0GzeTnSf1H2BVvPmHNRiIX', 'spotify:track:5Hbfkjjq5PQtDPzLaUb9Ql', 'spotify:track:3uxACKjork9BHebZqteVHz', 'spotify:track:3opT5i9XB1BP8zNgu6yeRZ', 'spotify:track:49X4znI7JkRu604tqBLpWm', 'spotify:track:2IeNuzJdvhzx2dK2TL8qcT', 'spotify:track:76tvgbNHo2GI4kL7K69Aat', 'spotify:track:2cBWrwD7dRvVKBLY6Ee3Wf', 'spotify:track:1pXXriSh4lpOKFqsAWVdHe', 'spotify:track:02xIb431TygqxO5TdgJhbB', 'spotify:track:0RfJWyCIgAVmDmke9UENtz', 'spotify:track:2vrKKxdWPKRWFh6S5lG07j', 'spotify:track:4eGFooMXO02l13vtUcmH6y', 'spotify:track:0RkWyqti8vO5bZqUQ0k7s9', 'spotify:track:3k9LuTEhL5xBKH7rkN7RJY', 'spotify:track:6dkh4sh4rCTkZLDw2jw9P7', 'spotify:track:1n7FKsJBlkumZaMDh0szWc', 'spotify:track:1qht8QACUgwyAy0hXx7wte', 'spotify:track:3GSPe2BAj7wkxh0goHykSP', 'spotify:track:1VxXJAmuK5bahOICRSBl4i', 'spotify:track:6PgkkfExRTPr7c2NFHKXxN', 'spotify:track:0PhObWPHhaL7DpHcxUP3pb', 'spotify:track:2RSYlP857f6k19MXZWSf4c', 'spotify:track:1cltlMRGWdOKwV9wU1ApcP', 'spotify:track:2kqeLnoRX3Lz60JjZjVtwA', 'spotify:track:6ThBN4O4sffM7FxytPNUiX', 'spotify:track:5VBB0LQawfyqNVa7sfK0mz', 'spotify:track:3BGa5YwpH0CZTHjTnbhIrs', 'spotify:track:3aDhQWGzBiZTocSmcqTv3C', 'spotify:track:4TRCjTBYAcMrBQrH4H3mPz', 'spotify:track:3kYWrBoFBQGctF0UwgP8N1', 'spotify:track:1wasfGITMh8lHrVRy76L5Y', 'spotify:track:2Ov5KEYkvuwkAbYIB4fBXg', 'spotify:track:69N3bWmyWZXj4eR3esskIO', 'spotify:track:1hqVh8yKX1BxFxX9732UUJ', 'spotify:track:7vUuOdabDtkAGRbdZGshsZ', 'spotify:track:5sx6TqoOIrDJ61mGlX4Lar', 'spotify:track:4daLV53Tvv0rD3FlWVt23m', 'spotify:track:7bm8Qa9n6CZj5XWYnONiJT', 'spotify:track:2lVofd3EkPjt8ya4NpbiNP', 'spotify:track:7nWw2HP8FSsJjdW1r5B7F9', 'spotify:track:6QfN7FQZuPMGKrZeIrpZeF', 'spotify:track:1e7Se8uc5CQNfbpYvMZ2JX', 'spotify:track:1dOdSnIe2RJTystXBbtsNt', 'spotify:track:4saID1prQzHStGA6Sa0WSN', 'spotify:track:5QaRR6VVoQSStsxmKZMUDp', 'spotify:track:2WD7f3fiZ4EKwTSCpg4IXG', 'spotify:track:4wyYHoGOt1nbGrpDjg6293', 'spotify:track:5vzVTNiMpb8WDbsUapnFO9', 'spotify:track:5q7RAvP1TtgThWy1YJIw5Y', 'spotify:track:6PCWXv28hBh7Seb3FQA91t', 'spotify:track:6vDR4QSa5Ehpzhux2B8OUX', 'spotify:track:3p1XusZtyUKfrHWWWVhYbI', 'spotify:track:1ZJHBb1xghr1l5fpOUmUaR', 'spotify:track:1P2DGPlGdhQZ1hcVx7qC0N', 'spotify:track:2K1NOiJlCk98OU9t2hLJiB', 'spotify:track:2fDtZNziW0Pd4Un8Sb4k5f', 'spotify:track:01lhcfZIEUd20ZbtLSoZWx', 'spotify:track:06BwZRbXATgi0A7wJ8r7Gc', 'spotify:track:1ZyH7JUt1sd2VWUFDeXMW1', 'spotify:track:2twRRzKh1cq4bKoOIIwaVJ']\n",
      "['spotify:track:3Bnd7c8h6l59Y1HHDW2sf2', 'spotify:track:5M8Axy1ulCKiDYJBJ74ucL', 'spotify:track:5T5bdIBW70Zsqm1wSOFV7r', 'spotify:track:68vz4nyN0NBkrBUpE0SsOO', 'spotify:track:0xRxpBkGFEvERO9kxZ0YSG', 'spotify:track:6l1fd7Y3PSJ7kepaaKe2MP', 'spotify:track:3IPJqX5gbsv62hgXPzqGcb', 'spotify:track:4iewTPl6oFTVpYztHPaz3S', 'spotify:track:5BFIPwcl58Jf11qDTUNdd5', 'spotify:track:1HgGxhwoLGWegx5tZbNsTW', 'spotify:track:5EzrektZC1TQXfnV3GjoyP', 'spotify:track:3kiduAocoZ5E7flqTyDhKV', 'spotify:track:4iUGaelQhs1x9d30faX5iX', 'spotify:track:0t9Q6X3xYzxZdxgWyO37HM', 'spotify:track:7sxARmpSIMAexkniuRf70I', 'spotify:track:37KUcDdNnH7Bg5C4VfgPUD', 'spotify:track:2JQNKY9rKRO9BHwi21S3k6', 'spotify:track:7xj0BM4VkvmoH3PFCvv6bp', 'spotify:track:6E8GlyT87ySGcPJYZPFuSi', 'spotify:track:2eVR59jPSkpWMRD3fdEUZe', 'spotify:track:4maiodREzF7MigtHIJxy0E', 'spotify:track:4JcwYFckZBq3dYBja5AHJc', 'spotify:track:2MTuxmkcZPxeAihQmeZ2yb', 'spotify:track:1eHUtLoiPhpOFhtQQyLJYW', 'spotify:track:1V3gpDM0XvDyVNp34fVQrY', 'spotify:track:3blwbD0cwonhQykAqbyBMw', 'spotify:track:1Qf1US6nCxUivKrPKjTjqb', 'spotify:track:5opBp1D5CWwcHh0g3axXko', 'spotify:track:5R635KdTqpq38bjXQGM7YJ', 'spotify:track:6e3R982g0kTeKoq2siYYij', 'spotify:track:6tYoqqfgPEwhTnwyHLcTgF', 'spotify:track:0BA1prcb9S6XemIxZd7onf', 'spotify:track:7dnuiF2NqOhStTeTbmrMbE', 'spotify:track:4tDeLNuoOgqUtC0LeXK5s1', 'spotify:track:0DwH6UzZHhMgbbiQ4yfbp5', 'spotify:track:2ggvFWsCi9gIJ4onGs9nFG', 'spotify:track:7HBfqVdfPV8KZxReuumIkC', 'spotify:track:1hBamLaF7ZBCxuNEVHxOFi', 'spotify:track:7DAz8kpcP0XX4Q4eSIdfny', 'spotify:track:7I4fBunCnvxqpz21a1Yj82', 'spotify:track:0CLy1mFxQO7g4tmLDbxZ6X', 'spotify:track:4K2QnxUN8TZqst1SIOA2Ld', 'spotify:track:5WucmRBwuIlypgDbx5RtqT', 'spotify:track:2RCXn16Ow1hpo3uyFPraIw', 'spotify:track:5eBiYzceGrZTcXxxHM8Cc9', 'spotify:track:66Byaf4fVh3FFtlLBImQ6q', 'spotify:track:4zxCgI1NN3R579x2UvF0Wp', 'spotify:track:5J0xBTDq5vJvUh1bMyN0iE', 'spotify:track:2mCqcZS8xxPIFlRciCxvuD', 'spotify:track:4BRMe8LPZitw0X6LlJbLrk', 'spotify:track:1aBNb4A4UtYQ35cUJhAkyL', 'spotify:track:2YPqUAkWlV0AsQ4gggUy1N', 'spotify:track:1GWKBegyr2F7iwc1LGVOuG', 'spotify:track:4ELzWa5Mrq5keQN3lTQegx', 'spotify:track:5d7LUcZ2kv6KmD2PRtPeSH', 'spotify:track:0DcQR0fhEgZyIYLwZvvU13', 'spotify:track:7luQTlSASDBYb38kDOj6SJ', 'spotify:track:4y7fzWEMM19WS4uk8yfLlS', 'spotify:track:7HrG60wYpUBtrdOBUWvaiW', 'spotify:track:5CUN5mAhZrhwdEo3kT7xC1', 'spotify:track:6IgdxB2hvSEwdl3Tg3Pb80', 'spotify:track:1e2cMIlvienZ0pCdHeAApN', 'spotify:track:76i7txeo4Jf58pYLzQyfDt', 'spotify:track:1aMhPIaXKHthOXKTzROsS6', 'spotify:track:6sajw0Ye7W8hCBxmGL8qkW', 'spotify:track:2Ks7xO3x55TptPOZwRjdUV', 'spotify:track:0fBbz92P4UUsPeSq7XfENe', 'spotify:track:5S2qv4vo8yxFX5wM0hdPOF', 'spotify:track:6qRlAL9ZzamlWfbOygOLi8', 'spotify:track:0O2Fv0TfSPc1domXJFSEj0', 'spotify:track:6QVyXcOb8x22SssdrhxnEh', 'spotify:track:5h6snF0Oc9r12VICg3BXFB', 'spotify:track:2aUgyVaD5m7hi0Sqam3frw', 'spotify:track:5YHOnqIrjhRy5ThzFRWONC', 'spotify:track:4zuEua2fQF5q6ev0oWt5XW', 'spotify:track:6Amr2Dofw2u4zjo12UfRBT', 'spotify:track:578irIpfjyhKxYQaTPZ9mu', 'spotify:track:1qqu8COuWRIDUpMLrYKRou', 'spotify:track:2C7KuGCNGqnsiCLjf8XmwF', 'spotify:track:48d7VJbQF6OWxoSdoLKnsy', 'spotify:track:6vQ50zCW7LDO6mmMkAXPrW', 'spotify:track:2Dct5YfS02aR5oPUfgrk19', 'spotify:track:0kVyKxg7SMIB3NnduRdo6n', 'spotify:track:4RyCNwd3NfCMrHOib0X1xB', 'spotify:track:2c5a4guWHIa6ZURubna4oC', 'spotify:track:5L7nmlaU9TO3PZ8b7cVNqE', 'spotify:track:5ud6YYZ91cre0SCZrETB9B', 'spotify:track:2i2R0D5zcsj0KUcVCfy9ZO', 'spotify:track:5AtphKfJ4zmnEXOlZ2dWbW', 'spotify:track:6kigTMUuYG2TXhCFNZxeDb', 'spotify:track:2M0IWOmIi079R1MaPVlOW3', 'spotify:track:2fRoVOrg0r1HDySTwiVOET', 'spotify:track:3zvjgw8Lt41RIyYbrlegJk', 'spotify:track:2PcaadgwkqLEAOjDR0oPdy', 'spotify:track:6PvAGVrBOBlVNdvdi0A7Xt', 'spotify:track:6cbT6LikxBpLzCUvuX01rD', 'spotify:track:59A9RvvTP10KkVExBlN4ey', 'spotify:track:2TqfK2N1kFoX7OySPCB7pQ', 'spotify:track:0LkvIXLV8mSf57zv0DN10l', 'spotify:track:0SJZFV7p1Nhd9xQnUonHSY']\n",
      "['spotify:track:6EUSmVljC3J77F8SHpthqm', 'spotify:track:0tUeV3UblB15D5PwMPSrbw', 'spotify:track:33kTpZiXOEs9yQrSzn0cV5', 'spotify:track:2gW7k95AqgKGA5QSbRX05B', 'spotify:track:7dAOhEQRNYvbW6V9ICoka4', 'spotify:track:2ZjlekLZScwrFrFxQbJlj7', 'spotify:track:5E7mvKUZ7OLr0aRq5R3mPR', 'spotify:track:5Cj4uKo0JGQsh6o63m55Yx', 'spotify:track:3Ff5mXht50EL5LyBm24A5t', 'spotify:track:3jJzeaw3A5LM2tAVVvrepb', 'spotify:track:1kaYGnm5Z1syivl8dCDaRZ', 'spotify:track:0q3UPH9z4TDXSuNJLzo5r8', 'spotify:track:2rkSQeKwzc1zgnpc863WMD', 'spotify:track:1gE7PeMho6Arfqaepdnzcn', 'spotify:track:7A3or2SNU6EI0ktV0DUpfW', 'spotify:track:0PpanOjYGRrBxthBh35w6i', 'spotify:track:2B5vp0cSEgaHVhOcvGNOLq', 'spotify:track:0ckW4ZTBbquxfJswNeaWYU', 'spotify:track:4LfUyTfLe87LlP9t8K6CnQ', 'spotify:track:0i3d4Zx5BnGi2ZJklG6629', 'spotify:track:5BUBlqamXPONm1ZtjOCgxV', 'spotify:track:3odKVNC6X0qHT51sFLTASZ', 'spotify:track:08gHhwzMOcNJ7Z9buHYMMm', 'spotify:track:0uUoA1g7pqzLHr7bmDfWwK', 'spotify:track:4sBrHXomkPHOPkzcPF7JrX', 'spotify:track:51vWVBQxVPg3vTfoshggvp', 'spotify:track:16138J8KAIGcCV4sY4Uydg', 'spotify:track:5WdPLd7p5IirfQZTbkEHei', 'spotify:track:4QMGbbmuvzR3niih6TzqZM', 'spotify:track:2rzQSDMRbe5RnCaNq410xp', 'spotify:track:1H7omi2G6ZEDrtiAnt9RH7', 'spotify:track:4BPCgSTbAe0JjLDTEA0xyi', 'spotify:track:1Qka3E2aWchHPlAfE8ytNa', 'spotify:track:6wzc7xMzXAOnzCakTMI7Dh', 'spotify:track:20J27vPs9GcBxaVEEyWQKc', 'spotify:track:6FGixgY5PK5HT9EJ3ISoUW', 'spotify:track:0syC48IbjIDq7VdkqcPff7', 'spotify:track:6JMY7pWAxNFC9h8o1DOeCf', 'spotify:track:0aFXcfuRTCeJ5pH5MiAJD4', 'spotify:track:6Nwsj9Lx2fm8006H5wBCXu', 'spotify:track:1XsnrdoxlxOoihCQLo6Dzf', 'spotify:track:5KU3bzpEA3FD5B6LcinwKd', 'spotify:track:5ofON0PLRrQRinLOILT9pf', 'spotify:track:3wvBod0dzh6xvvK2v7BciY', 'spotify:track:4SJ1PwrvMak4UrQlBRTpln', 'spotify:track:6y9AuzC6PgW7RRFyvnlXi4', 'spotify:track:0NFEwZ6cY3EwKYhgoatuCq', 'spotify:track:2bwwEMESRslIOHKBrOqnPF', 'spotify:track:2g5OGcKunXkgioFFPEAEUn', 'spotify:track:73tXURNfwZwLPhaSZOQ9m4', 'spotify:track:2zTDQ5s8VBSXMZSaKCOEF3', 'spotify:track:79w2uOfpJ3AQgzKznzkaZ2', 'spotify:track:3vVs16IKPECRMgcEbgMPNe', 'spotify:track:47mCNaQ34IIQLNCiGaXKld', 'spotify:track:1yQQalrGGkWklOfTwsgUE6', 'spotify:track:4MsN5e3nqsToYJHGiEPRGP', 'spotify:track:2kxD241UWMoSBVN3h8hanQ', 'spotify:track:5G7xRfa5nYwOllekvZbqQR', 'spotify:track:0Cji7O2zrmwAbfwpc82bgO', 'spotify:track:6OOudX5s3a2PpMmi8wukMu', 'spotify:track:5ZGt82F0esrNXn2QB5E6zj', 'spotify:track:4JskwMLfSy26JH51MASUG7', 'spotify:track:2QdW9TpCnIpSOdpH681C59', 'spotify:track:3Ch8B5K8y63WlifZsJPmQd', 'spotify:track:11YHV0l5vIohEmFUPVLLQO', 'spotify:track:3NKpkZ5oW7cY4P2BBS0lXN', 'spotify:track:4occg7t8EVf1GERWQHSIqI', 'spotify:track:2LDDlM9YHAshykgQt0WrJg', 'spotify:track:4RdpSi00jdvfRLZb3Q1WhB', 'spotify:track:6UXAOLTxMM6EJQZgOb5Rxf', 'spotify:track:2ISaKoZQokSYkBR37H8oPr', 'spotify:track:204l7VgvOLE7kTibWpOlHa', 'spotify:track:4iGhFSvw49SGimWHkpINny', 'spotify:track:3QNhaLEOui5haYdJzXxgFC', 'spotify:track:0Qw5DJbL1TGM8l8Glkd8fz', 'spotify:track:5yDqUTEQVuhE3TT3l2ltlB', 'spotify:track:6iNCBysBe8sSqElsPCiwKt', 'spotify:track:6XI33hctgDLUIRKI8wsJS4', 'spotify:track:5VEImmqpkQPIyD3tAChiGJ', 'spotify:track:3jHjsNgG1UIlS89vzB1rEt', 'spotify:track:4RzjMVsoyIkPM2lMP7pSqI', 'spotify:track:3iEV3zaCYBptZuziV6txRL', 'spotify:track:1GcO82tV4jo6V2jpRT7G9n', 'spotify:track:5pyHTi1WOBpU2WvRAlpQ0l', 'spotify:track:3dvNJJ5eiiZu5zmO26yAJM', 'spotify:track:0TJ27eoayy3FO0p8EWt0Uj', 'spotify:track:0SW4itgCCZig5oIHIknv9l', 'spotify:track:4pFQnJsPUcfCL8yUvLL6od', 'spotify:track:5OSSF8dG4oNOmBxa4hplWk', 'spotify:track:6SQdHpBrpdM6e8adOsLAi9', 'spotify:track:5d0Rkvr1HclmghXOh8QAx5', 'spotify:track:0UEQznTUX9LF5MuERQKcEn', 'spotify:track:1XrTzzeOh5QbG8QOVzcPMS', 'spotify:track:7G2Y5WcEQOf4uyV4BV5Qtw', 'spotify:track:6TjhDrqiMm3T5SgL2fpB8Q', 'spotify:track:4t8jiZ3PLODriNQQjaPS0O', 'spotify:track:3ouUFpzBjwvWS6G2yuJqR0', 'spotify:track:6PUmUsmhfRK4mNSNP61RdF', 'spotify:track:5G298WCLS9VBSgFcO4zc1D', 'spotify:track:5zyBpFTnJ4IohUs68E9fy6']\n",
      "['spotify:track:7LqCAPlHr9y2taJRXCa0ue', 'spotify:track:0xdqbXA56xeR7kHA2x5XE1', 'spotify:track:63fkAJDR9grxhIHSoiEG6E', 'spotify:track:0Yw44GPw6Lfb2QxRT8nfey', 'spotify:track:7JG17EgvRN55DOpLgdR8qs', 'spotify:track:0pY1rSUvMn5jWBpOYJjvh7', 'spotify:track:2XCLhIAsOzDkYMoHgFrdTo', 'spotify:track:3TMFCYcNRS2eunU4KgG89B', 'spotify:track:5B3ANm8FItpW8ZRU87MuBr', 'spotify:track:0ZxbfXWhBrMyZxiIrJeadh', 'spotify:track:23rmOUDBg29q7KNovPMZk8', 'spotify:track:0T3uPDgL6iErias0LLfJIE', 'spotify:track:1MQQfz3N6AysgAvbHDHhCa', 'spotify:track:0bN5W8EhIJhh6zvgeNG57J', 'spotify:track:5bb71zUIXMD6fsnHBLaoQ6', 'spotify:track:2fb7dWrEsTKuPWohoaQHa5', 'spotify:track:6ZzgkNscFRe9PiryaeUVwo', 'spotify:track:5qdsapFwiOWNGh5pFF6ieB', 'spotify:track:4ospwieFO34SwD90nXqR6r', 'spotify:track:5Afr2zFhd1HPMtAHwdakUx', 'spotify:track:6VvpBt95FoPF01YBqv0vV1', 'spotify:track:0mi8mZwiirZfF87H99gXel', 'spotify:track:6X7CDzfm1Nq7qZwmRaSUWS', 'spotify:track:6tPUscoU7EpieQLHBBWd0q', 'spotify:track:0Irgm60IPuidNzELI4fMho', 'spotify:track:0GWyL6sgPd7g6yppYNMLaG', 'spotify:track:55tzW3Ar6PPmh1rNYBqE3l', 'spotify:track:5LEwYNnwG1RSVseSmMZQpo', 'spotify:track:5OEtdILhohC7GCVio8Uboq', 'spotify:track:6Slsb9yR7U2gvgw4GEGkbV', 'spotify:track:3dCgliUWlFmR5pAoBilndg', 'spotify:track:2X7Yq4DYQmEx1bZ1bYjlYx', 'spotify:track:5jzma6gCzYtKB1DbEwFZKH', 'spotify:track:7FYkZkF9fog6WS818wJnhl', 'spotify:track:06JxwPA4WAg0LWADJtaldL', 'spotify:track:2FNsNZjUQg3bhx5dWW0pRs', 'spotify:track:4W9zZsQKsqikYbKM9vcN5Q', 'spotify:track:6wtmql7FJ7SSLuSw8JD8rX', 'spotify:track:33GXePBlErinst4NjAvWuc', 'spotify:track:72boGlgSwUK01n44O2tOCv', 'spotify:track:66MwdlxiFMZ8TJGLEJnS7x', 'spotify:track:0jnFDxgNhS156vu6roUVco', 'spotify:track:1bzfgbLPF3XTyDhmvoQ6uH', 'spotify:track:3lUVy400HL94NB03paDTyN', 'spotify:track:1YvbtzUkXtgotCTo6QeqkW', 'spotify:track:2zAwL5UwmqIh3JoKVkFvd8', 'spotify:track:4A8jvQQ5EnKlTJIirMhgfA', 'spotify:track:2X89n7LOYnkKzfIlvi8sRp', 'spotify:track:1eijsmCG81EUB5YGGAz6Yv', 'spotify:track:4HNkcbObzBZnIlxB49GgrC', 'spotify:track:6ITuEsxEy2qPhqMowdDAeI', 'spotify:track:7weMJXfu8leOPWd4COj2Qp', 'spotify:track:7gYebRfI8J2ERtskncrbrP', 'spotify:track:10Ek2MdrYWEUlQGp6uBjfF', 'spotify:track:3XXRLGiFxcGCIvQZibTVB1', 'spotify:track:7xvIF8xmq2HsN2jvNcrEiv', 'spotify:track:4jUVjgUKzGifVIK3yfRXdk', 'spotify:track:1aMxqU4b59JT5Y9Wtyusis', 'spotify:track:2R6hATZIhkdZ4b06G74zmb', 'spotify:track:1UVj9jV3CkOm5bId2M2mvs', 'spotify:track:4qcGDeuUURbFGE8BoXpFw6', 'spotify:track:2FTyVNHJo99MI0Fsj9hC4T', 'spotify:track:1ClW8dffOO7DOO5DcL0U1M', 'spotify:track:45sLgL6dd1FEErzCBZSlB0', 'spotify:track:6hGDmUUy7CK60yq18VW03V', 'spotify:track:2I1rVlfoiNdcf2p8bs5C2E', 'spotify:track:0Ad8AhpohzdxXOtaDo1MEf', 'spotify:track:57EwKyLEATqtLm2X9mpq2E', 'spotify:track:2Tnb8LZF3z445HBZ8ukusT', 'spotify:track:0rtVaUE88GYHIV8fXjK7Iw', 'spotify:track:1H6zB6JnI7zaJyL19qFKPN', 'spotify:track:6opLyr3ISKiH96VDkUzgLM', 'spotify:track:0Gjl8ohra8BPiORIosJVQI', 'spotify:track:7lldVS03PWAv9AgFCbTC0M', 'spotify:track:2ExGiCmvzowjdLE81NPgnP', 'spotify:track:4hOLzlyE2sUuVaSMYofCHB', 'spotify:track:6O8kjzOoOzjLOreDZ0tLET', 'spotify:track:36HE1I5Iaoi37qhyZdJWui', 'spotify:track:50pN0J6637RkXQrHLXkg9L', 'spotify:track:5PyWm8ToToZ9O5WKzUzYSB', 'spotify:track:10GeDW6PHlD9jUx3PYOGNu', 'spotify:track:1cjJm37zIBmagSPVb71ME5', 'spotify:track:7HOowQ7T0N77wsapJcDSSf', 'spotify:track:4zxPzm6pJDxx4dvgMhsa8v', 'spotify:track:61a4XN0lRWZbG4j0pbJoZQ', 'spotify:track:6dn6HssjxEyaRHbvq1A2HF', 'spotify:track:2QFz2hiJWBy05g1a5TMhwO', 'spotify:track:5umwUHWFrWVfgN7igtzqQ8', 'spotify:track:7uZoHcTmsCn73ed2NedThJ', 'spotify:track:7l5kOMmACRRDCz2fmGTCtV', 'spotify:track:21vp1orbqySVyww9ngW44w', 'spotify:track:51NHmSOPGDM5zGVooMEDRm', 'spotify:track:3bbVPVAL3ulmu3kNGJ9EDF', 'spotify:track:60nriFcKARUpnYksJkDqJR', 'spotify:track:51MMeFinCcfpGEn8fUga0M', 'spotify:track:5anmC2NmiEOlfp5ahKxKia', 'spotify:track:2xUVQylqgrbkwUnRQyutKG', 'spotify:track:2z2qTST29C0jxdCGjlqVNE', 'spotify:track:6nT02nLUsL3Xc1LRPzlHsQ', 'spotify:track:60UJ75pY9YaL7qpT2KKT3h']\n",
      "['spotify:track:2hPOhalhnij5ei9Y3VBgBQ', 'spotify:track:3aXYVBh5xgdHwRbkVrYf5T', 'spotify:track:3rlBU6SOIIDpK9UIItQvWA', 'spotify:track:3W73708ULWFAdR5mtUaJYT', 'spotify:track:1lLn8bE7aM5TSjYI1mQheE', 'spotify:track:5LkBMcncPetiP8za7XdAGy', 'spotify:track:2LUVo82IKIpCuBNSaqF0G8', 'spotify:track:7fwuT8n8FPJGseqr38zJtE', 'spotify:track:2yDjtl4TU5z77W2MfL3ejK', 'spotify:track:0A2C5eJzfGGnDtwRqby1LD', 'spotify:track:45fq6kIQtooot7WVRsXAum', 'spotify:track:2D3KQnbneZ1WI02xDal8iN', 'spotify:track:74PzFTj0YKQhtESkU5VrfF', 'spotify:track:3R6jsQgcGKwYHTYHtoTmU8', 'spotify:track:4X2cqABozX3BgzS7G4TmUN', 'spotify:track:0jwiakOoVQkolSUVTnehVs', 'spotify:track:3aAW52pqLhpZwZQqZocRFU', 'spotify:track:5y41sQIB4ukaYycIvNO0Pp', 'spotify:track:4V83QW8mavnEKyjAhcVp20', 'spotify:track:64H5mnCQXLDzxTlzuisN73', 'spotify:track:3Yu5i8Jwq2anl6mMcKTRge', 'spotify:track:0aocsnZlGirqzJSbisPa15', 'spotify:track:624TuCJS0AmQEpaDUNkAnm', 'spotify:track:1zWKWdQLKZhAON3ZjxlOnf', 'spotify:track:3sglxsW7n68vK0G8140SA1', 'spotify:track:5nGWMBcoKyI31X1bAkEwXJ', 'spotify:track:2SvYlUac45Z5gFRdJSjMNz', 'spotify:track:4GqCCrm096KlucWDhXiGYN', 'spotify:track:07GDrCg4yZe0hmksXD3nRh', 'spotify:track:3FEgOe4ms9sIpxmCSqeF9d', 'spotify:track:1PfIUKoQPM0aHlqSpyR8j3', 'spotify:track:2aWBl6AMA9nD1SqWHmLZjg', 'spotify:track:2ZASz7LcgCBaU1g3daXbiw', 'spotify:track:1LaG5Z5Ig0sqckML8yAcDc', 'spotify:track:4acDtTzAsmy60xWneeChS7', 'spotify:track:09eBMVkPeLVBrSKeG3TryS', 'spotify:track:3YD5vO3TvQRoqfU3NYYWnN', 'spotify:track:6BclGuJyJuUqqjUlqTfhiU', 'spotify:track:540McDHcq1tuwL44zzxxBk', 'spotify:track:7K500OvgjtmDK8HJjHEtoD', 'spotify:track:5owteWmvd2fjKpvL7AXfkj', 'spotify:track:3UieIbEtb7evYcdNgKczEa', 'spotify:track:2po7bAcb6RDDQpIvzNc57t', 'spotify:track:7q6GEkuUzXGfoDqMgA0SPe', 'spotify:track:7zFRlsPxf9hN79nKzf3fxH', 'spotify:track:4dyBuBbYZj1iiK0ywYjYzT', 'spotify:track:7bmHNcuflaGgUgEV4CuDCA', 'spotify:track:3Lqdz3R1AJi1Se3ty3vPQ8', 'spotify:track:3iQSYzbuCEIZjXAYZ2wQ5N', 'spotify:track:1BtQTB6RbZUmEjTdYcNOOy', 'spotify:track:2Fj0xRfFawHoR7iwWLKZsN', 'spotify:track:4wOG3ZPKObxclBFvP37k2q', 'spotify:track:6qEawoFqyQJ1svza3uX8SC', 'spotify:track:2OWgCQerFyJzMr9RFtd9Ki', 'spotify:track:3sMysfkZomvegYh9OoHLoN', 'spotify:track:44TUrQkYSC3EjzSoHeZxqr', 'spotify:track:70ZOfp4ojx5RdznGxv4Ge0', 'spotify:track:2JXlSpo0WWnf4pxAkOQsaH', 'spotify:track:13nx4q7D0w5tSlqXu3s6fH', 'spotify:track:183Jx5WQxbulmvpo3Jcmut', 'spotify:track:5gLSoWC1NTRxj55NHfTqN1', 'spotify:track:2cgnN2ch0xCsnTlsgBC2C4', 'spotify:track:2A2jFgb73WIdafBMdzJHmP', 'spotify:track:6ZUfEmnGCBJjj4KFav22ZG', 'spotify:track:1UVF4mdvmnAtzLkBvj2qcQ', 'spotify:track:5c0pykWPdEXTPXVxZU9TdR', 'spotify:track:4GkdqY3e21I6aWEFfq2QQW', 'spotify:track:3tDiHK7vSQJJPnlCtckiir', 'spotify:track:7embZxIXXYxCMVQVHkWbsP', 'spotify:track:3egIfI1hdiMgihFtwkfjIh', 'spotify:track:3rXFTzDTUEjQ4Hl7mZhxJ9', 'spotify:track:4cNlTzzwOzpHzVg0b8CXSe', 'spotify:track:5FBU9mSwHidKyfOQOPcKmB', 'spotify:track:11AXHVfhlzuJsSskhkfreL', 'spotify:track:6qc6RAA2rpOxLAjWdATq0C', 'spotify:track:2s5u5rd4bP7x2nFPnBSBwq', 'spotify:track:4xJEZofCTyzrD3Uru12Qxc', 'spotify:track:0GRLz35pa9B0jhcNMW48r3', 'spotify:track:1ZbifclKFExSvmtSTYfTRu', 'spotify:track:3awteMXWBzN0HRj07p5yFI', 'spotify:track:0wesSXnOaLWQiASfjUr5Ky', 'spotify:track:72klGRrchQhx9bOyE5O5Pj', 'spotify:track:7icVowjgatf359VSn0xLqP', 'spotify:track:6K89RghipbKyrWenR8XCcY', 'spotify:track:5Nj2MEDwSfZaaYPBYWkzkU', 'spotify:track:7KdLwa505qj5lPGD1Pqr0i', 'spotify:track:3MnPvgykxz7S0XkOkDVOlR', 'spotify:track:5POojsjVDfkIGU9S7uRPHg', 'spotify:track:5IoTerXq0IOBmzi93Pz6qM', 'spotify:track:36ieiiYgbc12cp4XeOPEgh', 'spotify:track:0TZFdB2Wt8oPUVR52rFmUV', 'spotify:track:5cUPESd4PIuuWyoPplG27W', 'spotify:track:48s4X6i5bSIaeCUdErXStP', 'spotify:track:68QzJMD2cqCYMsHt64UJzF', 'spotify:track:0pQvGy1DmlJcBTDIyTVKUK', 'spotify:track:0R8jvk4jg8rIQrBHYvKY8M', 'spotify:track:1vQArRICpLPp5ABD7igwqr', 'spotify:track:41NrFGY5hii1vVp4vvMR10', 'spotify:track:6bc3Z851377kU4Jd7xAyqJ', 'spotify:track:3XWRjEkpnr7x499vYioioD']\n",
      "['spotify:track:64V2V6OB84qULB4q2Qb50V', 'spotify:track:5RSF7RZffMcEzltDqnGVVT', 'spotify:track:3y7lXUh7k142q8HvqKRqw1', 'spotify:track:5PKvpqxoQyClcHmBVmWaCN', 'spotify:track:6PQaKbuk74oI3KzU41fytB', 'spotify:track:3TrprVxkd83RIWeWuMLkqR', 'spotify:track:2rDsATO8e3xqfnhRTvBmgY', 'spotify:track:4cAPjZtMzinFj1jdKo3Bl2', 'spotify:track:6xnS3J7oQAFqTj25EJc2iu', 'spotify:track:1i72qPaNpVBeTnMcGVbjYi', 'spotify:track:0Sg0kUThzzVEkPZbhVPxP1', 'spotify:track:0YI9bMJafTnaUbh8nhUl7E', 'spotify:track:0UeF9f7brJukOfJ2rHlFj9', 'spotify:track:3UnzMmZWjnEwFtMbXypBzW', 'spotify:track:0x32iD1aymoZsqdsXNVTyq', 'spotify:track:59r4xGhKwI5SpuxUylvTKP', 'spotify:track:3K6mPAaaOWaDDR0l0OjhOE', 'spotify:track:0caQ80s7fyh8xJzD8Sq6Ir', 'spotify:track:0H8ScUk9YkiaUj66l1PfUo', 'spotify:track:5heCeQmDXvw9jTwq5t1rFv', 'spotify:track:5b2ZnVZi3kDOMX8iflXKuO', 'spotify:track:4SKnkn7ANtSioxpxe6nrfw', 'spotify:track:7xUEsVEwSSXhjgBgZG57Tl', 'spotify:track:45XawIwfJvidP49VoO7hDY', 'spotify:track:4j1uZo4Fl9RfCfQMZiZN2D', 'spotify:track:1VSWfIyn6xz6OqTcthmznc', 'spotify:track:5eWyfJipdqtHPpZ6s2TMTv', 'spotify:track:61hcza2htcLmjjZTZLbdlB', 'spotify:track:0qhMdrRRVoyzF13OGge7Er', 'spotify:track:6ZggVT2x5uDIUZqGIJC7zQ', 'spotify:track:2nUy5biS1XHiU9RV89FZor', 'spotify:track:06sc8OdFDjFlLYFqnQIZFy', 'spotify:track:2Waxwn2EpASDLE0QXWnkhr', 'spotify:track:3L0VdQUHpPCXSGzfKVwmfN', 'spotify:track:037DAJ2ClglNQbEvXpGav4', 'spotify:track:3Wqq9SNrWfdQWqQg4xeYLo', 'spotify:track:4m1uPIncUjFUyzCbQArNIG', 'spotify:track:0pcNxQNgLYzJUfiehqWGlY', 'spotify:track:0Q1HzXQvsYdShfhPz95MPo', 'spotify:track:6LSRLf0GjGeIVavXPGnJFl', 'spotify:track:7mXpvHxoklNaMATCscYwo8', 'spotify:track:5UsyaEbBJKhJejVYnOrAWB', 'spotify:track:43Jwg6NHpaYYJmGlPEdHol', 'spotify:track:24LWgwtebjA0r6qokwilyq', 'spotify:track:1IZyyvRFbV611RtoV5iVsh', 'spotify:track:58n5ZfJWqcE5It8yvHX1YN', 'spotify:track:2PnlCFa5Ib91GckGHwdtVL', 'spotify:track:6sysoGPyH0159hBY4KJViW', 'spotify:track:3Bjd9PzAr0fnshrhKvLJBp', 'spotify:track:3H3RrT7cDpfXWromZIZEfv', 'spotify:track:6ZZcl29DXjh4Z18q8XJRMn', 'spotify:track:7A7opKCF4NGU61dpzDLJHk', 'spotify:track:1clWyYf7StQPqek4P0ZWM1', 'spotify:track:6CQxyXLKV0syL2eRvAz8oe', 'spotify:track:6pFz0Z0gGgfFw7r4Ya4PHl', 'spotify:track:1u2obfWWfNuxlTtZdZJoWD', 'spotify:track:7oou5Ht35k7Gmrqe0zFDYc', 'spotify:track:0rgHuRKDucSWv9CmDnBP5R', 'spotify:track:47DUFIoTy5cNTYbWjapFlf', 'spotify:track:4IlMGHp9mK2CebfeWYBOHd', 'spotify:track:0WmtuICNV7SqnQwYDa7F0t', 'spotify:track:2FhUmHM9VLFNTXWr244eDI', 'spotify:track:2lkZapTWS4JqKfFebsIT3u', 'spotify:track:0cQQpq4pw9wvnqKLoNvVHe', 'spotify:track:0ty2467ejOIwfjiQz2FBTq', 'spotify:track:5dq1qq41hLoXlcQKICO7k2', 'spotify:track:4XjGWYonpveK82XlhZkVxX', 'spotify:track:2yKnUcWDrWUTGyYXVwH7pF', 'spotify:track:50Vo26bZykcwXucU3Fsq4I', 'spotify:track:2WckDInDBA727PQdMjQclL', 'spotify:track:2N0mWaNpdAuWJyZqupKjaQ', 'spotify:track:07XUxXrA3IWLCMwiEYjZ6w', 'spotify:track:7k1SmtJlO0ObTdq7unsBih', 'spotify:track:1U2zS02pLyoAao5yjywmeL', 'spotify:track:4G9tht7zPJwT0XcJBxafnf', 'spotify:track:69FrTKMtB4XKQvIt1eaMs1', 'spotify:track:2ordaw8ZCJQZmE0Llh1eFG', 'spotify:track:3K40yXUifZh7dyPrEpgEPI', 'spotify:track:3e3wykf7sgmG6GWKORfMHd', 'spotify:track:0RlC8gQmtupGoklgc97LVa', 'spotify:track:1C7kuQ0TjfxvEHSFqLEl42', 'spotify:track:0mWwoJf3MLLZtnHH1VlxPM', 'spotify:track:3gN4UFoOnRHlMl3K4kU5zG', 'spotify:track:1d4L5fYrL1UDGEuwJ3wTcW', 'spotify:track:5bHzB3Z0RwskcP2bWMSBuh', 'spotify:track:2q2EaIewdQJWtHBceoLBb4', 'spotify:track:2XIYfFRlUT5LfGV0PPBPKh', 'spotify:track:6FVci82gXravDnKkFeNZt5', 'spotify:track:6nWTotm2hMM04TbCwk1F0x', 'spotify:track:2CEVuWnjKC4ES6o5H2KOLP', 'spotify:track:7u1b1O4TBR9BytsoUOOrkr', 'spotify:track:6LI8nlGCj4sbzGaewMtzZv', 'spotify:track:0ADos2DkubtGWEkNBtv9Nl', 'spotify:track:0maokL8quBHmsMn5JMef7T', 'spotify:track:1EbeI2AlUNkm6o00x0XMb9', 'spotify:track:60qFJiGvIKp6S8owIkCCeG', 'spotify:track:5IOa508XEMGyWNuwOK5dci', 'spotify:track:33TsGtmDqvIaEP1zpsLJ6f', 'spotify:track:7bdyenvfFT9l93FueYzI4R', 'spotify:track:5jSHYxzQZnUNr53CHaGPWi']\n",
      "['spotify:track:5qzhzPTWQ8SiZl1IghCfDo', 'spotify:track:4vIDAyCIP25X9GTIc1Rdcf', 'spotify:track:1vBb0m2Ggsj9MTtwrVKW1I', 'spotify:track:5uifjnTXUdVEudGbz2MpI4', 'spotify:track:6vyTxmQ1PdbUPjRcQklIYJ', 'spotify:track:28aiWsIpLzWVd7ahtLaE8z', 'spotify:track:0QpSYIRi0COX3bnQX7KJwp', 'spotify:track:33cn39u2bVd0sXXKJE0KxR', 'spotify:track:0QWWRJ8djuwqTMaJlau16v', 'spotify:track:0uwwLcGldxdRigN0csPc3N', 'spotify:track:05Gj0QRXqoIn4ncNdo7Lj5', 'spotify:track:3BW6eFKWBuZwboKvQ8taHf', 'spotify:track:7FNUpUm2F8qXe3cj2BW5vq', 'spotify:track:2lyPzoqaD7dg4RrYnpFWlU', 'spotify:track:5SgHomQh6oG9NBuuZooEAO', 'spotify:track:7gSZK7o8B2cwgQHfkfRZ1F', 'spotify:track:4ZrKltV7kCCD1OMb3BMP4g', 'spotify:track:2J6b6QJ8G0A0NiLLuy2Beh', 'spotify:track:12mcykaSo9UKd0nURqd8Mr', 'spotify:track:0UZoLW2jfRPoGMdKPvBdBl', 'spotify:track:6iCsxY7ylVPS9Okw6QZfAU', 'spotify:track:6lKGMYbjwop0udAS8CgIAg', 'spotify:track:4AKGj2MWGWVtsSkLNAitPK', 'spotify:track:6MpO4Pt68ufyhKGryLzlap', 'spotify:track:6l4TjW6qBehz8zDc9dLYKa', 'spotify:track:5olzYa5RxE6BJySlNNSkXw', 'spotify:track:5cc9YWfqxxA9G4zBY1H69s', 'spotify:track:2uV2PaFfZ8wSeuT4DalECd', 'spotify:track:5g3ER8mhyQMav1PPU5OpTR', 'spotify:track:6nxBIaMr6CfSAirLxo7PsL', 'spotify:track:2vtxUc8GdARP4D4XmYiSE2', 'spotify:track:4dF6mWZQXyL7L1MZQPyKdE', 'spotify:track:1dOf8U4f04s6D5HLxjE9Pq', 'spotify:track:20D80BiEIHWfWOEGu4jHuA', 'spotify:track:4MRylYuw7JcYVuSo3YFy5f', 'spotify:track:3XEIy33TcVLkfymSXNle4H', 'spotify:track:0WibCdzfxOKPsVravraBTD', 'spotify:track:6m6nqx7aQxBHtcfa7iLiGW', 'spotify:track:7dVDWf0wud70V4PgYfKnaG', 'spotify:track:0eUJzAGs9OKSOmLVpsng7e', 'spotify:track:1Cq8IdsiaMiieYuLN8iEm0', 'spotify:track:3LRJbFT9rKoKv4aW7PuBJC', 'spotify:track:5kr3j5Clb9rjEposoMyLVt', 'spotify:track:5z2XqieaqxpCJc3ntZ6Ye3', 'spotify:track:6L89mwZXSOwYl76YXfX13s', 'spotify:track:4wsQGsdf8D0Bj26cGdvreB', 'spotify:track:4oqF9y2thGJh7hFd1hqItt', 'spotify:track:1Dr1fXbc2IxaK1Mu8P8Khz', 'spotify:track:435j8ueVosOip0Vjm3vvj5', 'spotify:track:1gPwAnimmoEt2y3LXa9ysx', 'spotify:track:4GSyhhe5HHAytp7KlmWlZX', 'spotify:track:409hGnupGUeqjzpv4Ycs3g', 'spotify:track:0fatcDJuNxjxA9tuBsQkrm', 'spotify:track:6BnJZQdpQgA3WrFErtMH67', 'spotify:track:2RqCb0lQZIxhp8jeciy7ZQ', 'spotify:track:5m40noM9fKYZnz6gSZJuim', 'spotify:track:0B3pmm6gmlkYgbJ7HRFBGt', 'spotify:track:43WJKLBFnLRd8Y1MJDpJLI', 'spotify:track:0PpzNBbYdvnuwuswRW06Pw', 'spotify:track:3HEDDZXTBd9demOxriplCE', 'spotify:track:5Qf70XwRo6ZBAG8ddert4J', 'spotify:track:0hpTqC9fLSYw1iABoeKkmU', 'spotify:track:770HgPsMs1ca0IGYKdkgUn', 'spotify:track:0MtcRvFXWBdvaxPdNBCIzB', 'spotify:track:4T1PtJLCbe7MIsvhQZURXL', 'spotify:track:1DxqlPitj6MvQsJy7bgZr2', 'spotify:track:6Gd7J9dJP6pmdSD3cim5fY', 'spotify:track:35IjJLZA3MRmPZTNdLMZMG', 'spotify:track:02OcQGYnpuhrUfRd1MuE1e', 'spotify:track:5xKC8K243QQ9RO247oPJ2n', 'spotify:track:0L0XLMEvIPtvibuBQ6C00e', 'spotify:track:60JFTe6ha3Egq5WarmNEcr', 'spotify:track:2vlQv3rbxCzOnsGeUM3DDD', 'spotify:track:59VSdfioFfJNMiITgzjxLN', 'spotify:track:59QwZa9xF8swL7URW3VWZI', 'spotify:track:6pM25DLzJb5oWj74d3ElXI', 'spotify:track:3cAt6iKCDl6S3HuRUgmrmR', 'spotify:track:7LZl1tWRNAPXLY4IgbCjmt', 'spotify:track:1O1Dzi3VvUfs0GAbcjqxJC', 'spotify:track:3sPF3aG0odWDC0incpZD6U', 'spotify:track:7wQxaly8yxg8dDq0x7Pn4m', 'spotify:track:4vHnMqufOeVi4Q9Xl3kho8', 'spotify:track:3CDkk8OaLtN9bU21G8O1qB', 'spotify:track:7ksHlAdmLYHiN1sk7Mcvzw', 'spotify:track:2AuDyEx6vmLhKAwnGz18gB', 'spotify:track:6471zt9nuKXLwEOItOgDld', 'spotify:track:3KzCJGegAcwsSik1bOgkNu', 'spotify:track:5D7b6EIOtEW8X6YkWqah29', 'spotify:track:6tkTwjsmbX71sVUugD8szN', 'spotify:track:6NH447bfY33XyUxjcdYR8k', 'spotify:track:6ivSibCrdgMEIkzV9RViR7', 'spotify:track:6kuOcML4JpguqS0JEZ86jG', 'spotify:track:6UNZ3vMZjyAXWaCqTFMPNU', 'spotify:track:3jAW2BO3ECM1EigTKv4l98', 'spotify:track:0O9pHkUWSuQ3nIB26pPBTT', 'spotify:track:0TQRAjW5ZJ6Pv0jTVSzcKH', 'spotify:track:7p1LhMwTTiSKbV7I1uDAXZ', 'spotify:track:250dZY8xYbhHGQpM6bgL52', 'spotify:track:1Pl8FlVHZLZ6xab4bI2Ifk', 'spotify:track:1nfJsfAvQcpUUpd1aiTa3e']\n",
      "['spotify:track:2QyZQSDzRttz6vnN97gIvZ', 'spotify:track:0tlW346zFDUorDHRTFH5xW', 'spotify:track:05zMBBrA6nfNKgIHr39Qag', 'spotify:track:44SOPAtToIiK6T7ymCzIQh', 'spotify:track:3dCpF5QkA5iLY1tdXfwhQG', 'spotify:track:1kdOyXo3rKybFmIXUJTZos', 'spotify:track:1S0egMZzqFcSJVTxBcZCE0', 'spotify:track:0o5pylc4ngl9741pSno7sg', 'spotify:track:2jYXjqcf4w88bB6CjUUIHM', 'spotify:track:6i7EVjdErWcJkY0uEZvuQU', 'spotify:track:0KEtQQtdFIUIpbfoMhOkvo', 'spotify:track:0s65IcHA87v0wCuh5G6ixJ', 'spotify:track:5yt5fYtZ0bkuhbjGNW35n3', 'spotify:track:6sxMkRwoNw8P3DomsWHEqX', 'spotify:track:7CuUTw0Dctc5AbirwgC5AU', 'spotify:track:5YxAovrycfX6ZLSgh8GGQv', 'spotify:track:6BlwRjCcMbcOdTrjcpebI6', 'spotify:track:2ZMeJ1235vfCN8dpqbeuBj', 'spotify:track:5b3CZPCMGKbF9S6KyCnB98', 'spotify:track:0xFEpNfqtoBgXeaUDwN6el', 'spotify:track:4j1OTpSF5ejqYPKwqHvlzM', 'spotify:track:5VJ3TBLhxLYGVGAYJYq45B', 'spotify:track:6ICtYhjPU0GFkR1jZk5UrN', 'spotify:track:0pIsDm8kCkZPiq3z2hGmd4', 'spotify:track:6s5v3XCDifgf8im0N3JokX', 'spotify:track:3DHHaUZrjhEV4jTWJYCbB7', 'spotify:track:218U1R2XrDJCpwNeGNsye1', 'spotify:track:48kxuz4mbDd6akKMgrZXS1', 'spotify:track:3r7p1yUo7SZIU8xPZS1UC9', 'spotify:track:5STQAXpQv4i7kb0sWcXz5s', 'spotify:track:7pwO6aX8ILrlwaO52eZ5hq', 'spotify:track:1Z9eJAfzhCbf1QmTAwbHaB', 'spotify:track:0PnHFj5p161OXGbQFHBSM9', 'spotify:track:5gm1nPCTf9jEMKhGVJ6OUA', 'spotify:track:3juy5joy7ARDRDegwVECDw', 'spotify:track:2I3zKTvwq866ali8Mj1gUE', 'spotify:track:77Upinp1pELYftwwTgYlqU', 'spotify:track:1mJqnGZR8ccbb6kmtbzjqH', 'spotify:track:2OlcRQzDC8eCemfNvbsgk1', 'spotify:track:1P99YZCwyc5t2rjAwSIS2f', 'spotify:track:3jZM2TERaIpvp3lCC2lUTx', 'spotify:track:1MlaA16ycFZe18RNNAOBLv', 'spotify:track:68ioOYKaDj33Rwx3CZYVSr', 'spotify:track:4IeJUGVwJHtmgcNDt6eoVM', 'spotify:track:0uXOGR6Acxyh3mEvvhbr9M', 'spotify:track:6TiHIq1jwW4MLKBs7FDsjd', 'spotify:track:69iz2ixIeDPQz7hLoA1FvM', 'spotify:track:4Po4zlIss7wA4kBCFtdT0x', 'spotify:track:2qKJDGceHOGeUNIxLsxqIE', 'spotify:track:6Nd9GUm4NeujI4OCC8QF2G', 'spotify:track:6GSscYpommdsSxoOLVx6bY', 'spotify:track:36aS89QHtfR02T1oHRBOe3', 'spotify:track:5zZgoYzUjsLINdPEt7VoWO', 'spotify:track:72VqIWmCDS423j8TglfMWK', 'spotify:track:5mC5BYYc2yoAm3vGvA5hml', 'spotify:track:0biGKHOtNVGM14sRSztyKq', 'spotify:track:0734v426krcGYoB7d3763w', 'spotify:track:2SGuYVkOIzb1c2e5vqSiSE', 'spotify:track:4Am38rTBjlpzITIhHzdjOr', 'spotify:track:7uJViKw4V3NmhgzGocCssd', 'spotify:track:6OK1iexsAs6aDOYZmGI9nD', 'spotify:track:1iHavFgXJBn5BY4FniZ4L5', 'spotify:track:1mYUMz33TzyIQf3sXxVG5c', 'spotify:track:3235oACs0MFOCeO09F4HoB']\n"
     ]
    }
   ],
   "source": [
    "\n",
    "for i in range(0, len(track_ids), 100):\n",
    "    print(track_ids[i:i+100])"
   ]
  },
  {
   "cell_type": "code",
   "execution_count": 234,
   "metadata": {},
   "outputs": [
    {
     "data": {
      "text/plain": [
       "'spotify:track:0Jt58oonOn1kfMh4VDRZ79'"
      ]
     },
     "execution_count": 234,
     "metadata": {},
     "output_type": "execute_result"
    }
   ],
   "source": [
    "track_ids[0]"
   ]
  },
  {
   "cell_type": "code",
   "execution_count": 244,
   "metadata": {},
   "outputs": [
    {
     "name": "stdout",
     "output_type": "stream",
     "text": [
      "{'snapshot_id': 'NTMsNzMyOTcwZjM0MzMzMTc4MTU0NzhlNWM3ZWY3YTQ0YmI2MWEwOWJmNw=='}\n",
      "{'snapshot_id': 'NTQsOGJjZjE4MjUzNTdkNGE3ZjJiOTQ0NGUyZTkzOGVkMzlkNDI4YjMyNQ=='}\n",
      "{'snapshot_id': 'NTUsZTAyZmNmNDhhNDBmYzFiZjUwMDYwZTE1ZWVlNDZkZWI4M2JiODE4YQ=='}\n",
      "{'snapshot_id': 'NTYsYTI2ZDE1NmE0OGVlNzdiZjdiMmQwZGVmYWEwZjlkNTJiMDA4YWQwYg=='}\n",
      "{'snapshot_id': 'NTcsNDEyYmFlMTk0M2FhNWNjMzcwY2JjYjdjZmMwYjYyYWExNzg4ZTM0OA=='}\n",
      "{'snapshot_id': 'NTgsMzFhYmE2MDQ1ZDMwZTYxNzhjZDE1YTFhNjgyZDEyOTUwNzkwYmM1Yg=='}\n",
      "{'snapshot_id': 'NTksMDg0ZDJhYzBhZmNkYmM4NGJhZWEzYzQ5NjczN2NjYzMyZGE3NWU3NQ=='}\n",
      "{'snapshot_id': 'NjAsNzg3YjljNjIzMTY0M2MxMGJhN2IxMDQxZDMxYWZjZTkzMDhkYzRiZQ=='}\n"
     ]
    }
   ],
   "source": [
    "for i in range(0, len(track_ids), 100):\n",
    "            tracks_to_playlist(track_ids[i:i+100])"
   ]
  },
  {
   "cell_type": "code",
   "execution_count": 232,
   "metadata": {},
   "outputs": [
    {
     "ename": "SyntaxError",
     "evalue": "invalid syntax (<ipython-input-232-0588db6c6465>, line 8)",
     "output_type": "error",
     "traceback": [
      "\u001b[0;36m  File \u001b[0;32m\"<ipython-input-232-0588db6c6465>\"\u001b[0;36m, line \u001b[0;32m8\u001b[0m\n\u001b[0;31m    if count == len(tracklist):\u001b[0m\n\u001b[0m     ^\u001b[0m\n\u001b[0;31mSyntaxError\u001b[0m\u001b[0;31m:\u001b[0m invalid syntax\n"
     ]
    }
   ],
   "source": [
    "count = 0 \n",
    "\n",
    "while count < len(track_ids):\n",
    "    try:\n",
    "        for i in range(0, len(track_ids), 100):\n",
    "            tracks_to_playlist(track_ids[i:i+100])\n",
    "            count += 100\n",
    "    if count == len(track_ids):\n",
    "        break"
   ]
  },
  {
   "cell_type": "code",
   "execution_count": null,
   "metadata": {},
   "outputs": [],
   "source": []
  }
 ],
 "metadata": {
  "kernelspec": {
   "display_name": "Python 3",
   "language": "python",
   "name": "python3"
  },
  "language_info": {
   "codemirror_mode": {
    "name": "ipython",
    "version": 3
   },
   "file_extension": ".py",
   "mimetype": "text/x-python",
   "name": "python",
   "nbconvert_exporter": "python",
   "pygments_lexer": "ipython3",
   "version": "3.7.4"
  }
 },
 "nbformat": 4,
 "nbformat_minor": 4
}
